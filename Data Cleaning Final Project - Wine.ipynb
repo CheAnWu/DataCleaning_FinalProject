{
 "cells": [
  {
   "cell_type": "code",
   "execution_count": 1,
   "metadata": {},
   "outputs": [
    {
     "name": "stdout",
     "output_type": "stream",
     "text": [
      "Downloading emoji data ...\n",
      "... OK (Got response in 0.27 seconds)\n",
      "Writing emoji data to /Users/cheawu/.demoji/codes.json ...\n",
      "... OK\n"
     ]
    },
    {
     "name": "stderr",
     "output_type": "stream",
     "text": [
      "[nltk_data] Downloading package stopwords to\n",
      "[nltk_data]     /Users/cheawu/nltk_data...\n",
      "[nltk_data]   Package stopwords is already up-to-date!\n"
     ]
    },
    {
     "data": {
      "text/plain": [
       "True"
      ]
     },
     "execution_count": 1,
     "metadata": {},
     "output_type": "execute_result"
    }
   ],
   "source": [
    "import pandas as pd\n",
    "import numpy as np\n",
    "import matplotlib.pyplot as plt\n",
    "import seaborn as sns\n",
    "from scipy import stats\n",
    "from scipy.stats import norm, skew\n",
    "import re\n",
    "import string\n",
    "import nltk\n",
    "from nltk.corpus import stopwords\n",
    "from sklearn.linear_model import Lasso, LogisticRegression\n",
    "from nltk.tokenize import RegexpTokenizer\n",
    "from sklearn.feature_extraction.text import TfidfVectorizer\n",
    "import demoji\n",
    "import pandas_dedupe\n",
    "from scipy.sparse import csr_matrix\n",
    "import sparse_dot_topn.sparse_dot_topn as ct\n",
    "demoji.download_codes()\n",
    "nltk.download('stopwords')"
   ]
  },
  {
   "cell_type": "markdown",
   "metadata": {},
   "source": [
    "### Import Data and Perform Initial Analysis\n",
    "***"
   ]
  },
  {
   "cell_type": "code",
   "execution_count": 2,
   "metadata": {},
   "outputs": [],
   "source": [
    "df = pd.read_csv(\"winemag-data-130k-v2.csv\", index_col=0)"
   ]
  },
  {
   "cell_type": "code",
   "execution_count": 3,
   "metadata": {},
   "outputs": [
    {
     "data": {
      "text/html": [
       "<div>\n",
       "<style scoped>\n",
       "    .dataframe tbody tr th:only-of-type {\n",
       "        vertical-align: middle;\n",
       "    }\n",
       "\n",
       "    .dataframe tbody tr th {\n",
       "        vertical-align: top;\n",
       "    }\n",
       "\n",
       "    .dataframe thead th {\n",
       "        text-align: right;\n",
       "    }\n",
       "</style>\n",
       "<table border=\"1\" class=\"dataframe\">\n",
       "  <thead>\n",
       "    <tr style=\"text-align: right;\">\n",
       "      <th></th>\n",
       "      <th>country</th>\n",
       "      <th>description</th>\n",
       "      <th>designation</th>\n",
       "      <th>points</th>\n",
       "      <th>price</th>\n",
       "      <th>province</th>\n",
       "      <th>region_1</th>\n",
       "      <th>region_2</th>\n",
       "      <th>taster_name</th>\n",
       "      <th>taster_twitter_handle</th>\n",
       "      <th>title</th>\n",
       "      <th>variety</th>\n",
       "      <th>winery</th>\n",
       "    </tr>\n",
       "  </thead>\n",
       "  <tbody>\n",
       "    <tr>\n",
       "      <td>0</td>\n",
       "      <td>Italy</td>\n",
       "      <td>Aromas include tropical fruit, broom, brimston...</td>\n",
       "      <td>Vulkà Bianco</td>\n",
       "      <td>87</td>\n",
       "      <td>NaN</td>\n",
       "      <td>Sicily &amp; Sardinia</td>\n",
       "      <td>Etna</td>\n",
       "      <td>NaN</td>\n",
       "      <td>Kerin O’Keefe</td>\n",
       "      <td>@kerinokeefe</td>\n",
       "      <td>Nicosia 2013 Vulkà Bianco  (Etna)</td>\n",
       "      <td>White Blend</td>\n",
       "      <td>Nicosia</td>\n",
       "    </tr>\n",
       "    <tr>\n",
       "      <td>1</td>\n",
       "      <td>Portugal</td>\n",
       "      <td>This is ripe and fruity, a wine that is smooth...</td>\n",
       "      <td>Avidagos</td>\n",
       "      <td>87</td>\n",
       "      <td>15.0</td>\n",
       "      <td>Douro</td>\n",
       "      <td>NaN</td>\n",
       "      <td>NaN</td>\n",
       "      <td>Roger Voss</td>\n",
       "      <td>@vossroger</td>\n",
       "      <td>Quinta dos Avidagos 2011 Avidagos Red (Douro)</td>\n",
       "      <td>Portuguese Red</td>\n",
       "      <td>Quinta dos Avidagos</td>\n",
       "    </tr>\n",
       "    <tr>\n",
       "      <td>2</td>\n",
       "      <td>US</td>\n",
       "      <td>Tart and snappy, the flavors of lime flesh and...</td>\n",
       "      <td>NaN</td>\n",
       "      <td>87</td>\n",
       "      <td>14.0</td>\n",
       "      <td>Oregon</td>\n",
       "      <td>Willamette Valley</td>\n",
       "      <td>Willamette Valley</td>\n",
       "      <td>Paul Gregutt</td>\n",
       "      <td>@paulgwine</td>\n",
       "      <td>Rainstorm 2013 Pinot Gris (Willamette Valley)</td>\n",
       "      <td>Pinot Gris</td>\n",
       "      <td>Rainstorm</td>\n",
       "    </tr>\n",
       "    <tr>\n",
       "      <td>3</td>\n",
       "      <td>US</td>\n",
       "      <td>Pineapple rind, lemon pith and orange blossom ...</td>\n",
       "      <td>Reserve Late Harvest</td>\n",
       "      <td>87</td>\n",
       "      <td>13.0</td>\n",
       "      <td>Michigan</td>\n",
       "      <td>Lake Michigan Shore</td>\n",
       "      <td>NaN</td>\n",
       "      <td>Alexander Peartree</td>\n",
       "      <td>NaN</td>\n",
       "      <td>St. Julian 2013 Reserve Late Harvest Riesling ...</td>\n",
       "      <td>Riesling</td>\n",
       "      <td>St. Julian</td>\n",
       "    </tr>\n",
       "    <tr>\n",
       "      <td>4</td>\n",
       "      <td>US</td>\n",
       "      <td>Much like the regular bottling from 2012, this...</td>\n",
       "      <td>Vintner's Reserve Wild Child Block</td>\n",
       "      <td>87</td>\n",
       "      <td>65.0</td>\n",
       "      <td>Oregon</td>\n",
       "      <td>Willamette Valley</td>\n",
       "      <td>Willamette Valley</td>\n",
       "      <td>Paul Gregutt</td>\n",
       "      <td>@paulgwine</td>\n",
       "      <td>Sweet Cheeks 2012 Vintner's Reserve Wild Child...</td>\n",
       "      <td>Pinot Noir</td>\n",
       "      <td>Sweet Cheeks</td>\n",
       "    </tr>\n",
       "  </tbody>\n",
       "</table>\n",
       "</div>"
      ],
      "text/plain": [
       "    country                                        description  \\\n",
       "0     Italy  Aromas include tropical fruit, broom, brimston...   \n",
       "1  Portugal  This is ripe and fruity, a wine that is smooth...   \n",
       "2        US  Tart and snappy, the flavors of lime flesh and...   \n",
       "3        US  Pineapple rind, lemon pith and orange blossom ...   \n",
       "4        US  Much like the regular bottling from 2012, this...   \n",
       "\n",
       "                          designation  points  price           province  \\\n",
       "0                        Vulkà Bianco      87    NaN  Sicily & Sardinia   \n",
       "1                            Avidagos      87   15.0              Douro   \n",
       "2                                 NaN      87   14.0             Oregon   \n",
       "3                Reserve Late Harvest      87   13.0           Michigan   \n",
       "4  Vintner's Reserve Wild Child Block      87   65.0             Oregon   \n",
       "\n",
       "              region_1           region_2         taster_name  \\\n",
       "0                 Etna                NaN       Kerin O’Keefe   \n",
       "1                  NaN                NaN          Roger Voss   \n",
       "2    Willamette Valley  Willamette Valley        Paul Gregutt   \n",
       "3  Lake Michigan Shore                NaN  Alexander Peartree   \n",
       "4    Willamette Valley  Willamette Valley        Paul Gregutt   \n",
       "\n",
       "  taster_twitter_handle                                              title  \\\n",
       "0          @kerinokeefe                  Nicosia 2013 Vulkà Bianco  (Etna)   \n",
       "1            @vossroger      Quinta dos Avidagos 2011 Avidagos Red (Douro)   \n",
       "2           @paulgwine       Rainstorm 2013 Pinot Gris (Willamette Valley)   \n",
       "3                   NaN  St. Julian 2013 Reserve Late Harvest Riesling ...   \n",
       "4           @paulgwine   Sweet Cheeks 2012 Vintner's Reserve Wild Child...   \n",
       "\n",
       "          variety               winery  \n",
       "0     White Blend              Nicosia  \n",
       "1  Portuguese Red  Quinta dos Avidagos  \n",
       "2      Pinot Gris            Rainstorm  \n",
       "3        Riesling           St. Julian  \n",
       "4      Pinot Noir         Sweet Cheeks  "
      ]
     },
     "execution_count": 3,
     "metadata": {},
     "output_type": "execute_result"
    }
   ],
   "source": [
    "df.head()"
   ]
  },
  {
   "cell_type": "code",
   "execution_count": 4,
   "metadata": {},
   "outputs": [
    {
     "data": {
      "text/plain": [
       "(129971, 13)"
      ]
     },
     "execution_count": 4,
     "metadata": {},
     "output_type": "execute_result"
    }
   ],
   "source": [
    "df.shape"
   ]
  },
  {
   "cell_type": "code",
   "execution_count": 5,
   "metadata": {},
   "outputs": [
    {
     "name": "stdout",
     "output_type": "stream",
     "text": [
      "<class 'pandas.core.frame.DataFrame'>\n",
      "Int64Index: 129971 entries, 0 to 129970\n",
      "Data columns (total 13 columns):\n",
      "country                  129908 non-null object\n",
      "description              129971 non-null object\n",
      "designation              92506 non-null object\n",
      "points                   129971 non-null int64\n",
      "price                    120975 non-null float64\n",
      "province                 129908 non-null object\n",
      "region_1                 108724 non-null object\n",
      "region_2                 50511 non-null object\n",
      "taster_name              103727 non-null object\n",
      "taster_twitter_handle    98758 non-null object\n",
      "title                    129971 non-null object\n",
      "variety                  129970 non-null object\n",
      "winery                   129971 non-null object\n",
      "dtypes: float64(1), int64(1), object(11)\n",
      "memory usage: 13.9+ MB\n"
     ]
    }
   ],
   "source": [
    "df.info()"
   ]
  },
  {
   "cell_type": "code",
   "execution_count": 6,
   "metadata": {},
   "outputs": [],
   "source": [
    "def df_detail(df):\n",
    "    temp = pd.DataFrame(df.dtypes, columns=['dtypes'])\n",
    "    temp = temp.reset_index()\n",
    "    temp['Col_Name'] = temp['index']\n",
    "    temp = temp[['Col_Name','dtypes']]\n",
    "    temp['Missing_value'] = df.isnull().sum().values\n",
    "    temp['Missing_rate (%)'] = df.isnull().sum().values / df.shape[0] * 100\n",
    "    temp['Unique_value'] = df.nunique().values\n",
    "    temp['Unique_rate (%)'] = df.nunique().values / df.shape[0] * 100\n",
    "    return temp"
   ]
  },
  {
   "cell_type": "code",
   "execution_count": 7,
   "metadata": {},
   "outputs": [
    {
     "data": {
      "text/html": [
       "<div>\n",
       "<style scoped>\n",
       "    .dataframe tbody tr th:only-of-type {\n",
       "        vertical-align: middle;\n",
       "    }\n",
       "\n",
       "    .dataframe tbody tr th {\n",
       "        vertical-align: top;\n",
       "    }\n",
       "\n",
       "    .dataframe thead th {\n",
       "        text-align: right;\n",
       "    }\n",
       "</style>\n",
       "<table border=\"1\" class=\"dataframe\">\n",
       "  <thead>\n",
       "    <tr style=\"text-align: right;\">\n",
       "      <th></th>\n",
       "      <th>Col_Name</th>\n",
       "      <th>dtypes</th>\n",
       "      <th>Missing_value</th>\n",
       "      <th>Missing_rate (%)</th>\n",
       "      <th>Unique_value</th>\n",
       "      <th>Unique_rate (%)</th>\n",
       "    </tr>\n",
       "  </thead>\n",
       "  <tbody>\n",
       "    <tr>\n",
       "      <td>0</td>\n",
       "      <td>country</td>\n",
       "      <td>object</td>\n",
       "      <td>63</td>\n",
       "      <td>0.048472</td>\n",
       "      <td>43</td>\n",
       "      <td>0.033084</td>\n",
       "    </tr>\n",
       "    <tr>\n",
       "      <td>1</td>\n",
       "      <td>description</td>\n",
       "      <td>object</td>\n",
       "      <td>0</td>\n",
       "      <td>0.000000</td>\n",
       "      <td>119955</td>\n",
       "      <td>92.293666</td>\n",
       "    </tr>\n",
       "    <tr>\n",
       "      <td>2</td>\n",
       "      <td>designation</td>\n",
       "      <td>object</td>\n",
       "      <td>37465</td>\n",
       "      <td>28.825661</td>\n",
       "      <td>37979</td>\n",
       "      <td>29.221134</td>\n",
       "    </tr>\n",
       "    <tr>\n",
       "      <td>3</td>\n",
       "      <td>points</td>\n",
       "      <td>int64</td>\n",
       "      <td>0</td>\n",
       "      <td>0.000000</td>\n",
       "      <td>21</td>\n",
       "      <td>0.016157</td>\n",
       "    </tr>\n",
       "    <tr>\n",
       "      <td>4</td>\n",
       "      <td>price</td>\n",
       "      <td>float64</td>\n",
       "      <td>8996</td>\n",
       "      <td>6.921544</td>\n",
       "      <td>390</td>\n",
       "      <td>0.300067</td>\n",
       "    </tr>\n",
       "    <tr>\n",
       "      <td>5</td>\n",
       "      <td>province</td>\n",
       "      <td>object</td>\n",
       "      <td>63</td>\n",
       "      <td>0.048472</td>\n",
       "      <td>425</td>\n",
       "      <td>0.326996</td>\n",
       "    </tr>\n",
       "    <tr>\n",
       "      <td>6</td>\n",
       "      <td>region_1</td>\n",
       "      <td>object</td>\n",
       "      <td>21247</td>\n",
       "      <td>16.347493</td>\n",
       "      <td>1229</td>\n",
       "      <td>0.945596</td>\n",
       "    </tr>\n",
       "    <tr>\n",
       "      <td>7</td>\n",
       "      <td>region_2</td>\n",
       "      <td>object</td>\n",
       "      <td>79460</td>\n",
       "      <td>61.136715</td>\n",
       "      <td>17</td>\n",
       "      <td>0.013080</td>\n",
       "    </tr>\n",
       "    <tr>\n",
       "      <td>8</td>\n",
       "      <td>taster_name</td>\n",
       "      <td>object</td>\n",
       "      <td>26244</td>\n",
       "      <td>20.192197</td>\n",
       "      <td>19</td>\n",
       "      <td>0.014619</td>\n",
       "    </tr>\n",
       "    <tr>\n",
       "      <td>9</td>\n",
       "      <td>taster_twitter_handle</td>\n",
       "      <td>object</td>\n",
       "      <td>31213</td>\n",
       "      <td>24.015357</td>\n",
       "      <td>15</td>\n",
       "      <td>0.011541</td>\n",
       "    </tr>\n",
       "    <tr>\n",
       "      <td>10</td>\n",
       "      <td>title</td>\n",
       "      <td>object</td>\n",
       "      <td>0</td>\n",
       "      <td>0.000000</td>\n",
       "      <td>118840</td>\n",
       "      <td>91.435782</td>\n",
       "    </tr>\n",
       "    <tr>\n",
       "      <td>11</td>\n",
       "      <td>variety</td>\n",
       "      <td>object</td>\n",
       "      <td>1</td>\n",
       "      <td>0.000769</td>\n",
       "      <td>707</td>\n",
       "      <td>0.543968</td>\n",
       "    </tr>\n",
       "    <tr>\n",
       "      <td>12</td>\n",
       "      <td>winery</td>\n",
       "      <td>object</td>\n",
       "      <td>0</td>\n",
       "      <td>0.000000</td>\n",
       "      <td>16757</td>\n",
       "      <td>12.892876</td>\n",
       "    </tr>\n",
       "  </tbody>\n",
       "</table>\n",
       "</div>"
      ],
      "text/plain": [
       "                 Col_Name   dtypes  Missing_value  Missing_rate (%)  \\\n",
       "0                 country   object             63          0.048472   \n",
       "1             description   object              0          0.000000   \n",
       "2             designation   object          37465         28.825661   \n",
       "3                  points    int64              0          0.000000   \n",
       "4                   price  float64           8996          6.921544   \n",
       "5                province   object             63          0.048472   \n",
       "6                region_1   object          21247         16.347493   \n",
       "7                region_2   object          79460         61.136715   \n",
       "8             taster_name   object          26244         20.192197   \n",
       "9   taster_twitter_handle   object          31213         24.015357   \n",
       "10                  title   object              0          0.000000   \n",
       "11                variety   object              1          0.000769   \n",
       "12                 winery   object              0          0.000000   \n",
       "\n",
       "    Unique_value  Unique_rate (%)  \n",
       "0             43         0.033084  \n",
       "1         119955        92.293666  \n",
       "2          37979        29.221134  \n",
       "3             21         0.016157  \n",
       "4            390         0.300067  \n",
       "5            425         0.326996  \n",
       "6           1229         0.945596  \n",
       "7             17         0.013080  \n",
       "8             19         0.014619  \n",
       "9             15         0.011541  \n",
       "10        118840        91.435782  \n",
       "11           707         0.543968  \n",
       "12         16757        12.892876  "
      ]
     },
     "execution_count": 7,
     "metadata": {},
     "output_type": "execute_result"
    }
   ],
   "source": [
    "df_detail(df)"
   ]
  },
  {
   "cell_type": "markdown",
   "metadata": {},
   "source": [
    "The columns with relatively high missing value rate are region_2, region_1, taster_name, designation, and twitter_handle.\n"
   ]
  },
  {
   "cell_type": "markdown",
   "metadata": {},
   "source": [
    "## Analyzing Features\n",
    "---"
   ]
  },
  {
   "cell_type": "markdown",
   "metadata": {},
   "source": [
    "### Numerical features\n",
    " - Points (int64)\n",
    " - Price (float64)"
   ]
  },
  {
   "cell_type": "code",
   "execution_count": 8,
   "metadata": {},
   "outputs": [
    {
     "data": {
      "text/html": [
       "<div>\n",
       "<style scoped>\n",
       "    .dataframe tbody tr th:only-of-type {\n",
       "        vertical-align: middle;\n",
       "    }\n",
       "\n",
       "    .dataframe tbody tr th {\n",
       "        vertical-align: top;\n",
       "    }\n",
       "\n",
       "    .dataframe thead th {\n",
       "        text-align: right;\n",
       "    }\n",
       "</style>\n",
       "<table border=\"1\" class=\"dataframe\">\n",
       "  <thead>\n",
       "    <tr style=\"text-align: right;\">\n",
       "      <th></th>\n",
       "      <th>points</th>\n",
       "      <th>price</th>\n",
       "    </tr>\n",
       "  </thead>\n",
       "  <tbody>\n",
       "    <tr>\n",
       "      <td>count</td>\n",
       "      <td>129971.000000</td>\n",
       "      <td>120975.000000</td>\n",
       "    </tr>\n",
       "    <tr>\n",
       "      <td>mean</td>\n",
       "      <td>88.447138</td>\n",
       "      <td>35.363389</td>\n",
       "    </tr>\n",
       "    <tr>\n",
       "      <td>std</td>\n",
       "      <td>3.039730</td>\n",
       "      <td>41.022218</td>\n",
       "    </tr>\n",
       "    <tr>\n",
       "      <td>min</td>\n",
       "      <td>80.000000</td>\n",
       "      <td>4.000000</td>\n",
       "    </tr>\n",
       "    <tr>\n",
       "      <td>25%</td>\n",
       "      <td>86.000000</td>\n",
       "      <td>17.000000</td>\n",
       "    </tr>\n",
       "    <tr>\n",
       "      <td>50%</td>\n",
       "      <td>88.000000</td>\n",
       "      <td>25.000000</td>\n",
       "    </tr>\n",
       "    <tr>\n",
       "      <td>75%</td>\n",
       "      <td>91.000000</td>\n",
       "      <td>42.000000</td>\n",
       "    </tr>\n",
       "    <tr>\n",
       "      <td>max</td>\n",
       "      <td>100.000000</td>\n",
       "      <td>3300.000000</td>\n",
       "    </tr>\n",
       "  </tbody>\n",
       "</table>\n",
       "</div>"
      ],
      "text/plain": [
       "              points          price\n",
       "count  129971.000000  120975.000000\n",
       "mean       88.447138      35.363389\n",
       "std         3.039730      41.022218\n",
       "min        80.000000       4.000000\n",
       "25%        86.000000      17.000000\n",
       "50%        88.000000      25.000000\n",
       "75%        91.000000      42.000000\n",
       "max       100.000000    3300.000000"
      ]
     },
     "execution_count": 8,
     "metadata": {},
     "output_type": "execute_result"
    }
   ],
   "source": [
    "df.describe()"
   ]
  },
  {
   "cell_type": "markdown",
   "metadata": {},
   "source": [
    "#### Points\n",
    "---"
   ]
  },
  {
   "cell_type": "markdown",
   "metadata": {},
   "source": [
    "The value of points are distributed between 80 and 100, let's take a look at the distribution by plotting a histogram."
   ]
  },
  {
   "cell_type": "code",
   "execution_count": 9,
   "metadata": {},
   "outputs": [
    {
     "data": {
      "image/png": "[encoded data removed]",
      "text/plain": [
       "<Figure size 1080x432 with 1 Axes>"
      ]
     },
     "metadata": {
      "needs_background": "light"
     },
     "output_type": "display_data"
    }
   ],
   "source": [
    "tmp_df = pd.DataFrame({'points': df[\"points\"].value_counts().index, 'count': df[\"points\"].value_counts().values})\n",
    "plt.figure(figsize = (15,6))\n",
    "plt.title('Points Distribution')\n",
    "sns.barplot(x= 'points', y= 'count', data=tmp_df)\n",
    "locs, labels = plt.xticks()\n",
    "plt.show()"
   ]
  },
  {
   "cell_type": "markdown",
   "metadata": {},
   "source": [
    "#### Price\n",
    "---"
   ]
  },
  {
   "cell_type": "markdown",
   "metadata": {},
   "source": [
    "- We're worried about wines with missing value in \"Price\" column since we want to discover the price-performace ratio of different wine types, and we don't want to make prediction for wines which price is missing.\n",
    "- Drop all the rows which \"price\" value is NaN."
   ]
  },
  {
   "cell_type": "code",
   "execution_count": 10,
   "metadata": {},
   "outputs": [],
   "source": [
    "df = df.dropna(subset=['price'])\n",
    "df = df.reset_index(drop=True)"
   ]
  },
  {
   "cell_type": "markdown",
   "metadata": {},
   "source": [
    "The mininum price is 4, the maximum price is 3,300, and the mean value is 35.36. Based on the min, max, and mean, we can know that the distribution of price is not an normal distribution, it might contains some outliers, so we would like to look at the distribution of price by plotting a histogram too.\n"
   ]
  },
  {
   "cell_type": "markdown",
   "metadata": {},
   "source": [
    "We're curious about how many wine records which price is more than 1,000. We found that 14 wine's price is greater than 1,000 and 12 of them are from France."
   ]
  },
  {
   "cell_type": "code",
   "execution_count": 11,
   "metadata": {},
   "outputs": [
    {
     "data": {
      "text/html": [
       "<div>\n",
       "<style scoped>\n",
       "    .dataframe tbody tr th:only-of-type {\n",
       "        vertical-align: middle;\n",
       "    }\n",
       "\n",
       "    .dataframe tbody tr th {\n",
       "        vertical-align: top;\n",
       "    }\n",
       "\n",
       "    .dataframe thead th {\n",
       "        text-align: right;\n",
       "    }\n",
       "</style>\n",
       "<table border=\"1\" class=\"dataframe\">\n",
       "  <thead>\n",
       "    <tr style=\"text-align: right;\">\n",
       "      <th></th>\n",
       "      <th>country</th>\n",
       "      <th>description</th>\n",
       "      <th>designation</th>\n",
       "      <th>points</th>\n",
       "      <th>price</th>\n",
       "      <th>province</th>\n",
       "      <th>region_1</th>\n",
       "      <th>region_2</th>\n",
       "      <th>taster_name</th>\n",
       "      <th>taster_twitter_handle</th>\n",
       "      <th>title</th>\n",
       "      <th>variety</th>\n",
       "      <th>winery</th>\n",
       "    </tr>\n",
       "  </thead>\n",
       "  <tbody>\n",
       "    <tr>\n",
       "      <td>1472</td>\n",
       "      <td>France</td>\n",
       "      <td>A massive wine for Margaux, packed with tannin...</td>\n",
       "      <td>NaN</td>\n",
       "      <td>98</td>\n",
       "      <td>1900.0</td>\n",
       "      <td>Bordeaux</td>\n",
       "      <td>Margaux</td>\n",
       "      <td>NaN</td>\n",
       "      <td>Roger Voss</td>\n",
       "      <td>@vossroger</td>\n",
       "      <td>Château Margaux 2009  Margaux</td>\n",
       "      <td>Bordeaux-style Red Blend</td>\n",
       "      <td>Château Margaux</td>\n",
       "    </tr>\n",
       "    <tr>\n",
       "      <td>1480</td>\n",
       "      <td>France</td>\n",
       "      <td>Such a generous and ripe wine, with a dark cor...</td>\n",
       "      <td>NaN</td>\n",
       "      <td>97</td>\n",
       "      <td>1100.0</td>\n",
       "      <td>Bordeaux</td>\n",
       "      <td>Pessac-Léognan</td>\n",
       "      <td>NaN</td>\n",
       "      <td>Roger Voss</td>\n",
       "      <td>@vossroger</td>\n",
       "      <td>Château La Mission Haut-Brion 2009  Pessac-Léo...</td>\n",
       "      <td>Bordeaux-style Red Blend</td>\n",
       "      <td>Château La Mission Haut-Brion</td>\n",
       "    </tr>\n",
       "    <tr>\n",
       "      <td>1485</td>\n",
       "      <td>France</td>\n",
       "      <td>Solid, very structured, packed with dense and ...</td>\n",
       "      <td>NaN</td>\n",
       "      <td>96</td>\n",
       "      <td>1200.0</td>\n",
       "      <td>Bordeaux</td>\n",
       "      <td>Pessac-Léognan</td>\n",
       "      <td>NaN</td>\n",
       "      <td>Roger Voss</td>\n",
       "      <td>@vossroger</td>\n",
       "      <td>Château Haut-Brion 2009  Pessac-Léognan</td>\n",
       "      <td>Bordeaux-style Red Blend</td>\n",
       "      <td>Château Haut-Brion</td>\n",
       "    </tr>\n",
       "    <tr>\n",
       "      <td>1488</td>\n",
       "      <td>France</td>\n",
       "      <td>The purest Cabernet Sauvignon fruit, with dark...</td>\n",
       "      <td>NaN</td>\n",
       "      <td>96</td>\n",
       "      <td>1300.0</td>\n",
       "      <td>Bordeaux</td>\n",
       "      <td>Pauillac</td>\n",
       "      <td>NaN</td>\n",
       "      <td>Roger Voss</td>\n",
       "      <td>@vossroger</td>\n",
       "      <td>Château Mouton Rothschild 2009  Pauillac</td>\n",
       "      <td>Bordeaux-style Red Blend</td>\n",
       "      <td>Château Mouton Rothschild</td>\n",
       "    </tr>\n",
       "    <tr>\n",
       "      <td>14744</td>\n",
       "      <td>France</td>\n",
       "      <td>The wine is a velvet glove in an iron fist. Th...</td>\n",
       "      <td>NaN</td>\n",
       "      <td>96</td>\n",
       "      <td>2500.0</td>\n",
       "      <td>Bordeaux</td>\n",
       "      <td>Pomerol</td>\n",
       "      <td>NaN</td>\n",
       "      <td>Roger Voss</td>\n",
       "      <td>@vossroger</td>\n",
       "      <td>Château Pétrus 2014  Pomerol</td>\n",
       "      <td>Bordeaux-style Red Blend</td>\n",
       "      <td>Château Pétrus</td>\n",
       "    </tr>\n",
       "    <tr>\n",
       "      <td>60684</td>\n",
       "      <td>France</td>\n",
       "      <td>This extravagantly perfumed wine has great jui...</td>\n",
       "      <td>NaN</td>\n",
       "      <td>97</td>\n",
       "      <td>2000.0</td>\n",
       "      <td>Bordeaux</td>\n",
       "      <td>Pomerol</td>\n",
       "      <td>NaN</td>\n",
       "      <td>Roger Voss</td>\n",
       "      <td>@vossroger</td>\n",
       "      <td>Château Pétrus 2011  Pomerol</td>\n",
       "      <td>Bordeaux-style Red Blend</td>\n",
       "      <td>Château Pétrus</td>\n",
       "    </tr>\n",
       "    <tr>\n",
       "      <td>74674</td>\n",
       "      <td>France</td>\n",
       "      <td>This ripe wine shows plenty of blackberry frui...</td>\n",
       "      <td>NaN</td>\n",
       "      <td>88</td>\n",
       "      <td>3300.0</td>\n",
       "      <td>Bordeaux</td>\n",
       "      <td>Médoc</td>\n",
       "      <td>NaN</td>\n",
       "      <td>Roger Voss</td>\n",
       "      <td>@vossroger</td>\n",
       "      <td>Château les Ormes Sorbet 2013  Médoc</td>\n",
       "      <td>Bordeaux-style Red Blend</td>\n",
       "      <td>Château les Ormes Sorbet</td>\n",
       "    </tr>\n",
       "    <tr>\n",
       "      <td>83255</td>\n",
       "      <td>Austria</td>\n",
       "      <td>Wet earth, rain-wet stones, damp moss, wild sa...</td>\n",
       "      <td>Ried Loibenberg Smaragd</td>\n",
       "      <td>94</td>\n",
       "      <td>1100.0</td>\n",
       "      <td>Wachau</td>\n",
       "      <td>NaN</td>\n",
       "      <td>NaN</td>\n",
       "      <td>Anne Krebiehl MW</td>\n",
       "      <td>@AnneInVino</td>\n",
       "      <td>Emmerich Knoll 2013 Ried Loibenberg Smaragd Gr...</td>\n",
       "      <td>Grüner Veltliner</td>\n",
       "      <td>Emmerich Knoll</td>\n",
       "    </tr>\n",
       "    <tr>\n",
       "      <td>91549</td>\n",
       "      <td>France</td>\n",
       "      <td>A superb wine from a great year, this is power...</td>\n",
       "      <td>NaN</td>\n",
       "      <td>96</td>\n",
       "      <td>2500.0</td>\n",
       "      <td>Burgundy</td>\n",
       "      <td>La Romanée</td>\n",
       "      <td>NaN</td>\n",
       "      <td>Roger Voss</td>\n",
       "      <td>@vossroger</td>\n",
       "      <td>Domaine du Comte Liger-Belair 2010  La Romanée</td>\n",
       "      <td>Pinot Noir</td>\n",
       "      <td>Domaine du Comte Liger-Belair</td>\n",
       "    </tr>\n",
       "    <tr>\n",
       "      <td>103975</td>\n",
       "      <td>France</td>\n",
       "      <td>Almost black in color, this stunning wine is g...</td>\n",
       "      <td>NaN</td>\n",
       "      <td>100</td>\n",
       "      <td>1500.0</td>\n",
       "      <td>Bordeaux</td>\n",
       "      <td>Pauillac</td>\n",
       "      <td>NaN</td>\n",
       "      <td>Roger Voss</td>\n",
       "      <td>@vossroger</td>\n",
       "      <td>Château Lafite Rothschild 2010  Pauillac</td>\n",
       "      <td>Bordeaux-style Red Blend</td>\n",
       "      <td>Château Lafite Rothschild</td>\n",
       "    </tr>\n",
       "    <tr>\n",
       "      <td>103977</td>\n",
       "      <td>France</td>\n",
       "      <td>This is the finest Cheval Blanc for many years...</td>\n",
       "      <td>NaN</td>\n",
       "      <td>100</td>\n",
       "      <td>1500.0</td>\n",
       "      <td>Bordeaux</td>\n",
       "      <td>Saint-Émilion</td>\n",
       "      <td>NaN</td>\n",
       "      <td>Roger Voss</td>\n",
       "      <td>@vossroger</td>\n",
       "      <td>Château Cheval Blanc 2010  Saint-Émilion</td>\n",
       "      <td>Bordeaux-style Red Blend</td>\n",
       "      <td>Château Cheval Blanc</td>\n",
       "    </tr>\n",
       "    <tr>\n",
       "      <td>105636</td>\n",
       "      <td>France</td>\n",
       "      <td>A wonderfully complete wine, with all the elem...</td>\n",
       "      <td>NaN</td>\n",
       "      <td>96</td>\n",
       "      <td>2000.0</td>\n",
       "      <td>Burgundy</td>\n",
       "      <td>La Romanée</td>\n",
       "      <td>NaN</td>\n",
       "      <td>Roger Voss</td>\n",
       "      <td>@vossroger</td>\n",
       "      <td>Domaine du Comte Liger-Belair 2005  La Romanée</td>\n",
       "      <td>Pinot Noir</td>\n",
       "      <td>Domaine du Comte Liger-Belair</td>\n",
       "    </tr>\n",
       "    <tr>\n",
       "      <td>105649</td>\n",
       "      <td>France</td>\n",
       "      <td>While it starts austerely, this wine is obviou...</td>\n",
       "      <td>NaN</td>\n",
       "      <td>94</td>\n",
       "      <td>1125.0</td>\n",
       "      <td>Burgundy</td>\n",
       "      <td>La Romanée</td>\n",
       "      <td>NaN</td>\n",
       "      <td>Roger Voss</td>\n",
       "      <td>@vossroger</td>\n",
       "      <td>Domaine du Comte Liger-Belair 2006  La Romanée</td>\n",
       "      <td>Pinot Noir</td>\n",
       "      <td>Domaine du Comte Liger-Belair</td>\n",
       "    </tr>\n",
       "    <tr>\n",
       "      <td>112032</td>\n",
       "      <td>US</td>\n",
       "      <td>The nose on this single-vineyard wine from a s...</td>\n",
       "      <td>Roger Rose Vineyard</td>\n",
       "      <td>91</td>\n",
       "      <td>2013.0</td>\n",
       "      <td>California</td>\n",
       "      <td>Arroyo Seco</td>\n",
       "      <td>Central Coast</td>\n",
       "      <td>Matt Kettmann</td>\n",
       "      <td>@mattkettmann</td>\n",
       "      <td>Blair 2013 Roger Rose Vineyard Chardonnay (Arr...</td>\n",
       "      <td>Chardonnay</td>\n",
       "      <td>Blair</td>\n",
       "    </tr>\n",
       "  </tbody>\n",
       "</table>\n",
       "</div>"
      ],
      "text/plain": [
       "        country                                        description  \\\n",
       "1472     France  A massive wine for Margaux, packed with tannin...   \n",
       "1480     France  Such a generous and ripe wine, with a dark cor...   \n",
       "1485     France  Solid, very structured, packed with dense and ...   \n",
       "1488     France  The purest Cabernet Sauvignon fruit, with dark...   \n",
       "14744    France  The wine is a velvet glove in an iron fist. Th...   \n",
       "60684    France  This extravagantly perfumed wine has great jui...   \n",
       "74674    France  This ripe wine shows plenty of blackberry frui...   \n",
       "83255   Austria  Wet earth, rain-wet stones, damp moss, wild sa...   \n",
       "91549    France  A superb wine from a great year, this is power...   \n",
       "103975   France  Almost black in color, this stunning wine is g...   \n",
       "103977   France  This is the finest Cheval Blanc for many years...   \n",
       "105636   France  A wonderfully complete wine, with all the elem...   \n",
       "105649   France  While it starts austerely, this wine is obviou...   \n",
       "112032       US  The nose on this single-vineyard wine from a s...   \n",
       "\n",
       "                    designation  points   price    province        region_1  \\\n",
       "1472                        NaN      98  1900.0    Bordeaux         Margaux   \n",
       "1480                        NaN      97  1100.0    Bordeaux  Pessac-Léognan   \n",
       "1485                        NaN      96  1200.0    Bordeaux  Pessac-Léognan   \n",
       "1488                        NaN      96  1300.0    Bordeaux        Pauillac   \n",
       "14744                       NaN      96  2500.0    Bordeaux         Pomerol   \n",
       "60684                       NaN      97  2000.0    Bordeaux         Pomerol   \n",
       "74674                       NaN      88  3300.0    Bordeaux           Médoc   \n",
       "83255   Ried Loibenberg Smaragd      94  1100.0      Wachau             NaN   \n",
       "91549                       NaN      96  2500.0    Burgundy      La Romanée   \n",
       "103975                      NaN     100  1500.0    Bordeaux        Pauillac   \n",
       "103977                      NaN     100  1500.0    Bordeaux   Saint-Émilion   \n",
       "105636                      NaN      96  2000.0    Burgundy      La Romanée   \n",
       "105649                      NaN      94  1125.0    Burgundy      La Romanée   \n",
       "112032      Roger Rose Vineyard      91  2013.0  California     Arroyo Seco   \n",
       "\n",
       "             region_2       taster_name taster_twitter_handle  \\\n",
       "1472              NaN        Roger Voss            @vossroger   \n",
       "1480              NaN        Roger Voss            @vossroger   \n",
       "1485              NaN        Roger Voss            @vossroger   \n",
       "1488              NaN        Roger Voss            @vossroger   \n",
       "14744             NaN        Roger Voss            @vossroger   \n",
       "60684             NaN        Roger Voss            @vossroger   \n",
       "74674             NaN        Roger Voss            @vossroger   \n",
       "83255             NaN  Anne Krebiehl MW           @AnneInVino   \n",
       "91549             NaN        Roger Voss            @vossroger   \n",
       "103975            NaN        Roger Voss            @vossroger   \n",
       "103977            NaN        Roger Voss            @vossroger   \n",
       "105636            NaN        Roger Voss            @vossroger   \n",
       "105649            NaN        Roger Voss            @vossroger   \n",
       "112032  Central Coast     Matt Kettmann         @mattkettmann   \n",
       "\n",
       "                                                    title  \\\n",
       "1472                        Château Margaux 2009  Margaux   \n",
       "1480    Château La Mission Haut-Brion 2009  Pessac-Léo...   \n",
       "1485              Château Haut-Brion 2009  Pessac-Léognan   \n",
       "1488             Château Mouton Rothschild 2009  Pauillac   \n",
       "14744                        Château Pétrus 2014  Pomerol   \n",
       "60684                        Château Pétrus 2011  Pomerol   \n",
       "74674                Château les Ormes Sorbet 2013  Médoc   \n",
       "83255   Emmerich Knoll 2013 Ried Loibenberg Smaragd Gr...   \n",
       "91549      Domaine du Comte Liger-Belair 2010  La Romanée   \n",
       "103975           Château Lafite Rothschild 2010  Pauillac   \n",
       "103977           Château Cheval Blanc 2010  Saint-Émilion   \n",
       "105636     Domaine du Comte Liger-Belair 2005  La Romanée   \n",
       "105649     Domaine du Comte Liger-Belair 2006  La Romanée   \n",
       "112032  Blair 2013 Roger Rose Vineyard Chardonnay (Arr...   \n",
       "\n",
       "                         variety                         winery  \n",
       "1472    Bordeaux-style Red Blend                Château Margaux  \n",
       "1480    Bordeaux-style Red Blend  Château La Mission Haut-Brion  \n",
       "1485    Bordeaux-style Red Blend             Château Haut-Brion  \n",
       "1488    Bordeaux-style Red Blend      Château Mouton Rothschild  \n",
       "14744   Bordeaux-style Red Blend                 Château Pétrus  \n",
       "60684   Bordeaux-style Red Blend                 Château Pétrus  \n",
       "74674   Bordeaux-style Red Blend       Château les Ormes Sorbet  \n",
       "83255           Grüner Veltliner                 Emmerich Knoll  \n",
       "91549                 Pinot Noir  Domaine du Comte Liger-Belair  \n",
       "103975  Bordeaux-style Red Blend      Château Lafite Rothschild  \n",
       "103977  Bordeaux-style Red Blend           Château Cheval Blanc  \n",
       "105636                Pinot Noir  Domaine du Comte Liger-Belair  \n",
       "105649                Pinot Noir  Domaine du Comte Liger-Belair  \n",
       "112032                Chardonnay                          Blair  "
      ]
     },
     "execution_count": 11,
     "metadata": {},
     "output_type": "execute_result"
    }
   ],
   "source": [
    "df[(df['price'] > 1000)]"
   ]
  },
  {
   "cell_type": "code",
   "execution_count": 12,
   "metadata": {},
   "outputs": [
    {
     "data": {
      "image/png": "[encoded data removed]",
      "text/plain": [
       "<Figure size 1080x432 with 1 Axes>"
      ]
     },
     "metadata": {
      "needs_background": "light"
     },
     "output_type": "display_data"
    }
   ],
   "source": [
    "plt.figure(figsize=(15,6))\n",
    "plt.title(\"Price Distribution\")\n",
    "ax = sns.distplot(df[\"price\"])"
   ]
  },
  {
   "cell_type": "markdown",
   "metadata": {},
   "source": [
    "By looking at the histogram, we found that the distribution of price is right skewed. If we want to have a better distribution of price, we'll need to drop the tail or make some transformation to bring it closer to a normal distribution. There are two options that we want to try:\n",
    "1. Drop the tail: Drop values that greater than 250 dollars. \n",
    "2. Use the log transformation: We'll take log(1+x) to avoid running into issues with zero counts."
   ]
  },
  {
   "cell_type": "markdown",
   "metadata": {},
   "source": [
    "#### Drop the tail\n",
    "---"
   ]
  },
  {
   "cell_type": "code",
   "execution_count": 13,
   "metadata": {},
   "outputs": [
    {
     "name": "stdout",
     "output_type": "stream",
     "text": [
      "0.37528414961768963 % of price is greater then 250 USD\n"
     ]
    },
    {
     "data": {
      "image/png": "[encoded data removed]",
      "text/plain": [
       "<Figure size 1080x432 with 1 Axes>"
      ]
     },
     "metadata": {
      "needs_background": "light"
     },
     "output_type": "display_data"
    }
   ],
   "source": [
    "plt.figure(figsize=(15,6))\n",
    "plt.title(\"Price Distribution (Drop tail)\")\n",
    "ax = sns.distplot(df[df[\"price\"]<=250]['price'])\n",
    "per = df[df['price']>250].shape[0]/df.shape[0]*100\n",
    "print(per, \"% of price is greater then 250 USD\")"
   ]
  },
  {
   "cell_type": "markdown",
   "metadata": {},
   "source": [
    "#### Log transformation\n",
    "---"
   ]
  },
  {
   "cell_type": "code",
   "execution_count": 14,
   "metadata": {},
   "outputs": [],
   "source": [
    "log = df"
   ]
  },
  {
   "cell_type": "code",
   "execution_count": 15,
   "metadata": {},
   "outputs": [
    {
     "data": {
      "image/png": "[encoded data removed]",
      "text/plain": [
       "<Figure size 1080x432 with 1 Axes>"
      ]
     },
     "metadata": {
      "needs_background": "light"
     },
     "output_type": "display_data"
    }
   ],
   "source": [
    "# log transformation\n",
    "log['price'] = np.log1p(log['price'])\n",
    "\n",
    "plt.figure(figsize=(15,6))\n",
    "plt.title(\"Price Distribution (Log Transformation)\")\n",
    "ax = sns.distplot(log['price'], fit=norm)"
   ]
  },
  {
   "cell_type": "markdown",
   "metadata": {},
   "source": [
    "### Categorical features\n",
    "\n",
    "- Country (object)\n",
    "- Description (object)\n",
    "- Designation (object)\t\n",
    "- Province (object)\t\n",
    "- Region_1 (object)\t\n",
    "- Region_2 (object)\t\n",
    "- Taster_name (object)\t\n",
    "- Taster_twitter_handle (object)\t\n",
    "- Title (object)\t\n",
    "- Variety (object)\t\n",
    "- Winery (object)"
   ]
  },
  {
   "cell_type": "markdown",
   "metadata": {},
   "source": [
    "#### Clarification\n",
    "---\n",
    "By looking at the missing value rate for each column in the chart above, we can see that the columns with relatively high missing value rate are region_2(61%), region_1(16%), taster_name(20%), designation(28%), and twitter_handle(24%).\n",
    "\n",
    "- Region_2: According to the dataset description in Kaggle, sometimes there are more specific regions specified within a wine growing area (ie Rutherford inside the Napa Valley), but this value can sometimes be blank. It's reasonable that region_2 has empty value since that record doesn't have a more specific region specified within that wine growing area.\n",
    "\n",
    "- Taster_name: It's reasonable that some of the wines are not being tasted by a wine taster, so the value in that record might be blank.\n",
    "\n",
    "- Taster_twitter_handle: It's reasonable that the taster of that wine doesn't have a Twitter account or that wine even not being tasted by a wine taster, so the value in that record might be blank.\n",
    "\n",
    "- Region_1: We want to find out the relationship between country and wine's price or point, so we think the missing value of region_1 will not have a significant influence on our analysis and prediction.\n",
    "\n",
    "- Designation: The designation is the vineyard within the winery where the grapes that made the wine are from, same as the feature above, we think designation will not have a significant influence on our analysis and prediction, so we'll just leave these missing value there.\n",
    "\n",
    "\n"
   ]
  },
  {
   "cell_type": "markdown",
   "metadata": {},
   "source": [
    "##### But let's still take a look at the count of unique categories for each of our categorical features :)"
   ]
  },
  {
   "cell_type": "code",
   "execution_count": 16,
   "metadata": {},
   "outputs": [],
   "source": [
    "numerical_features = ['int16', 'int32', 'int64', 'float16', 'float32', 'float64']"
   ]
  },
  {
   "cell_type": "code",
   "execution_count": 17,
   "metadata": {},
   "outputs": [
    {
     "data": {
      "image/png": "[encoded data removed]",
      "text/plain": [
       "<Figure size 576x360 with 1 Axes>"
      ]
     },
     "metadata": {},
     "output_type": "display_data"
    }
   ],
   "source": [
    "categorical_features_count = df.select_dtypes(exclude=numerical_features).nunique()\n",
    "sns.set(rc={'figure.figsize':(8,5)})\n",
    "categorical_features_count_plot = sns.barplot(categorical_features_count.index,\\\n",
    "                                            categorical_features_count.values, alpha=0.8)\n",
    "categorical_features_count_plot.set(xlabel = 'features', ylabel = 'unique counts')\n",
    "for item in categorical_features_count_plot.get_xticklabels():\n",
    "    item.set_rotation(90)"
   ]
  },
  {
   "cell_type": "code",
   "execution_count": 18,
   "metadata": {},
   "outputs": [],
   "source": [
    "country = pd.DataFrame({'country': df[\"country\"].value_counts().index, 'count': df[\"country\"].value_counts().values})"
   ]
  },
  {
   "cell_type": "code",
   "execution_count": 19,
   "metadata": {},
   "outputs": [
    {
     "data": {
      "text/html": [
       "<div>\n",
       "<style scoped>\n",
       "    .dataframe tbody tr th:only-of-type {\n",
       "        vertical-align: middle;\n",
       "    }\n",
       "\n",
       "    .dataframe tbody tr th {\n",
       "        vertical-align: top;\n",
       "    }\n",
       "\n",
       "    .dataframe thead th {\n",
       "        text-align: right;\n",
       "    }\n",
       "</style>\n",
       "<table border=\"1\" class=\"dataframe\">\n",
       "  <thead>\n",
       "    <tr style=\"text-align: right;\">\n",
       "      <th></th>\n",
       "      <th>country</th>\n",
       "      <th>count</th>\n",
       "    </tr>\n",
       "  </thead>\n",
       "  <tbody>\n",
       "    <tr>\n",
       "      <td>0</td>\n",
       "      <td>US</td>\n",
       "      <td>54265</td>\n",
       "    </tr>\n",
       "    <tr>\n",
       "      <td>1</td>\n",
       "      <td>France</td>\n",
       "      <td>17776</td>\n",
       "    </tr>\n",
       "    <tr>\n",
       "      <td>2</td>\n",
       "      <td>Italy</td>\n",
       "      <td>16914</td>\n",
       "    </tr>\n",
       "    <tr>\n",
       "      <td>3</td>\n",
       "      <td>Spain</td>\n",
       "      <td>6573</td>\n",
       "    </tr>\n",
       "    <tr>\n",
       "      <td>4</td>\n",
       "      <td>Portugal</td>\n",
       "      <td>4875</td>\n",
       "    </tr>\n",
       "    <tr>\n",
       "      <td>5</td>\n",
       "      <td>Chile</td>\n",
       "      <td>4416</td>\n",
       "    </tr>\n",
       "    <tr>\n",
       "      <td>6</td>\n",
       "      <td>Argentina</td>\n",
       "      <td>3756</td>\n",
       "    </tr>\n",
       "    <tr>\n",
       "      <td>7</td>\n",
       "      <td>Austria</td>\n",
       "      <td>2799</td>\n",
       "    </tr>\n",
       "    <tr>\n",
       "      <td>8</td>\n",
       "      <td>Australia</td>\n",
       "      <td>2294</td>\n",
       "    </tr>\n",
       "    <tr>\n",
       "      <td>9</td>\n",
       "      <td>Germany</td>\n",
       "      <td>2120</td>\n",
       "    </tr>\n",
       "    <tr>\n",
       "      <td>10</td>\n",
       "      <td>New Zealand</td>\n",
       "      <td>1378</td>\n",
       "    </tr>\n",
       "    <tr>\n",
       "      <td>11</td>\n",
       "      <td>South Africa</td>\n",
       "      <td>1293</td>\n",
       "    </tr>\n",
       "    <tr>\n",
       "      <td>12</td>\n",
       "      <td>Israel</td>\n",
       "      <td>489</td>\n",
       "    </tr>\n",
       "    <tr>\n",
       "      <td>13</td>\n",
       "      <td>Greece</td>\n",
       "      <td>461</td>\n",
       "    </tr>\n",
       "    <tr>\n",
       "      <td>14</td>\n",
       "      <td>Canada</td>\n",
       "      <td>254</td>\n",
       "    </tr>\n",
       "    <tr>\n",
       "      <td>15</td>\n",
       "      <td>Hungary</td>\n",
       "      <td>145</td>\n",
       "    </tr>\n",
       "    <tr>\n",
       "      <td>16</td>\n",
       "      <td>Bulgaria</td>\n",
       "      <td>141</td>\n",
       "    </tr>\n",
       "    <tr>\n",
       "      <td>17</td>\n",
       "      <td>Romania</td>\n",
       "      <td>120</td>\n",
       "    </tr>\n",
       "    <tr>\n",
       "      <td>18</td>\n",
       "      <td>Uruguay</td>\n",
       "      <td>109</td>\n",
       "    </tr>\n",
       "    <tr>\n",
       "      <td>19</td>\n",
       "      <td>Turkey</td>\n",
       "      <td>90</td>\n",
       "    </tr>\n",
       "  </tbody>\n",
       "</table>\n",
       "</div>"
      ],
      "text/plain": [
       "         country  count\n",
       "0             US  54265\n",
       "1         France  17776\n",
       "2          Italy  16914\n",
       "3          Spain   6573\n",
       "4       Portugal   4875\n",
       "5          Chile   4416\n",
       "6      Argentina   3756\n",
       "7        Austria   2799\n",
       "8      Australia   2294\n",
       "9        Germany   2120\n",
       "10   New Zealand   1378\n",
       "11  South Africa   1293\n",
       "12        Israel    489\n",
       "13        Greece    461\n",
       "14        Canada    254\n",
       "15       Hungary    145\n",
       "16      Bulgaria    141\n",
       "17       Romania    120\n",
       "18       Uruguay    109\n",
       "19        Turkey     90"
      ]
     },
     "execution_count": 19,
     "metadata": {},
     "output_type": "execute_result"
    }
   ],
   "source": [
    "country.head(20)"
   ]
  },
  {
   "cell_type": "code",
   "execution_count": 20,
   "metadata": {},
   "outputs": [
    {
     "data": {
      "image/png": "[encoded data removed]",
      "text/plain": [
       "<Figure size 1080x432 with 1 Axes>"
      ]
     },
     "metadata": {},
     "output_type": "display_data"
    }
   ],
   "source": [
    "plt.figure(figsize = (15,6))\n",
    "plt.title('Points Distribution')\n",
    "sns.barplot(x= 'country', y= 'count', data=country.head(10))\n",
    "locs, labels = plt.xticks()\n",
    "plt.show()"
   ]
  },
  {
   "cell_type": "markdown",
   "metadata": {},
   "source": [
    "### Raw text data"
   ]
  },
  {
   "cell_type": "markdown",
   "metadata": {},
   "source": [
    "We would also like to take a look at the the \"Description\" and the \"Title\" columns. Since these two columns are text data, we will apply regular expression to clean the text data and try to use some natural language processing(NLP) techniques to find out some interesting insights."
   ]
  },
  {
   "cell_type": "code",
   "execution_count": 21,
   "metadata": {},
   "outputs": [
    {
     "data": {
      "text/plain": [
       "9382"
      ]
     },
     "execution_count": 21,
     "metadata": {},
     "output_type": "execute_result"
    }
   ],
   "source": [
    "df[df.duplicated(['description','title'])].shape[0]"
   ]
  },
  {
   "cell_type": "markdown",
   "metadata": {},
   "source": [
    "We found that there are a lot of duplicates in the description and title, so we want to get rid of those duplicated records."
   ]
  },
  {
   "cell_type": "code",
   "execution_count": 22,
   "metadata": {},
   "outputs": [],
   "source": [
    "df = df.drop_duplicates(['description','title'])\n",
    "df = df.reset_index(drop=True)"
   ]
  },
  {
   "cell_type": "code",
   "execution_count": 23,
   "metadata": {},
   "outputs": [
    {
     "data": {
      "text/plain": [
       "(111593, 13)"
      ]
     },
     "execution_count": 23,
     "metadata": {},
     "output_type": "execute_result"
    }
   ],
   "source": [
    "df.shape"
   ]
  },
  {
   "cell_type": "code",
   "execution_count": 24,
   "metadata": {},
   "outputs": [],
   "source": [
    "# Function to clean text\n",
    "def clean_text(raw_text):\n",
    "    # convert to string if not in string form\n",
    "    str_text = raw_text.apply(lambda x: str(x))\n",
    "\n",
    "    # convert to lower case\n",
    "    lower_text = str_text.apply(lambda x: x.lower())\n",
    "\n",
    "    # remove '@'mention - handler\n",
    "    no_handler_text = lower_text.apply(lambda x: re.sub(r'@\\S+', '', x))\n",
    "\n",
    "    # remove URL Links\n",
    "    no_handler_URL_text = no_handler_text.apply(lambda x: re.sub('https?://[A-Za-z0-9./]+', '', x))\n",
    "\n",
    "    # remove html codes\n",
    "    no_handler_URL_html_text = no_handler_URL_text.apply(lambda x: re.sub('&[A-Za-z]+;','',x))\n",
    "\n",
    "    # remove emojis\n",
    "    no_handler_URL_html_emoji_text = no_handler_URL_html_text.apply(lambda x: demoji.replace(x,\"\"))\n",
    "\n",
    "    # remove punctuations\n",
    "    no_punc_text = no_handler_URL_html_emoji_text.apply(lambda x: re.sub(r\"\"\"\n",
    "               [),.;:@#?!&$('`’/\"-]+  # Accept one or more copies of punctuation\n",
    "               \\ *           # plus zero or more copies of a space,\n",
    "               \"\"\",\n",
    "               \" \",          # and replace it with a single space\n",
    "               x, flags=re.VERBOSE))\n",
    "    # remove stopwords\n",
    "    stopword_set = set(stopwords.words(\"english\"))\n",
    "    cleaned_text = no_punc_text.apply(lambda x: x.split())\n",
    "    cleaned_text = cleaned_text.apply(lambda x: [w for w in x if w not in stopword_set])\n",
    "    cleaned_text = cleaned_text.apply(lambda x: \" \".join(x))\n",
    "\n",
    "    return cleaned_text"
   ]
  },
  {
   "cell_type": "markdown",
   "metadata": {},
   "source": [
    "Clean text for \"Description\" column"
   ]
  },
  {
   "cell_type": "code",
   "execution_count": 25,
   "metadata": {},
   "outputs": [],
   "source": [
    "df['description'] = clean_text(df['description'])"
   ]
  },
  {
   "cell_type": "code",
   "execution_count": 26,
   "metadata": {},
   "outputs": [
    {
     "data": {
      "text/plain": [
       "0         ripe fruity wine smooth still structured firm ...\n",
       "1         tart snappy flavors lime flesh rind dominate g...\n",
       "2         pineapple rind lemon pith orange blossom start...\n",
       "3         much like regular bottling 2012 comes across r...\n",
       "4         blackberry raspberry aromas show typical navar...\n",
       "                                ...                        \n",
       "111588    notes honeysuckle cantaloupe sweeten delicious...\n",
       "111589    citation given much decade bottle age prior re...\n",
       "111590    well drained gravel soil gives wine crisp dry ...\n",
       "111591    dry style pinot gris crisp acidity also weight...\n",
       "111592    big rich dry powered intense spiciness rounded...\n",
       "Name: description, Length: 111593, dtype: object"
      ]
     },
     "execution_count": 26,
     "metadata": {},
     "output_type": "execute_result"
    }
   ],
   "source": [
    "df['description']"
   ]
  },
  {
   "cell_type": "markdown",
   "metadata": {},
   "source": [
    "We would like to discover what is the most common words used for wine description, so we use regex to tokenize sentences to list of words for further analysis."
   ]
  },
  {
   "cell_type": "code",
   "execution_count": 27,
   "metadata": {},
   "outputs": [
    {
     "data": {
      "text/plain": [
       "0    [ripe, fruity, wine, smooth, still, structured...\n",
       "1    [tart, snappy, flavors, lime, flesh, rind, dom...\n",
       "2    [pineapple, rind, lemon, pith, orange, blossom...\n",
       "3    [much, like, regular, bottling, 2012, comes, a...\n",
       "4    [blackberry, raspberry, aromas, show, typical,...\n",
       "5    [bright, informal, red, opens, aromas, candied...\n",
       "6    [dry, restrained, wine, offers, spice, profusi...\n",
       "7    [savory, dried, thyme, notes, accent, sunnier,...\n",
       "8    [great, depth, flavor, fresh, apple, pear, fru...\n",
       "9    [soft, supple, plum, envelopes, oaky, structur...\n",
       "Name: description, dtype: object"
      ]
     },
     "execution_count": 27,
     "metadata": {},
     "output_type": "execute_result"
    }
   ],
   "source": [
    "tokenizer = RegexpTokenizer(r'\\w+')\n",
    "description_token = df['description'].apply(tokenizer.tokenize)\n",
    "description_token.head(10)"
   ]
  },
  {
   "cell_type": "code",
   "execution_count": 28,
   "metadata": {},
   "outputs": [],
   "source": [
    "all_words = [word for tokens in description_token for word in tokens]\n",
    "vocab = sorted(list(set(all_words)))"
   ]
  },
  {
   "cell_type": "markdown",
   "metadata": {},
   "source": [
    "Let's take a look at the top 100 most common words used for wine description."
   ]
  },
  {
   "cell_type": "code",
   "execution_count": 29,
   "metadata": {},
   "outputs": [
    {
     "data": {
      "text/plain": [
       "[('wine', 66707),\n",
       " ('flavors', 55626),\n",
       " ('fruit', 42627),\n",
       " ('aromas', 34293),\n",
       " ('palate', 33563),\n",
       " ('finish', 30983),\n",
       " ('acidity', 28935),\n",
       " ('tannins', 25883),\n",
       " ('drink', 25692),\n",
       " ('cherry', 25586),\n",
       " ('black', 24936),\n",
       " ('ripe', 22538),\n",
       " ('red', 18603),\n",
       " ('notes', 16619),\n",
       " ('spice', 16210),\n",
       " ('oak', 16022),\n",
       " ('dry', 15044),\n",
       " ('nose', 14962),\n",
       " ('rich', 14690),\n",
       " ('berry', 14530),\n",
       " ('fresh', 14506),\n",
       " ('full', 13629),\n",
       " ('plum', 13077),\n",
       " ('sweet', 11813),\n",
       " ('apple', 11652),\n",
       " ('blend', 11580),\n",
       " ('soft', 11563),\n",
       " ('blackberry', 11319),\n",
       " ('well', 11317),\n",
       " ('white', 11010),\n",
       " ('fruits', 10844),\n",
       " ('light', 10839),\n",
       " ('crisp', 10726),\n",
       " ('offers', 10660),\n",
       " ('dark', 10575),\n",
       " ('texture', 10401),\n",
       " ('bodied', 10165),\n",
       " ('citrus', 10109),\n",
       " ('shows', 9884),\n",
       " ('vanilla', 9828),\n",
       " ('cabernet', 9698),\n",
       " ('bright', 9059),\n",
       " ('pepper', 8979),\n",
       " ('green', 8485),\n",
       " ('raspberry', 8475),\n",
       " ('good', 8440),\n",
       " ('lemon', 8293),\n",
       " ('juicy', 8174),\n",
       " ('fruity', 7776),\n",
       " ('chocolate', 7717),\n",
       " ('firm', 7527),\n",
       " ('peach', 7512),\n",
       " ('like', 7400),\n",
       " ('balanced', 7283),\n",
       " ('touch', 7199),\n",
       " ('dried', 6834),\n",
       " ('sauvignon', 6832),\n",
       " ('pear', 6778),\n",
       " ('years', 6629),\n",
       " ('character', 6493),\n",
       " ('spicy', 6310),\n",
       " ('structure', 6143),\n",
       " ('fine', 6142),\n",
       " ('pinot', 6116),\n",
       " ('made', 6113),\n",
       " ('smooth', 6064),\n",
       " ('medium', 6008),\n",
       " ('herb', 5725),\n",
       " ('tart', 5709),\n",
       " ('style', 5708),\n",
       " ('long', 5670),\n",
       " ('herbal', 5625),\n",
       " ('mouth', 5590),\n",
       " ('currant', 5561),\n",
       " ('vineyard', 5553),\n",
       " ('tannic', 5534),\n",
       " ('wood', 5464),\n",
       " ('concentrated', 5380),\n",
       " ('bit', 5325),\n",
       " ('merlot', 5316),\n",
       " ('also', 5308),\n",
       " ('mineral', 5302),\n",
       " ('flavor', 5257),\n",
       " ('note', 5248),\n",
       " ('licorice', 5216),\n",
       " ('lime', 5168),\n",
       " ('hint', 5119),\n",
       " ('orange', 5106),\n",
       " ('clean', 5077),\n",
       " ('still', 5042),\n",
       " ('one', 5027),\n",
       " ('creamy', 4944),\n",
       " ('syrah', 4925),\n",
       " ('balance', 4912),\n",
       " ('toast', 4853),\n",
       " ('give', 4837),\n",
       " ('age', 4773),\n",
       " ('earthy', 4633),\n",
       " ('savory', 4619),\n",
       " ('along', 4586)]"
      ]
     },
     "execution_count": 29,
     "metadata": {},
     "output_type": "execute_result"
    }
   ],
   "source": [
    "from collections import Counter\n",
    "count_all_words = Counter(all_words)\n",
    "count_all_words.most_common(100)"
   ]
  },
  {
   "cell_type": "markdown",
   "metadata": {},
   "source": [
    "Clean text for \"Title\" column"
   ]
  },
  {
   "cell_type": "code",
   "execution_count": 30,
   "metadata": {},
   "outputs": [
    {
     "data": {
      "text/plain": [
       "(111593, 13)"
      ]
     },
     "execution_count": 30,
     "metadata": {},
     "output_type": "execute_result"
    }
   ],
   "source": [
    "df.shape"
   ]
  },
  {
   "cell_type": "code",
   "execution_count": 31,
   "metadata": {},
   "outputs": [],
   "source": [
    "df['title'] = clean_text(df['title'])"
   ]
  },
  {
   "cell_type": "code",
   "execution_count": 32,
   "metadata": {},
   "outputs": [
    {
     "data": {
      "text/plain": [
       "0               quinta dos avidagos 2011 avidagos red douro\n",
       "1               rainstorm 2013 pinot gris willamette valley\n",
       "2         st julian 2013 reserve late harvest riesling l...\n",
       "3         sweet cheeks 2012 vintner reserve wild child b...\n",
       "4          tandem 2011 ars vitro tempranillo merlot navarra\n",
       "                                ...                        \n",
       "111588    dr h thanisch erben müller burggraef 2013 brau...\n",
       "111589                      citation 2004 pinot noir oregon\n",
       "111590     domaine gresser 2013 kritt gewurztraminer alsace\n",
       "111591          domaine marcel deiss 2012 pinot gris alsace\n",
       "111592    domaine schoffit 2012 lieu dit harth cuvée car...\n",
       "Name: title, Length: 111593, dtype: object"
      ]
     },
     "execution_count": 32,
     "metadata": {},
     "output_type": "execute_result"
    }
   ],
   "source": [
    "df['title']"
   ]
  },
  {
   "cell_type": "markdown",
   "metadata": {},
   "source": [
    "---\n",
    "After cleaning text data for \"Description\" and \"Title\" columns, we would like to look at the \"Variety\" column to see if there's any duplicated value in it."
   ]
  },
  {
   "cell_type": "code",
   "execution_count": 33,
   "metadata": {},
   "outputs": [
    {
     "data": {
      "text/plain": [
       "0        Portuguese Red\n",
       "1            Pinot Gris\n",
       "2              Riesling\n",
       "3            Pinot Noir\n",
       "4    Tempranillo-Merlot\n",
       "5              Frappato\n",
       "6        Gewürztraminer\n",
       "7        Gewürztraminer\n",
       "8            Pinot Gris\n",
       "9    Cabernet Sauvignon\n",
       "Name: variety, dtype: object"
      ]
     },
     "execution_count": 33,
     "metadata": {},
     "output_type": "execute_result"
    }
   ],
   "source": [
    "df['variety'].head(10)"
   ]
  },
  {
   "cell_type": "code",
   "execution_count": 34,
   "metadata": {},
   "outputs": [],
   "source": [
    "df['variety'] = clean_text(df['variety'])"
   ]
  },
  {
   "cell_type": "code",
   "execution_count": 35,
   "metadata": {},
   "outputs": [],
   "source": [
    "variety = df['variety']"
   ]
  },
  {
   "cell_type": "code",
   "execution_count": 36,
   "metadata": {},
   "outputs": [],
   "source": [
    "df['variety_count'] = df['variety'].str.split().str.len()"
   ]
  },
  {
   "cell_type": "code",
   "execution_count": 37,
   "metadata": {},
   "outputs": [
    {
     "data": {
      "text/plain": [
       "1    51247\n",
       "2    51151\n",
       "4     7345\n",
       "3     1847\n",
       "5        2\n",
       "0        1\n",
       "Name: variety_count, dtype: int64"
      ]
     },
     "execution_count": 37,
     "metadata": {},
     "output_type": "execute_result"
    }
   ],
   "source": [
    "df['variety_count'].value_counts()"
   ]
  },
  {
   "cell_type": "code",
   "execution_count": 63,
   "metadata": {},
   "outputs": [],
   "source": [
    "variety_1 = df[(df['variety_count'] == 1)]\n",
    "variety_2 = df[(df['variety_count'] == 2)]\n",
    "variety_3 = df[(df['variety_count'] == 3)]\n",
    "variety_4 = df[(df['variety_count'] == 4)]\n",
    "variety_1_tfidf = variety_1[\"variety\"]\n",
    "variety_2_tfidf = variety_2[\"variety\"]\n",
    "variety_3_tfidf = variety_3[\"variety\"]\n",
    "variety_4_tfidf = variety_4[\"variety\"]"
   ]
  },
  {
   "cell_type": "code",
   "execution_count": 166,
   "metadata": {},
   "outputs": [],
   "source": [
    "variety_1 = variety_1.reset_index(drop=True)\n",
    "variety_2 = variety_2.reset_index(drop=True)\n",
    "variety_3 = variety_3.reset_index(drop=True)\n",
    "variety_4 = variety_4.reset_index(drop=True)"
   ]
  },
  {
   "cell_type": "code",
   "execution_count": 68,
   "metadata": {},
   "outputs": [
    {
     "data": {
      "text/html": [
       "<div>\n",
       "<style scoped>\n",
       "    .dataframe tbody tr th:only-of-type {\n",
       "        vertical-align: middle;\n",
       "    }\n",
       "\n",
       "    .dataframe tbody tr th {\n",
       "        vertical-align: top;\n",
       "    }\n",
       "\n",
       "    .dataframe thead th {\n",
       "        text-align: right;\n",
       "    }\n",
       "</style>\n",
       "<table border=\"1\" class=\"dataframe\">\n",
       "  <thead>\n",
       "    <tr style=\"text-align: right;\">\n",
       "      <th></th>\n",
       "      <th>country</th>\n",
       "      <th>description</th>\n",
       "      <th>designation</th>\n",
       "      <th>points</th>\n",
       "      <th>price</th>\n",
       "      <th>province</th>\n",
       "      <th>region_1</th>\n",
       "      <th>region_2</th>\n",
       "      <th>taster_name</th>\n",
       "      <th>taster_twitter_handle</th>\n",
       "      <th>title</th>\n",
       "      <th>variety</th>\n",
       "      <th>winery</th>\n",
       "      <th>variety_count</th>\n",
       "    </tr>\n",
       "  </thead>\n",
       "  <tbody>\n",
       "    <tr>\n",
       "      <td>871</td>\n",
       "      <td>US</td>\n",
       "      <td>earthy nutty aroma flavor come intense sweetne...</td>\n",
       "      <td>Vin Doux Naturel</td>\n",
       "      <td>87</td>\n",
       "      <td>3.044522</td>\n",
       "      <td>California</td>\n",
       "      <td>Shenandoah Valley (CA)</td>\n",
       "      <td>Sierra Foothills</td>\n",
       "      <td>Jim Gordon</td>\n",
       "      <td>@gordone_cellars</td>\n",
       "      <td>terre rouge 2013 vin doux naturel muscat blanc...</td>\n",
       "      <td>muscat blanc à petits grains</td>\n",
       "      <td>Terre Rouge</td>\n",
       "      <td>5</td>\n",
       "    </tr>\n",
       "    <tr>\n",
       "      <td>15495</td>\n",
       "      <td>France</td>\n",
       "      <td>lush ripe touch heady rich selection brimming ...</td>\n",
       "      <td>Resplandy</td>\n",
       "      <td>87</td>\n",
       "      <td>2.564949</td>\n",
       "      <td>Languedoc-Roussillon</td>\n",
       "      <td>Muscat de Saint-Jean de Minervois</td>\n",
       "      <td>NaN</td>\n",
       "      <td>Lauren Buzzeo</td>\n",
       "      <td>@laurbuzz</td>\n",
       "      <td>les vignerons de la méditerranée nv resplandy ...</td>\n",
       "      <td>muscat blanc à petits grains</td>\n",
       "      <td>Les Vignerons de la Méditerranée</td>\n",
       "      <td>5</td>\n",
       "    </tr>\n",
       "  </tbody>\n",
       "</table>\n",
       "</div>"
      ],
      "text/plain": [
       "      country                                        description  \\\n",
       "871        US  earthy nutty aroma flavor come intense sweetne...   \n",
       "15495  France  lush ripe touch heady rich selection brimming ...   \n",
       "\n",
       "            designation  points     price              province  \\\n",
       "871    Vin Doux Naturel      87  3.044522            California   \n",
       "15495         Resplandy      87  2.564949  Languedoc-Roussillon   \n",
       "\n",
       "                                region_1          region_2    taster_name  \\\n",
       "871               Shenandoah Valley (CA)  Sierra Foothills     Jim Gordon   \n",
       "15495  Muscat de Saint-Jean de Minervois               NaN  Lauren Buzzeo   \n",
       "\n",
       "      taster_twitter_handle  \\\n",
       "871        @gordone_cellars   \n",
       "15495             @laurbuzz   \n",
       "\n",
       "                                                   title  \\\n",
       "871    terre rouge 2013 vin doux naturel muscat blanc...   \n",
       "15495  les vignerons de la méditerranée nv resplandy ...   \n",
       "\n",
       "                            variety                            winery  \\\n",
       "871    muscat blanc à petits grains                       Terre Rouge   \n",
       "15495  muscat blanc à petits grains  Les Vignerons de la Méditerranée   \n",
       "\n",
       "       variety_count  \n",
       "871                5  \n",
       "15495              5  "
      ]
     },
     "execution_count": 68,
     "metadata": {},
     "output_type": "execute_result"
    }
   ],
   "source": [
    "df[(df['variety_count'] == 5)]"
   ]
  },
  {
   "cell_type": "code",
   "execution_count": 69,
   "metadata": {
    "scrolled": true
   },
   "outputs": [
    {
     "data": {
      "text/plain": [
       "bordeaux style red blend               4958\n",
       "rhône style red blend                  1283\n",
       "bordeaux style white blend              635\n",
       "rhône style white blend                 388\n",
       "touriga nacional cabernet sauvignon      25\n",
       "cabernet sauvignon cabernet franc        21\n",
       "cabernet franc cabernet sauvignon        15\n",
       "chenin blanc sauvignon blanc              6\n",
       "loin de l oeil                            6\n",
       "sauvignon blanc chenin blanc              4\n",
       "cabernet sauvignon merlot shiraz          2\n",
       "pinot blanc pinot noir                    1\n",
       "pinot grigio sauvignon blanc              1\n",
       "Name: variety, dtype: int64"
      ]
     },
     "execution_count": 69,
     "metadata": {},
     "output_type": "execute_result"
    }
   ],
   "source": [
    "variety_4[\"variety\"].value_counts()"
   ]
  },
  {
   "cell_type": "code",
   "execution_count": 111,
   "metadata": {},
   "outputs": [],
   "source": [
    "variety_1_tfidf = variety_1_tfidf.reset_index(drop=True)\n",
    "variety_2_tfidf = variety_2_tfidf.reset_index(drop=True)\n",
    "variety_3_tfidf = variety_3_tfidf.reset_index(drop=True)\n",
    "variety_4_tfidf = variety_4_tfidf.reset_index(drop=True)"
   ]
  },
  {
   "cell_type": "code",
   "execution_count": 138,
   "metadata": {},
   "outputs": [],
   "source": [
    "ngram_range = (1, 1)"
   ]
  },
  {
   "cell_type": "code",
   "execution_count": 139,
   "metadata": {},
   "outputs": [],
   "source": [
    "vectorizer = TfidfVectorizer(\"char\", ngram_range=ngram_range, sublinear_tf=True)"
   ]
  },
  {
   "cell_type": "code",
   "execution_count": 140,
   "metadata": {},
   "outputs": [],
   "source": [
    "tfidf_matrix_1 = vectorizer.fit_transform(variety_1_tfidf.astype('U'))\n",
    "tfidf_matrix_2 = vectorizer.fit_transform(variety_2_tfidf.astype('U'))\n",
    "tfidf_matrix_3 = vectorizer.fit_transform(variety_3_tfidf.astype('U'))\n",
    "tfidf_matrix_4 = vectorizer.fit_transform(variety_4_tfidf.astype('U'))"
   ]
  },
  {
   "cell_type": "code",
   "execution_count": 141,
   "metadata": {},
   "outputs": [
    {
     "name": "stdout",
     "output_type": "stream",
     "text": [
      "  (0, 148)\t0.5678199312935364\n",
      "  (0, 143)\t0.8231527960383804\n",
      "  (1, 69)\t0.9017266063416618\n",
      "  (1, 135)\t0.4323067515266791\n",
      "  (2, 123)\t0.7385596360396541\n",
      "  (2, 135)\t0.6741881517892269\n",
      "  (3, 100)\t0.7850906394599458\n",
      "  (3, 181)\t0.6193808907549323\n",
      "  (4, 69)\t0.9017266063416618\n",
      "  (4, 135)\t0.4323067515266791\n",
      "  (5, 168)\t0.6686684218667583\n",
      "  (5, 29)\t0.7435607181651133\n",
      "  (6, 168)\t0.6686684218667583\n",
      "  (6, 29)\t0.7435607181651133\n",
      "  (7, 25)\t0.3964750054587687\n",
      "  (7, 181)\t0.9180455163261074\n",
      "  (8, 25)\t0.6616189651109766\n",
      "  (8, 148)\t0.7498402129823928\n",
      "  (9, 123)\t0.7385596360396541\n",
      "  (9, 135)\t0.6741881517892269\n",
      "  (10, 208)\t0.8555488103131292\n",
      "  (10, 25)\t0.5177221582777671\n",
      "  (11, 12)\t0.7309690530825415\n",
      "  (11, 122)\t0.682410612047917\n",
      "  (12, 123)\t0.7385596360396541\n",
      "  :\t:\n",
      "  (51138, 148)\t0.7498402129823928\n",
      "  (51139, 20)\t0.49656397467215324\n",
      "  (51139, 40)\t0.8680001261853555\n",
      "  (51140, 25)\t0.6616189651109766\n",
      "  (51140, 148)\t0.7498402129823928\n",
      "  (51141, 29)\t0.35676421968795297\n",
      "  (51141, 100)\t0.9341944613143701\n",
      "  (51142, 69)\t0.9017266063416618\n",
      "  (51142, 135)\t0.4323067515266791\n",
      "  (51143, 25)\t0.3964750054587687\n",
      "  (51143, 181)\t0.9180455163261074\n",
      "  (51144, 69)\t0.9017266063416618\n",
      "  (51144, 135)\t0.4323067515266791\n",
      "  (51145, 123)\t0.7385596360396541\n",
      "  (51145, 135)\t0.6741881517892269\n",
      "  (51146, 12)\t0.7309690530825415\n",
      "  (51146, 122)\t0.682410612047917\n",
      "  (51147, 168)\t0.6686684218667583\n",
      "  (51147, 29)\t0.7435607181651133\n",
      "  (51148, 69)\t0.9017266063416618\n",
      "  (51148, 135)\t0.4323067515266791\n",
      "  (51149, 123)\t0.7385596360396541\n",
      "  (51149, 135)\t0.6741881517892269\n",
      "  (51150, 69)\t0.9017266063416618\n",
      "  (51150, 135)\t0.4323067515266791\n"
     ]
    }
   ],
   "source": [
    "print(tfidf_matrix_2)"
   ]
  },
  {
   "cell_type": "code",
   "execution_count": 142,
   "metadata": {},
   "outputs": [],
   "source": [
    "def awesome_sparse_dot_top(A, B, ntop, lower_bound=0):\n",
    "    # force A and B as a CSR matrix.\n",
    "    # If they have already been CSR, there is no overhead\n",
    "    A = A.tocsr()\n",
    "    B = B.tocsr()\n",
    "    M, _ = A.shape\n",
    "    _, N = B.shape\n",
    "\n",
    "    idx_dtype = np.int32\n",
    "\n",
    "    nnz_max = M * ntop\n",
    "    indptr = np.zeros(M + 1, dtype=idx_dtype)\n",
    "    indices = np.zeros(nnz_max, dtype=idx_dtype)\n",
    "    data = np.zeros(nnz_max, dtype=A.dtype)\n",
    "\n",
    "    # if A or B are all zeros matrix, return all zero matrix directly\n",
    "    if len(A.indices) > 0 and len(A.data) > 0 and len(A.indptr) > 0 and \\\n",
    "            len(B.indices) > 0 and len(B.data) > 0 and len(B.indptr) > 0:\n",
    "        ct.sparse_dot_topn(\n",
    "            M, N, np.asarray(A.indptr, dtype=idx_dtype),\n",
    "            np.asarray(A.indices, dtype=idx_dtype),\n",
    "            A.data,\n",
    "            np.asarray(B.indptr, dtype=idx_dtype),\n",
    "            np.asarray(B.indices, dtype=idx_dtype),\n",
    "            B.data,\n",
    "            ntop,\n",
    "            lower_bound,\n",
    "            indptr, indices, data)\n",
    "\n",
    "    # N.B. since the indices are grid id here, we still keep the shape as (M,N)\n",
    "    return csr_matrix((data, indices, indptr), shape=(M, N))"
   ]
  },
  {
   "cell_type": "code",
   "execution_count": 157,
   "metadata": {},
   "outputs": [],
   "source": [
    "matches = awesome_sparse_dot_top(tfidf_matrix_2, tfidf_matrix_2.transpose(), 10)"
   ]
  },
  {
   "cell_type": "code",
   "execution_count": 158,
   "metadata": {},
   "outputs": [
    {
     "data": {
      "text/plain": [
       "511154"
      ]
     },
     "execution_count": 158,
     "metadata": {},
     "output_type": "execute_result"
    }
   ],
   "source": [
    "matches.count_nonzero()"
   ]
  },
  {
   "cell_type": "code",
   "execution_count": 159,
   "metadata": {},
   "outputs": [],
   "source": [
    "def get_matches_df(sparse_matrix, name_vector, top=matches.count_nonzero()):\n",
    "    non_zeros = sparse_matrix.nonzero()\n",
    "    \n",
    "    sparserows = non_zeros[0]\n",
    "    sparsecols = non_zeros[1]\n",
    "    \n",
    "    if top:\n",
    "        nr_matches = top\n",
    "    else:\n",
    "        nr_matches = sparsecols.size\n",
    "    \n",
    "    left_side = np.empty([nr_matches], dtype=object)\n",
    "    left_side_idx = np.empty([nr_matches], dtype=object)\n",
    "    right_side = np.empty([nr_matches], dtype=object)\n",
    "    right_side_idx = np.empty([nr_matches], dtype=object)\n",
    "    similairity = np.zeros(nr_matches)\n",
    "    \n",
    "    for index in range(0, nr_matches):\n",
    "        left_side[index] = name_vector[sparserows[index]]\n",
    "        left_side_idx[index] = sparserows[index]\n",
    "        right_side[index] = name_vector[sparsecols[index]]\n",
    "        right_side_idx[index] = sparsecols[index]\n",
    "        similairity[index] = sparse_matrix.data[index]\n",
    "    \n",
    "    return pd.DataFrame({'left_side': left_side,\n",
    "                         'left_side_idx': left_side_idx,\n",
    "                         'right_side': right_side,\n",
    "                         'right_side_idx': right_side_idx,\n",
    "                         'similarity': similairity})"
   ]
  },
  {
   "cell_type": "code",
   "execution_count": 162,
   "metadata": {},
   "outputs": [],
   "source": [
    "matches_df = get_matches_df(matches, variety_2_tfidf)"
   ]
  },
  {
   "cell_type": "code",
   "execution_count": 163,
   "metadata": {},
   "outputs": [
    {
     "data": {
      "text/html": [
       "<div>\n",
       "<style scoped>\n",
       "    .dataframe tbody tr th:only-of-type {\n",
       "        vertical-align: middle;\n",
       "    }\n",
       "\n",
       "    .dataframe tbody tr th {\n",
       "        vertical-align: top;\n",
       "    }\n",
       "\n",
       "    .dataframe thead th {\n",
       "        text-align: right;\n",
       "    }\n",
       "</style>\n",
       "<table border=\"1\" class=\"dataframe\">\n",
       "  <thead>\n",
       "    <tr style=\"text-align: right;\">\n",
       "      <th></th>\n",
       "      <th>left_side</th>\n",
       "      <th>left_side_idx</th>\n",
       "      <th>right_side</th>\n",
       "      <th>right_side_idx</th>\n",
       "      <th>similarity</th>\n",
       "    </tr>\n",
       "  </thead>\n",
       "  <tbody>\n",
       "    <tr>\n",
       "      <td>0</td>\n",
       "      <td>portuguese red</td>\n",
       "      <td>0</td>\n",
       "      <td>portuguese red</td>\n",
       "      <td>50732</td>\n",
       "      <td>1.0</td>\n",
       "    </tr>\n",
       "    <tr>\n",
       "      <td>1</td>\n",
       "      <td>portuguese red</td>\n",
       "      <td>0</td>\n",
       "      <td>portuguese red</td>\n",
       "      <td>50783</td>\n",
       "      <td>1.0</td>\n",
       "    </tr>\n",
       "    <tr>\n",
       "      <td>2</td>\n",
       "      <td>portuguese red</td>\n",
       "      <td>0</td>\n",
       "      <td>portuguese red</td>\n",
       "      <td>50784</td>\n",
       "      <td>1.0</td>\n",
       "    </tr>\n",
       "    <tr>\n",
       "      <td>3</td>\n",
       "      <td>portuguese red</td>\n",
       "      <td>0</td>\n",
       "      <td>portuguese red</td>\n",
       "      <td>50798</td>\n",
       "      <td>1.0</td>\n",
       "    </tr>\n",
       "    <tr>\n",
       "      <td>4</td>\n",
       "      <td>portuguese red</td>\n",
       "      <td>0</td>\n",
       "      <td>portuguese red</td>\n",
       "      <td>50838</td>\n",
       "      <td>1.0</td>\n",
       "    </tr>\n",
       "    <tr>\n",
       "      <td>...</td>\n",
       "      <td>...</td>\n",
       "      <td>...</td>\n",
       "      <td>...</td>\n",
       "      <td>...</td>\n",
       "      <td>...</td>\n",
       "    </tr>\n",
       "    <tr>\n",
       "      <td>511149</td>\n",
       "      <td>pinot gris</td>\n",
       "      <td>51150</td>\n",
       "      <td>pinot gris</td>\n",
       "      <td>51119</td>\n",
       "      <td>1.0</td>\n",
       "    </tr>\n",
       "    <tr>\n",
       "      <td>511150</td>\n",
       "      <td>pinot gris</td>\n",
       "      <td>51150</td>\n",
       "      <td>pinot gris</td>\n",
       "      <td>51142</td>\n",
       "      <td>1.0</td>\n",
       "    </tr>\n",
       "    <tr>\n",
       "      <td>511151</td>\n",
       "      <td>pinot gris</td>\n",
       "      <td>51150</td>\n",
       "      <td>pinot gris</td>\n",
       "      <td>51144</td>\n",
       "      <td>1.0</td>\n",
       "    </tr>\n",
       "    <tr>\n",
       "      <td>511152</td>\n",
       "      <td>pinot gris</td>\n",
       "      <td>51150</td>\n",
       "      <td>pinot gris</td>\n",
       "      <td>51148</td>\n",
       "      <td>1.0</td>\n",
       "    </tr>\n",
       "    <tr>\n",
       "      <td>511153</td>\n",
       "      <td>pinot gris</td>\n",
       "      <td>51150</td>\n",
       "      <td>pinot gris</td>\n",
       "      <td>51150</td>\n",
       "      <td>1.0</td>\n",
       "    </tr>\n",
       "  </tbody>\n",
       "</table>\n",
       "<p>511154 rows × 5 columns</p>\n",
       "</div>"
      ],
      "text/plain": [
       "             left_side left_side_idx      right_side right_side_idx  \\\n",
       "0       portuguese red             0  portuguese red          50732   \n",
       "1       portuguese red             0  portuguese red          50783   \n",
       "2       portuguese red             0  portuguese red          50784   \n",
       "3       portuguese red             0  portuguese red          50798   \n",
       "4       portuguese red             0  portuguese red          50838   \n",
       "...                ...           ...             ...            ...   \n",
       "511149      pinot gris         51150      pinot gris          51119   \n",
       "511150      pinot gris         51150      pinot gris          51142   \n",
       "511151      pinot gris         51150      pinot gris          51144   \n",
       "511152      pinot gris         51150      pinot gris          51148   \n",
       "511153      pinot gris         51150      pinot gris          51150   \n",
       "\n",
       "        similarity  \n",
       "0              1.0  \n",
       "1              1.0  \n",
       "2              1.0  \n",
       "3              1.0  \n",
       "4              1.0  \n",
       "...            ...  \n",
       "511149         1.0  \n",
       "511150         1.0  \n",
       "511151         1.0  \n",
       "511152         1.0  \n",
       "511153         1.0  \n",
       "\n",
       "[511154 rows x 5 columns]"
      ]
     },
     "execution_count": 163,
     "metadata": {},
     "output_type": "execute_result"
    }
   ],
   "source": [
    "matches_df"
   ]
  },
  {
   "cell_type": "code",
   "execution_count": 164,
   "metadata": {},
   "outputs": [],
   "source": [
    "unique_df = matches_df[(matches_df['similarity'] < 0.99999)].sort_values([\"left_side_idx\", \"similarity\"], ascending=(True, False))"
   ]
  },
  {
   "cell_type": "code",
   "execution_count": 165,
   "metadata": {},
   "outputs": [
    {
     "data": {
      "text/html": [
       "<div>\n",
       "<style scoped>\n",
       "    .dataframe tbody tr th:only-of-type {\n",
       "        vertical-align: middle;\n",
       "    }\n",
       "\n",
       "    .dataframe tbody tr th {\n",
       "        vertical-align: top;\n",
       "    }\n",
       "\n",
       "    .dataframe thead th {\n",
       "        text-align: right;\n",
       "    }\n",
       "</style>\n",
       "<table border=\"1\" class=\"dataframe\">\n",
       "  <thead>\n",
       "    <tr style=\"text-align: right;\">\n",
       "      <th></th>\n",
       "      <th>left_side</th>\n",
       "      <th>left_side_idx</th>\n",
       "      <th>right_side</th>\n",
       "      <th>right_side_idx</th>\n",
       "      <th>similarity</th>\n",
       "    </tr>\n",
       "  </thead>\n",
       "  <tbody>\n",
       "    <tr>\n",
       "      <td>37</td>\n",
       "      <td>tempranillo merlot</td>\n",
       "      <td>3</td>\n",
       "      <td>cabernet merlot</td>\n",
       "      <td>39418</td>\n",
       "      <td>0.733427</td>\n",
       "    </tr>\n",
       "    <tr>\n",
       "      <td>38</td>\n",
       "      <td>tempranillo merlot</td>\n",
       "      <td>3</td>\n",
       "      <td>cabernet merlot</td>\n",
       "      <td>39874</td>\n",
       "      <td>0.733427</td>\n",
       "    </tr>\n",
       "    <tr>\n",
       "      <td>39</td>\n",
       "      <td>tempranillo merlot</td>\n",
       "      <td>3</td>\n",
       "      <td>merlot cabernet</td>\n",
       "      <td>42767</td>\n",
       "      <td>0.733427</td>\n",
       "    </tr>\n",
       "    <tr>\n",
       "      <td>2915</td>\n",
       "      <td>garnacha tintorera</td>\n",
       "      <td>291</td>\n",
       "      <td>garnacha blend</td>\n",
       "      <td>25704</td>\n",
       "      <td>0.572904</td>\n",
       "    </tr>\n",
       "    <tr>\n",
       "      <td>2918</td>\n",
       "      <td>garnacha tintorera</td>\n",
       "      <td>291</td>\n",
       "      <td>garnacha blend</td>\n",
       "      <td>40141</td>\n",
       "      <td>0.572904</td>\n",
       "    </tr>\n",
       "    <tr>\n",
       "      <td>...</td>\n",
       "      <td>...</td>\n",
       "      <td>...</td>\n",
       "      <td>...</td>\n",
       "      <td>...</td>\n",
       "      <td>...</td>\n",
       "    </tr>\n",
       "    <tr>\n",
       "      <td>510271</td>\n",
       "      <td>pinot chardonnay</td>\n",
       "      <td>51062</td>\n",
       "      <td>chardonnay sauvignon</td>\n",
       "      <td>39402</td>\n",
       "      <td>0.910557</td>\n",
       "    </tr>\n",
       "    <tr>\n",
       "      <td>510699</td>\n",
       "      <td>touriga franca</td>\n",
       "      <td>51105</td>\n",
       "      <td>touriga nacional</td>\n",
       "      <td>48956</td>\n",
       "      <td>0.397519</td>\n",
       "    </tr>\n",
       "    <tr>\n",
       "      <td>510700</td>\n",
       "      <td>touriga franca</td>\n",
       "      <td>51105</td>\n",
       "      <td>touriga nacional</td>\n",
       "      <td>49150</td>\n",
       "      <td>0.397519</td>\n",
       "    </tr>\n",
       "    <tr>\n",
       "      <td>510701</td>\n",
       "      <td>touriga franca</td>\n",
       "      <td>51105</td>\n",
       "      <td>touriga nacional</td>\n",
       "      <td>49331</td>\n",
       "      <td>0.397519</td>\n",
       "    </tr>\n",
       "    <tr>\n",
       "      <td>510702</td>\n",
       "      <td>touriga franca</td>\n",
       "      <td>51105</td>\n",
       "      <td>touriga nacional</td>\n",
       "      <td>49773</td>\n",
       "      <td>0.397519</td>\n",
       "    </tr>\n",
       "  </tbody>\n",
       "</table>\n",
       "<p>1592 rows × 5 columns</p>\n",
       "</div>"
      ],
      "text/plain": [
       "                 left_side left_side_idx            right_side right_side_idx  \\\n",
       "37      tempranillo merlot             3       cabernet merlot          39418   \n",
       "38      tempranillo merlot             3       cabernet merlot          39874   \n",
       "39      tempranillo merlot             3       merlot cabernet          42767   \n",
       "2915    garnacha tintorera           291        garnacha blend          25704   \n",
       "2918    garnacha tintorera           291        garnacha blend          40141   \n",
       "...                    ...           ...                   ...            ...   \n",
       "510271    pinot chardonnay         51062  chardonnay sauvignon          39402   \n",
       "510699      touriga franca         51105      touriga nacional          48956   \n",
       "510700      touriga franca         51105      touriga nacional          49150   \n",
       "510701      touriga franca         51105      touriga nacional          49331   \n",
       "510702      touriga franca         51105      touriga nacional          49773   \n",
       "\n",
       "        similarity  \n",
       "37        0.733427  \n",
       "38        0.733427  \n",
       "39        0.733427  \n",
       "2915      0.572904  \n",
       "2918      0.572904  \n",
       "...            ...  \n",
       "510271    0.910557  \n",
       "510699    0.397519  \n",
       "510700    0.397519  \n",
       "510701    0.397519  \n",
       "510702    0.397519  \n",
       "\n",
       "[1592 rows x 5 columns]"
      ]
     },
     "execution_count": 165,
     "metadata": {},
     "output_type": "execute_result"
    }
   ],
   "source": [
    "unique_df"
   ]
  },
  {
   "cell_type": "code",
   "execution_count": 169,
   "metadata": {},
   "outputs": [],
   "source": [
    "variety_1.to_csv(\"variety_1\")"
   ]
  },
  {
   "cell_type": "code",
   "execution_count": 170,
   "metadata": {},
   "outputs": [],
   "source": [
    "variety_2.to_csv(\"variety_2\")"
   ]
  },
  {
   "cell_type": "code",
   "execution_count": 171,
   "metadata": {},
   "outputs": [],
   "source": [
    "variety_3.to_csv(\"variety_3\")"
   ]
  },
  {
   "cell_type": "code",
   "execution_count": 172,
   "metadata": {},
   "outputs": [],
   "source": [
    "variety_4.to_csv(\"variety_4\")"
   ]
  }
 ],
 "metadata": {
  "kernelspec": {
   "display_name": "Python 3",
   "language": "python",
   "name": "python3"
  },
  "language_info": {
   "codemirror_mode": {
    "name": "ipython",
    "version": 3
   },
   "file_extension": ".py",
   "mimetype": "text/x-python",
   "name": "python",
   "nbconvert_exporter": "python",
   "pygments_lexer": "ipython3",
   "version": "3.7.6"
  }
 },
 "nbformat": 4,
 "nbformat_minor": 2
}
