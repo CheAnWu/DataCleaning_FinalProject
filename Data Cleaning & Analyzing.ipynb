{
 "cells": [
  {
   "cell_type": "code",
   "execution_count": 1,
   "metadata": {},
   "outputs": [
    {
     "name": "stdout",
     "output_type": "stream",
     "text": [
      "Downloading emoji data ...\n",
      "... OK (Got response in 1.26 seconds)\n",
      "Writing emoji data to C:\\Users\\USER\\.demoji\\codes.json ...\n",
      "... OK\n"
     ]
    },
    {
     "name": "stderr",
     "output_type": "stream",
     "text": [
      "[nltk_data] Downloading package stopwords to\n",
      "[nltk_data]     C:\\Users\\USER\\AppData\\Roaming\\nltk_data...\n",
      "[nltk_data]   Package stopwords is already up-to-date!\n"
     ]
    },
    {
     "data": {
      "text/plain": [
       "True"
      ]
     },
     "execution_count": 1,
     "metadata": {},
     "output_type": "execute_result"
    }
   ],
   "source": [
    "import pandas as pd\n",
    "import numpy as np\n",
    "import matplotlib.pyplot as plt\n",
    "import seaborn as sns\n",
    "from scipy import stats\n",
    "from scipy.stats import norm, skew\n",
    "import re\n",
    "import string\n",
    "import nltk\n",
    "from nltk.corpus import stopwords\n",
    "from sklearn.linear_model import Lasso, LogisticRegression\n",
    "from nltk.tokenize import RegexpTokenizer\n",
    "from sklearn.feature_extraction.text import TfidfVectorizer\n",
    "import demoji\n",
    "import pandas_dedupe\n",
    "from scipy.sparse import csr_matrix\n",
    "import sparse_dot_topn.sparse_dot_topn as ct\n",
    "demoji.download_codes()\n",
    "nltk.download('stopwords')"
   ]
  },
  {
   "cell_type": "markdown",
   "metadata": {},
   "source": [
    "### Import Data and Perform Initial Analysis\n",
    "***"
   ]
  },
  {
   "cell_type": "code",
   "execution_count": 2,
   "metadata": {},
   "outputs": [],
   "source": [
    "df = pd.read_csv(\"winemag-data-130k-v2.csv\", index_col=0)"
   ]
  },
  {
   "cell_type": "code",
   "execution_count": 3,
   "metadata": {},
   "outputs": [
    {
     "data": {
      "text/html": [
       "<div>\n",
       "<style scoped>\n",
       "    .dataframe tbody tr th:only-of-type {\n",
       "        vertical-align: middle;\n",
       "    }\n",
       "\n",
       "    .dataframe tbody tr th {\n",
       "        vertical-align: top;\n",
       "    }\n",
       "\n",
       "    .dataframe thead th {\n",
       "        text-align: right;\n",
       "    }\n",
       "</style>\n",
       "<table border=\"1\" class=\"dataframe\">\n",
       "  <thead>\n",
       "    <tr style=\"text-align: right;\">\n",
       "      <th></th>\n",
       "      <th>country</th>\n",
       "      <th>description</th>\n",
       "      <th>designation</th>\n",
       "      <th>points</th>\n",
       "      <th>price</th>\n",
       "      <th>province</th>\n",
       "      <th>region_1</th>\n",
       "      <th>region_2</th>\n",
       "      <th>taster_name</th>\n",
       "      <th>taster_twitter_handle</th>\n",
       "      <th>title</th>\n",
       "      <th>variety</th>\n",
       "      <th>winery</th>\n",
       "    </tr>\n",
       "  </thead>\n",
       "  <tbody>\n",
       "    <tr>\n",
       "      <th>0</th>\n",
       "      <td>Italy</td>\n",
       "      <td>Aromas include tropical fruit, broom, brimston...</td>\n",
       "      <td>Vulkà Bianco</td>\n",
       "      <td>87</td>\n",
       "      <td>NaN</td>\n",
       "      <td>Sicily &amp; Sardinia</td>\n",
       "      <td>Etna</td>\n",
       "      <td>NaN</td>\n",
       "      <td>Kerin O’Keefe</td>\n",
       "      <td>@kerinokeefe</td>\n",
       "      <td>Nicosia 2013 Vulkà Bianco  (Etna)</td>\n",
       "      <td>White Blend</td>\n",
       "      <td>Nicosia</td>\n",
       "    </tr>\n",
       "    <tr>\n",
       "      <th>1</th>\n",
       "      <td>Portugal</td>\n",
       "      <td>This is ripe and fruity, a wine that is smooth...</td>\n",
       "      <td>Avidagos</td>\n",
       "      <td>87</td>\n",
       "      <td>15.0</td>\n",
       "      <td>Douro</td>\n",
       "      <td>NaN</td>\n",
       "      <td>NaN</td>\n",
       "      <td>Roger Voss</td>\n",
       "      <td>@vossroger</td>\n",
       "      <td>Quinta dos Avidagos 2011 Avidagos Red (Douro)</td>\n",
       "      <td>Portuguese Red</td>\n",
       "      <td>Quinta dos Avidagos</td>\n",
       "    </tr>\n",
       "    <tr>\n",
       "      <th>2</th>\n",
       "      <td>US</td>\n",
       "      <td>Tart and snappy, the flavors of lime flesh and...</td>\n",
       "      <td>NaN</td>\n",
       "      <td>87</td>\n",
       "      <td>14.0</td>\n",
       "      <td>Oregon</td>\n",
       "      <td>Willamette Valley</td>\n",
       "      <td>Willamette Valley</td>\n",
       "      <td>Paul Gregutt</td>\n",
       "      <td>@paulgwine</td>\n",
       "      <td>Rainstorm 2013 Pinot Gris (Willamette Valley)</td>\n",
       "      <td>Pinot Gris</td>\n",
       "      <td>Rainstorm</td>\n",
       "    </tr>\n",
       "    <tr>\n",
       "      <th>3</th>\n",
       "      <td>US</td>\n",
       "      <td>Pineapple rind, lemon pith and orange blossom ...</td>\n",
       "      <td>Reserve Late Harvest</td>\n",
       "      <td>87</td>\n",
       "      <td>13.0</td>\n",
       "      <td>Michigan</td>\n",
       "      <td>Lake Michigan Shore</td>\n",
       "      <td>NaN</td>\n",
       "      <td>Alexander Peartree</td>\n",
       "      <td>NaN</td>\n",
       "      <td>St. Julian 2013 Reserve Late Harvest Riesling ...</td>\n",
       "      <td>Riesling</td>\n",
       "      <td>St. Julian</td>\n",
       "    </tr>\n",
       "    <tr>\n",
       "      <th>4</th>\n",
       "      <td>US</td>\n",
       "      <td>Much like the regular bottling from 2012, this...</td>\n",
       "      <td>Vintner's Reserve Wild Child Block</td>\n",
       "      <td>87</td>\n",
       "      <td>65.0</td>\n",
       "      <td>Oregon</td>\n",
       "      <td>Willamette Valley</td>\n",
       "      <td>Willamette Valley</td>\n",
       "      <td>Paul Gregutt</td>\n",
       "      <td>@paulgwine</td>\n",
       "      <td>Sweet Cheeks 2012 Vintner's Reserve Wild Child...</td>\n",
       "      <td>Pinot Noir</td>\n",
       "      <td>Sweet Cheeks</td>\n",
       "    </tr>\n",
       "  </tbody>\n",
       "</table>\n",
       "</div>"
      ],
      "text/plain": [
       "    country                                        description  \\\n",
       "0     Italy  Aromas include tropical fruit, broom, brimston...   \n",
       "1  Portugal  This is ripe and fruity, a wine that is smooth...   \n",
       "2        US  Tart and snappy, the flavors of lime flesh and...   \n",
       "3        US  Pineapple rind, lemon pith and orange blossom ...   \n",
       "4        US  Much like the regular bottling from 2012, this...   \n",
       "\n",
       "                          designation  points  price           province  \\\n",
       "0                        Vulkà Bianco      87    NaN  Sicily & Sardinia   \n",
       "1                            Avidagos      87   15.0              Douro   \n",
       "2                                 NaN      87   14.0             Oregon   \n",
       "3                Reserve Late Harvest      87   13.0           Michigan   \n",
       "4  Vintner's Reserve Wild Child Block      87   65.0             Oregon   \n",
       "\n",
       "              region_1           region_2         taster_name  \\\n",
       "0                 Etna                NaN       Kerin O’Keefe   \n",
       "1                  NaN                NaN          Roger Voss   \n",
       "2    Willamette Valley  Willamette Valley        Paul Gregutt   \n",
       "3  Lake Michigan Shore                NaN  Alexander Peartree   \n",
       "4    Willamette Valley  Willamette Valley        Paul Gregutt   \n",
       "\n",
       "  taster_twitter_handle                                              title  \\\n",
       "0          @kerinokeefe                  Nicosia 2013 Vulkà Bianco  (Etna)   \n",
       "1            @vossroger      Quinta dos Avidagos 2011 Avidagos Red (Douro)   \n",
       "2           @paulgwine       Rainstorm 2013 Pinot Gris (Willamette Valley)   \n",
       "3                   NaN  St. Julian 2013 Reserve Late Harvest Riesling ...   \n",
       "4           @paulgwine   Sweet Cheeks 2012 Vintner's Reserve Wild Child...   \n",
       "\n",
       "          variety               winery  \n",
       "0     White Blend              Nicosia  \n",
       "1  Portuguese Red  Quinta dos Avidagos  \n",
       "2      Pinot Gris            Rainstorm  \n",
       "3        Riesling           St. Julian  \n",
       "4      Pinot Noir         Sweet Cheeks  "
      ]
     },
     "execution_count": 3,
     "metadata": {},
     "output_type": "execute_result"
    }
   ],
   "source": [
    "df.head()"
   ]
  },
  {
   "cell_type": "code",
   "execution_count": 4,
   "metadata": {},
   "outputs": [
    {
     "data": {
      "text/plain": [
       "(129971, 13)"
      ]
     },
     "execution_count": 4,
     "metadata": {},
     "output_type": "execute_result"
    }
   ],
   "source": [
    "df.shape"
   ]
  },
  {
   "cell_type": "code",
   "execution_count": 5,
   "metadata": {},
   "outputs": [
    {
     "name": "stdout",
     "output_type": "stream",
     "text": [
      "<class 'pandas.core.frame.DataFrame'>\n",
      "Int64Index: 129971 entries, 0 to 129970\n",
      "Data columns (total 13 columns):\n",
      " #   Column                 Non-Null Count   Dtype  \n",
      "---  ------                 --------------   -----  \n",
      " 0   country                129908 non-null  object \n",
      " 1   description            129971 non-null  object \n",
      " 2   designation            92506 non-null   object \n",
      " 3   points                 129971 non-null  int64  \n",
      " 4   price                  120975 non-null  float64\n",
      " 5   province               129908 non-null  object \n",
      " 6   region_1               108724 non-null  object \n",
      " 7   region_2               50511 non-null   object \n",
      " 8   taster_name            103727 non-null  object \n",
      " 9   taster_twitter_handle  98758 non-null   object \n",
      " 10  title                  129971 non-null  object \n",
      " 11  variety                129970 non-null  object \n",
      " 12  winery                 129971 non-null  object \n",
      "dtypes: float64(1), int64(1), object(11)\n",
      "memory usage: 13.9+ MB\n"
     ]
    }
   ],
   "source": [
    "df.info()"
   ]
  },
  {
   "cell_type": "code",
   "execution_count": 6,
   "metadata": {},
   "outputs": [],
   "source": [
    "def df_detail(df):\n",
    "    temp = pd.DataFrame(df.dtypes, columns=['dtypes'])\n",
    "    temp = temp.reset_index()\n",
    "    temp['Col_Name'] = temp['index']\n",
    "    temp = temp[['Col_Name','dtypes']]\n",
    "    temp['Missing_value'] = df.isnull().sum().values\n",
    "    temp['Missing_rate (%)'] = df.isnull().sum().values / df.shape[0] * 100\n",
    "    temp['Unique_value'] = df.nunique().values\n",
    "    temp['Unique_rate (%)'] = df.nunique().values / df.shape[0] * 100\n",
    "    return temp"
   ]
  },
  {
   "cell_type": "code",
   "execution_count": 7,
   "metadata": {},
   "outputs": [
    {
     "data": {
      "text/html": [
       "<div>\n",
       "<style scoped>\n",
       "    .dataframe tbody tr th:only-of-type {\n",
       "        vertical-align: middle;\n",
       "    }\n",
       "\n",
       "    .dataframe tbody tr th {\n",
       "        vertical-align: top;\n",
       "    }\n",
       "\n",
       "    .dataframe thead th {\n",
       "        text-align: right;\n",
       "    }\n",
       "</style>\n",
       "<table border=\"1\" class=\"dataframe\">\n",
       "  <thead>\n",
       "    <tr style=\"text-align: right;\">\n",
       "      <th></th>\n",
       "      <th>Col_Name</th>\n",
       "      <th>dtypes</th>\n",
       "      <th>Missing_value</th>\n",
       "      <th>Missing_rate (%)</th>\n",
       "      <th>Unique_value</th>\n",
       "      <th>Unique_rate (%)</th>\n",
       "    </tr>\n",
       "  </thead>\n",
       "  <tbody>\n",
       "    <tr>\n",
       "      <th>0</th>\n",
       "      <td>country</td>\n",
       "      <td>object</td>\n",
       "      <td>63</td>\n",
       "      <td>0.048472</td>\n",
       "      <td>43</td>\n",
       "      <td>0.033084</td>\n",
       "    </tr>\n",
       "    <tr>\n",
       "      <th>1</th>\n",
       "      <td>description</td>\n",
       "      <td>object</td>\n",
       "      <td>0</td>\n",
       "      <td>0.000000</td>\n",
       "      <td>119955</td>\n",
       "      <td>92.293666</td>\n",
       "    </tr>\n",
       "    <tr>\n",
       "      <th>2</th>\n",
       "      <td>designation</td>\n",
       "      <td>object</td>\n",
       "      <td>37465</td>\n",
       "      <td>28.825661</td>\n",
       "      <td>37979</td>\n",
       "      <td>29.221134</td>\n",
       "    </tr>\n",
       "    <tr>\n",
       "      <th>3</th>\n",
       "      <td>points</td>\n",
       "      <td>int64</td>\n",
       "      <td>0</td>\n",
       "      <td>0.000000</td>\n",
       "      <td>21</td>\n",
       "      <td>0.016157</td>\n",
       "    </tr>\n",
       "    <tr>\n",
       "      <th>4</th>\n",
       "      <td>price</td>\n",
       "      <td>float64</td>\n",
       "      <td>8996</td>\n",
       "      <td>6.921544</td>\n",
       "      <td>390</td>\n",
       "      <td>0.300067</td>\n",
       "    </tr>\n",
       "    <tr>\n",
       "      <th>5</th>\n",
       "      <td>province</td>\n",
       "      <td>object</td>\n",
       "      <td>63</td>\n",
       "      <td>0.048472</td>\n",
       "      <td>425</td>\n",
       "      <td>0.326996</td>\n",
       "    </tr>\n",
       "    <tr>\n",
       "      <th>6</th>\n",
       "      <td>region_1</td>\n",
       "      <td>object</td>\n",
       "      <td>21247</td>\n",
       "      <td>16.347493</td>\n",
       "      <td>1229</td>\n",
       "      <td>0.945596</td>\n",
       "    </tr>\n",
       "    <tr>\n",
       "      <th>7</th>\n",
       "      <td>region_2</td>\n",
       "      <td>object</td>\n",
       "      <td>79460</td>\n",
       "      <td>61.136715</td>\n",
       "      <td>17</td>\n",
       "      <td>0.013080</td>\n",
       "    </tr>\n",
       "    <tr>\n",
       "      <th>8</th>\n",
       "      <td>taster_name</td>\n",
       "      <td>object</td>\n",
       "      <td>26244</td>\n",
       "      <td>20.192197</td>\n",
       "      <td>19</td>\n",
       "      <td>0.014619</td>\n",
       "    </tr>\n",
       "    <tr>\n",
       "      <th>9</th>\n",
       "      <td>taster_twitter_handle</td>\n",
       "      <td>object</td>\n",
       "      <td>31213</td>\n",
       "      <td>24.015357</td>\n",
       "      <td>15</td>\n",
       "      <td>0.011541</td>\n",
       "    </tr>\n",
       "    <tr>\n",
       "      <th>10</th>\n",
       "      <td>title</td>\n",
       "      <td>object</td>\n",
       "      <td>0</td>\n",
       "      <td>0.000000</td>\n",
       "      <td>118840</td>\n",
       "      <td>91.435782</td>\n",
       "    </tr>\n",
       "    <tr>\n",
       "      <th>11</th>\n",
       "      <td>variety</td>\n",
       "      <td>object</td>\n",
       "      <td>1</td>\n",
       "      <td>0.000769</td>\n",
       "      <td>707</td>\n",
       "      <td>0.543968</td>\n",
       "    </tr>\n",
       "    <tr>\n",
       "      <th>12</th>\n",
       "      <td>winery</td>\n",
       "      <td>object</td>\n",
       "      <td>0</td>\n",
       "      <td>0.000000</td>\n",
       "      <td>16757</td>\n",
       "      <td>12.892876</td>\n",
       "    </tr>\n",
       "  </tbody>\n",
       "</table>\n",
       "</div>"
      ],
      "text/plain": [
       "                 Col_Name   dtypes  Missing_value  Missing_rate (%)  \\\n",
       "0                 country   object             63          0.048472   \n",
       "1             description   object              0          0.000000   \n",
       "2             designation   object          37465         28.825661   \n",
       "3                  points    int64              0          0.000000   \n",
       "4                   price  float64           8996          6.921544   \n",
       "5                province   object             63          0.048472   \n",
       "6                region_1   object          21247         16.347493   \n",
       "7                region_2   object          79460         61.136715   \n",
       "8             taster_name   object          26244         20.192197   \n",
       "9   taster_twitter_handle   object          31213         24.015357   \n",
       "10                  title   object              0          0.000000   \n",
       "11                variety   object              1          0.000769   \n",
       "12                 winery   object              0          0.000000   \n",
       "\n",
       "    Unique_value  Unique_rate (%)  \n",
       "0             43         0.033084  \n",
       "1         119955        92.293666  \n",
       "2          37979        29.221134  \n",
       "3             21         0.016157  \n",
       "4            390         0.300067  \n",
       "5            425         0.326996  \n",
       "6           1229         0.945596  \n",
       "7             17         0.013080  \n",
       "8             19         0.014619  \n",
       "9             15         0.011541  \n",
       "10        118840        91.435782  \n",
       "11           707         0.543968  \n",
       "12         16757        12.892876  "
      ]
     },
     "execution_count": 7,
     "metadata": {},
     "output_type": "execute_result"
    }
   ],
   "source": [
    "df_detail(df)"
   ]
  },
  {
   "cell_type": "markdown",
   "metadata": {},
   "source": [
    "The columns with relatively high missing value rate are region_2, region_1, taster_name, designation, and twitter_handle.\n"
   ]
  },
  {
   "cell_type": "markdown",
   "metadata": {},
   "source": [
    "## Analyzing Features\n",
    "---"
   ]
  },
  {
   "cell_type": "markdown",
   "metadata": {},
   "source": [
    "### Numerical features\n",
    " - Points (int64)\n",
    " - Price (float64)"
   ]
  },
  {
   "cell_type": "code",
   "execution_count": 8,
   "metadata": {},
   "outputs": [
    {
     "data": {
      "text/html": [
       "<div>\n",
       "<style scoped>\n",
       "    .dataframe tbody tr th:only-of-type {\n",
       "        vertical-align: middle;\n",
       "    }\n",
       "\n",
       "    .dataframe tbody tr th {\n",
       "        vertical-align: top;\n",
       "    }\n",
       "\n",
       "    .dataframe thead th {\n",
       "        text-align: right;\n",
       "    }\n",
       "</style>\n",
       "<table border=\"1\" class=\"dataframe\">\n",
       "  <thead>\n",
       "    <tr style=\"text-align: right;\">\n",
       "      <th></th>\n",
       "      <th>points</th>\n",
       "      <th>price</th>\n",
       "    </tr>\n",
       "  </thead>\n",
       "  <tbody>\n",
       "    <tr>\n",
       "      <th>count</th>\n",
       "      <td>129971.000000</td>\n",
       "      <td>120975.000000</td>\n",
       "    </tr>\n",
       "    <tr>\n",
       "      <th>mean</th>\n",
       "      <td>88.447138</td>\n",
       "      <td>35.363389</td>\n",
       "    </tr>\n",
       "    <tr>\n",
       "      <th>std</th>\n",
       "      <td>3.039730</td>\n",
       "      <td>41.022218</td>\n",
       "    </tr>\n",
       "    <tr>\n",
       "      <th>min</th>\n",
       "      <td>80.000000</td>\n",
       "      <td>4.000000</td>\n",
       "    </tr>\n",
       "    <tr>\n",
       "      <th>25%</th>\n",
       "      <td>86.000000</td>\n",
       "      <td>17.000000</td>\n",
       "    </tr>\n",
       "    <tr>\n",
       "      <th>50%</th>\n",
       "      <td>88.000000</td>\n",
       "      <td>25.000000</td>\n",
       "    </tr>\n",
       "    <tr>\n",
       "      <th>75%</th>\n",
       "      <td>91.000000</td>\n",
       "      <td>42.000000</td>\n",
       "    </tr>\n",
       "    <tr>\n",
       "      <th>max</th>\n",
       "      <td>100.000000</td>\n",
       "      <td>3300.000000</td>\n",
       "    </tr>\n",
       "  </tbody>\n",
       "</table>\n",
       "</div>"
      ],
      "text/plain": [
       "              points          price\n",
       "count  129971.000000  120975.000000\n",
       "mean       88.447138      35.363389\n",
       "std         3.039730      41.022218\n",
       "min        80.000000       4.000000\n",
       "25%        86.000000      17.000000\n",
       "50%        88.000000      25.000000\n",
       "75%        91.000000      42.000000\n",
       "max       100.000000    3300.000000"
      ]
     },
     "execution_count": 8,
     "metadata": {},
     "output_type": "execute_result"
    }
   ],
   "source": [
    "df.describe()"
   ]
  },
  {
   "cell_type": "markdown",
   "metadata": {},
   "source": [
    "#### Points\n",
    "---"
   ]
  },
  {
   "cell_type": "markdown",
   "metadata": {},
   "source": [
    "The value of points are distributed between 80 and 100, let's take a look at the distribution by plotting a histogram."
   ]
  },
  {
   "cell_type": "code",
   "execution_count": 9,
   "metadata": {},
   "outputs": [
    {
     "data": {
      "image/png": "[encoded data removed]",
      "text/plain": [
       "<Figure size 1080x432 with 1 Axes>"
      ]
     },
     "metadata": {
      "needs_background": "light"
     },
     "output_type": "display_data"
    }
   ],
   "source": [
    "tmp_df = pd.DataFrame({'points': df[\"points\"].value_counts().index, 'count': df[\"points\"].value_counts().values})\n",
    "plt.figure(figsize = (15,6))\n",
    "plt.title('Points Distribution')\n",
    "sns.barplot(x= 'points', y= 'count', data=tmp_df)\n",
    "locs, labels = plt.xticks()\n",
    "plt.show()"
   ]
  },
  {
   "cell_type": "markdown",
   "metadata": {},
   "source": [
    "Base on the plot, there are no outliers and null in this column, so we won't do any cleaning for points."
   ]
  },
  {
   "cell_type": "markdown",
   "metadata": {},
   "source": [
    "#### Price\n",
    "---"
   ]
  },
  {
   "cell_type": "markdown",
   "metadata": {},
   "source": [
    "- We're worried about wines with missing value in \"Price\" column since we want to discover the price-performace ratio of different wine types, and we don't want to make prediction for wines which price is missing.\n",
    "- Drop all the rows which \"price\" value is NaN."
   ]
  },
  {
   "cell_type": "code",
   "execution_count": 10,
   "metadata": {},
   "outputs": [],
   "source": [
    "df = df.dropna(subset=['price'])\n",
    "df = df.reset_index(drop=True)"
   ]
  },
  {
   "cell_type": "markdown",
   "metadata": {},
   "source": [
    "The mininum price is 4, the maximum price is 3,300, and the mean value is 35.36. Based on the min, max, and mean, we can know that the distribution of price is not an normal distribution, it might contains some outliers, so we would like to look at the distribution of price by plotting a histogram too.\n"
   ]
  },
  {
   "cell_type": "markdown",
   "metadata": {},
   "source": [
    "We're curious about how many wine records which price is more than 1,000. We found that 14 wine's price is greater than 1,000 and 12 of them are from France. France produce some high-level or noble wines and this can interpret that there are some extremely high price wines in France."
   ]
  },
  {
   "cell_type": "code",
   "execution_count": 11,
   "metadata": {},
   "outputs": [
    {
     "data": {
      "text/html": [
       "<div>\n",
       "<style scoped>\n",
       "    .dataframe tbody tr th:only-of-type {\n",
       "        vertical-align: middle;\n",
       "    }\n",
       "\n",
       "    .dataframe tbody tr th {\n",
       "        vertical-align: top;\n",
       "    }\n",
       "\n",
       "    .dataframe thead th {\n",
       "        text-align: right;\n",
       "    }\n",
       "</style>\n",
       "<table border=\"1\" class=\"dataframe\">\n",
       "  <thead>\n",
       "    <tr style=\"text-align: right;\">\n",
       "      <th></th>\n",
       "      <th>country</th>\n",
       "      <th>description</th>\n",
       "      <th>designation</th>\n",
       "      <th>points</th>\n",
       "      <th>price</th>\n",
       "      <th>province</th>\n",
       "      <th>region_1</th>\n",
       "      <th>region_2</th>\n",
       "      <th>taster_name</th>\n",
       "      <th>taster_twitter_handle</th>\n",
       "      <th>title</th>\n",
       "      <th>variety</th>\n",
       "      <th>winery</th>\n",
       "    </tr>\n",
       "  </thead>\n",
       "  <tbody>\n",
       "    <tr>\n",
       "      <th>1472</th>\n",
       "      <td>France</td>\n",
       "      <td>A massive wine for Margaux, packed with tannin...</td>\n",
       "      <td>NaN</td>\n",
       "      <td>98</td>\n",
       "      <td>1900.0</td>\n",
       "      <td>Bordeaux</td>\n",
       "      <td>Margaux</td>\n",
       "      <td>NaN</td>\n",
       "      <td>Roger Voss</td>\n",
       "      <td>@vossroger</td>\n",
       "      <td>Château Margaux 2009  Margaux</td>\n",
       "      <td>Bordeaux-style Red Blend</td>\n",
       "      <td>Château Margaux</td>\n",
       "    </tr>\n",
       "    <tr>\n",
       "      <th>1480</th>\n",
       "      <td>France</td>\n",
       "      <td>Such a generous and ripe wine, with a dark cor...</td>\n",
       "      <td>NaN</td>\n",
       "      <td>97</td>\n",
       "      <td>1100.0</td>\n",
       "      <td>Bordeaux</td>\n",
       "      <td>Pessac-Léognan</td>\n",
       "      <td>NaN</td>\n",
       "      <td>Roger Voss</td>\n",
       "      <td>@vossroger</td>\n",
       "      <td>Château La Mission Haut-Brion 2009  Pessac-Léo...</td>\n",
       "      <td>Bordeaux-style Red Blend</td>\n",
       "      <td>Château La Mission Haut-Brion</td>\n",
       "    </tr>\n",
       "    <tr>\n",
       "      <th>1485</th>\n",
       "      <td>France</td>\n",
       "      <td>Solid, very structured, packed with dense and ...</td>\n",
       "      <td>NaN</td>\n",
       "      <td>96</td>\n",
       "      <td>1200.0</td>\n",
       "      <td>Bordeaux</td>\n",
       "      <td>Pessac-Léognan</td>\n",
       "      <td>NaN</td>\n",
       "      <td>Roger Voss</td>\n",
       "      <td>@vossroger</td>\n",
       "      <td>Château Haut-Brion 2009  Pessac-Léognan</td>\n",
       "      <td>Bordeaux-style Red Blend</td>\n",
       "      <td>Château Haut-Brion</td>\n",
       "    </tr>\n",
       "    <tr>\n",
       "      <th>1488</th>\n",
       "      <td>France</td>\n",
       "      <td>The purest Cabernet Sauvignon fruit, with dark...</td>\n",
       "      <td>NaN</td>\n",
       "      <td>96</td>\n",
       "      <td>1300.0</td>\n",
       "      <td>Bordeaux</td>\n",
       "      <td>Pauillac</td>\n",
       "      <td>NaN</td>\n",
       "      <td>Roger Voss</td>\n",
       "      <td>@vossroger</td>\n",
       "      <td>Château Mouton Rothschild 2009  Pauillac</td>\n",
       "      <td>Bordeaux-style Red Blend</td>\n",
       "      <td>Château Mouton Rothschild</td>\n",
       "    </tr>\n",
       "    <tr>\n",
       "      <th>14744</th>\n",
       "      <td>France</td>\n",
       "      <td>The wine is a velvet glove in an iron fist. Th...</td>\n",
       "      <td>NaN</td>\n",
       "      <td>96</td>\n",
       "      <td>2500.0</td>\n",
       "      <td>Bordeaux</td>\n",
       "      <td>Pomerol</td>\n",
       "      <td>NaN</td>\n",
       "      <td>Roger Voss</td>\n",
       "      <td>@vossroger</td>\n",
       "      <td>Château Pétrus 2014  Pomerol</td>\n",
       "      <td>Bordeaux-style Red Blend</td>\n",
       "      <td>Château Pétrus</td>\n",
       "    </tr>\n",
       "    <tr>\n",
       "      <th>60684</th>\n",
       "      <td>France</td>\n",
       "      <td>This extravagantly perfumed wine has great jui...</td>\n",
       "      <td>NaN</td>\n",
       "      <td>97</td>\n",
       "      <td>2000.0</td>\n",
       "      <td>Bordeaux</td>\n",
       "      <td>Pomerol</td>\n",
       "      <td>NaN</td>\n",
       "      <td>Roger Voss</td>\n",
       "      <td>@vossroger</td>\n",
       "      <td>Château Pétrus 2011  Pomerol</td>\n",
       "      <td>Bordeaux-style Red Blend</td>\n",
       "      <td>Château Pétrus</td>\n",
       "    </tr>\n",
       "    <tr>\n",
       "      <th>74674</th>\n",
       "      <td>France</td>\n",
       "      <td>This ripe wine shows plenty of blackberry frui...</td>\n",
       "      <td>NaN</td>\n",
       "      <td>88</td>\n",
       "      <td>3300.0</td>\n",
       "      <td>Bordeaux</td>\n",
       "      <td>Médoc</td>\n",
       "      <td>NaN</td>\n",
       "      <td>Roger Voss</td>\n",
       "      <td>@vossroger</td>\n",
       "      <td>Château les Ormes Sorbet 2013  Médoc</td>\n",
       "      <td>Bordeaux-style Red Blend</td>\n",
       "      <td>Château les Ormes Sorbet</td>\n",
       "    </tr>\n",
       "    <tr>\n",
       "      <th>83255</th>\n",
       "      <td>Austria</td>\n",
       "      <td>Wet earth, rain-wet stones, damp moss, wild sa...</td>\n",
       "      <td>Ried Loibenberg Smaragd</td>\n",
       "      <td>94</td>\n",
       "      <td>1100.0</td>\n",
       "      <td>Wachau</td>\n",
       "      <td>NaN</td>\n",
       "      <td>NaN</td>\n",
       "      <td>Anne Krebiehl MW</td>\n",
       "      <td>@AnneInVino</td>\n",
       "      <td>Emmerich Knoll 2013 Ried Loibenberg Smaragd Gr...</td>\n",
       "      <td>Grüner Veltliner</td>\n",
       "      <td>Emmerich Knoll</td>\n",
       "    </tr>\n",
       "    <tr>\n",
       "      <th>91549</th>\n",
       "      <td>France</td>\n",
       "      <td>A superb wine from a great year, this is power...</td>\n",
       "      <td>NaN</td>\n",
       "      <td>96</td>\n",
       "      <td>2500.0</td>\n",
       "      <td>Burgundy</td>\n",
       "      <td>La Romanée</td>\n",
       "      <td>NaN</td>\n",
       "      <td>Roger Voss</td>\n",
       "      <td>@vossroger</td>\n",
       "      <td>Domaine du Comte Liger-Belair 2010  La Romanée</td>\n",
       "      <td>Pinot Noir</td>\n",
       "      <td>Domaine du Comte Liger-Belair</td>\n",
       "    </tr>\n",
       "    <tr>\n",
       "      <th>103975</th>\n",
       "      <td>France</td>\n",
       "      <td>Almost black in color, this stunning wine is g...</td>\n",
       "      <td>NaN</td>\n",
       "      <td>100</td>\n",
       "      <td>1500.0</td>\n",
       "      <td>Bordeaux</td>\n",
       "      <td>Pauillac</td>\n",
       "      <td>NaN</td>\n",
       "      <td>Roger Voss</td>\n",
       "      <td>@vossroger</td>\n",
       "      <td>Château Lafite Rothschild 2010  Pauillac</td>\n",
       "      <td>Bordeaux-style Red Blend</td>\n",
       "      <td>Château Lafite Rothschild</td>\n",
       "    </tr>\n",
       "    <tr>\n",
       "      <th>103977</th>\n",
       "      <td>France</td>\n",
       "      <td>This is the finest Cheval Blanc for many years...</td>\n",
       "      <td>NaN</td>\n",
       "      <td>100</td>\n",
       "      <td>1500.0</td>\n",
       "      <td>Bordeaux</td>\n",
       "      <td>Saint-Émilion</td>\n",
       "      <td>NaN</td>\n",
       "      <td>Roger Voss</td>\n",
       "      <td>@vossroger</td>\n",
       "      <td>Château Cheval Blanc 2010  Saint-Émilion</td>\n",
       "      <td>Bordeaux-style Red Blend</td>\n",
       "      <td>Château Cheval Blanc</td>\n",
       "    </tr>\n",
       "    <tr>\n",
       "      <th>105636</th>\n",
       "      <td>France</td>\n",
       "      <td>A wonderfully complete wine, with all the elem...</td>\n",
       "      <td>NaN</td>\n",
       "      <td>96</td>\n",
       "      <td>2000.0</td>\n",
       "      <td>Burgundy</td>\n",
       "      <td>La Romanée</td>\n",
       "      <td>NaN</td>\n",
       "      <td>Roger Voss</td>\n",
       "      <td>@vossroger</td>\n",
       "      <td>Domaine du Comte Liger-Belair 2005  La Romanée</td>\n",
       "      <td>Pinot Noir</td>\n",
       "      <td>Domaine du Comte Liger-Belair</td>\n",
       "    </tr>\n",
       "    <tr>\n",
       "      <th>105649</th>\n",
       "      <td>France</td>\n",
       "      <td>While it starts austerely, this wine is obviou...</td>\n",
       "      <td>NaN</td>\n",
       "      <td>94</td>\n",
       "      <td>1125.0</td>\n",
       "      <td>Burgundy</td>\n",
       "      <td>La Romanée</td>\n",
       "      <td>NaN</td>\n",
       "      <td>Roger Voss</td>\n",
       "      <td>@vossroger</td>\n",
       "      <td>Domaine du Comte Liger-Belair 2006  La Romanée</td>\n",
       "      <td>Pinot Noir</td>\n",
       "      <td>Domaine du Comte Liger-Belair</td>\n",
       "    </tr>\n",
       "    <tr>\n",
       "      <th>112032</th>\n",
       "      <td>US</td>\n",
       "      <td>The nose on this single-vineyard wine from a s...</td>\n",
       "      <td>Roger Rose Vineyard</td>\n",
       "      <td>91</td>\n",
       "      <td>2013.0</td>\n",
       "      <td>California</td>\n",
       "      <td>Arroyo Seco</td>\n",
       "      <td>Central Coast</td>\n",
       "      <td>Matt Kettmann</td>\n",
       "      <td>@mattkettmann</td>\n",
       "      <td>Blair 2013 Roger Rose Vineyard Chardonnay (Arr...</td>\n",
       "      <td>Chardonnay</td>\n",
       "      <td>Blair</td>\n",
       "    </tr>\n",
       "  </tbody>\n",
       "</table>\n",
       "</div>"
      ],
      "text/plain": [
       "        country                                        description  \\\n",
       "1472     France  A massive wine for Margaux, packed with tannin...   \n",
       "1480     France  Such a generous and ripe wine, with a dark cor...   \n",
       "1485     France  Solid, very structured, packed with dense and ...   \n",
       "1488     France  The purest Cabernet Sauvignon fruit, with dark...   \n",
       "14744    France  The wine is a velvet glove in an iron fist. Th...   \n",
       "60684    France  This extravagantly perfumed wine has great jui...   \n",
       "74674    France  This ripe wine shows plenty of blackberry frui...   \n",
       "83255   Austria  Wet earth, rain-wet stones, damp moss, wild sa...   \n",
       "91549    France  A superb wine from a great year, this is power...   \n",
       "103975   France  Almost black in color, this stunning wine is g...   \n",
       "103977   France  This is the finest Cheval Blanc for many years...   \n",
       "105636   France  A wonderfully complete wine, with all the elem...   \n",
       "105649   France  While it starts austerely, this wine is obviou...   \n",
       "112032       US  The nose on this single-vineyard wine from a s...   \n",
       "\n",
       "                    designation  points   price    province        region_1  \\\n",
       "1472                        NaN      98  1900.0    Bordeaux         Margaux   \n",
       "1480                        NaN      97  1100.0    Bordeaux  Pessac-Léognan   \n",
       "1485                        NaN      96  1200.0    Bordeaux  Pessac-Léognan   \n",
       "1488                        NaN      96  1300.0    Bordeaux        Pauillac   \n",
       "14744                       NaN      96  2500.0    Bordeaux         Pomerol   \n",
       "60684                       NaN      97  2000.0    Bordeaux         Pomerol   \n",
       "74674                       NaN      88  3300.0    Bordeaux           Médoc   \n",
       "83255   Ried Loibenberg Smaragd      94  1100.0      Wachau             NaN   \n",
       "91549                       NaN      96  2500.0    Burgundy      La Romanée   \n",
       "103975                      NaN     100  1500.0    Bordeaux        Pauillac   \n",
       "103977                      NaN     100  1500.0    Bordeaux   Saint-Émilion   \n",
       "105636                      NaN      96  2000.0    Burgundy      La Romanée   \n",
       "105649                      NaN      94  1125.0    Burgundy      La Romanée   \n",
       "112032      Roger Rose Vineyard      91  2013.0  California     Arroyo Seco   \n",
       "\n",
       "             region_2       taster_name taster_twitter_handle  \\\n",
       "1472              NaN        Roger Voss            @vossroger   \n",
       "1480              NaN        Roger Voss            @vossroger   \n",
       "1485              NaN        Roger Voss            @vossroger   \n",
       "1488              NaN        Roger Voss            @vossroger   \n",
       "14744             NaN        Roger Voss            @vossroger   \n",
       "60684             NaN        Roger Voss            @vossroger   \n",
       "74674             NaN        Roger Voss            @vossroger   \n",
       "83255             NaN  Anne Krebiehl MW           @AnneInVino   \n",
       "91549             NaN        Roger Voss            @vossroger   \n",
       "103975            NaN        Roger Voss            @vossroger   \n",
       "103977            NaN        Roger Voss            @vossroger   \n",
       "105636            NaN        Roger Voss            @vossroger   \n",
       "105649            NaN        Roger Voss            @vossroger   \n",
       "112032  Central Coast     Matt Kettmann         @mattkettmann   \n",
       "\n",
       "                                                    title  \\\n",
       "1472                        Château Margaux 2009  Margaux   \n",
       "1480    Château La Mission Haut-Brion 2009  Pessac-Léo...   \n",
       "1485              Château Haut-Brion 2009  Pessac-Léognan   \n",
       "1488             Château Mouton Rothschild 2009  Pauillac   \n",
       "14744                        Château Pétrus 2014  Pomerol   \n",
       "60684                        Château Pétrus 2011  Pomerol   \n",
       "74674                Château les Ormes Sorbet 2013  Médoc   \n",
       "83255   Emmerich Knoll 2013 Ried Loibenberg Smaragd Gr...   \n",
       "91549      Domaine du Comte Liger-Belair 2010  La Romanée   \n",
       "103975           Château Lafite Rothschild 2010  Pauillac   \n",
       "103977           Château Cheval Blanc 2010  Saint-Émilion   \n",
       "105636     Domaine du Comte Liger-Belair 2005  La Romanée   \n",
       "105649     Domaine du Comte Liger-Belair 2006  La Romanée   \n",
       "112032  Blair 2013 Roger Rose Vineyard Chardonnay (Arr...   \n",
       "\n",
       "                         variety                         winery  \n",
       "1472    Bordeaux-style Red Blend                Château Margaux  \n",
       "1480    Bordeaux-style Red Blend  Château La Mission Haut-Brion  \n",
       "1485    Bordeaux-style Red Blend             Château Haut-Brion  \n",
       "1488    Bordeaux-style Red Blend      Château Mouton Rothschild  \n",
       "14744   Bordeaux-style Red Blend                 Château Pétrus  \n",
       "60684   Bordeaux-style Red Blend                 Château Pétrus  \n",
       "74674   Bordeaux-style Red Blend       Château les Ormes Sorbet  \n",
       "83255           Grüner Veltliner                 Emmerich Knoll  \n",
       "91549                 Pinot Noir  Domaine du Comte Liger-Belair  \n",
       "103975  Bordeaux-style Red Blend      Château Lafite Rothschild  \n",
       "103977  Bordeaux-style Red Blend           Château Cheval Blanc  \n",
       "105636                Pinot Noir  Domaine du Comte Liger-Belair  \n",
       "105649                Pinot Noir  Domaine du Comte Liger-Belair  \n",
       "112032                Chardonnay                          Blair  "
      ]
     },
     "execution_count": 11,
     "metadata": {},
     "output_type": "execute_result"
    }
   ],
   "source": [
    "df[(df['price'] > 1000)]"
   ]
  },
  {
   "cell_type": "code",
   "execution_count": 12,
   "metadata": {},
   "outputs": [
    {
     "data": {
      "image/png": "[encoded data removed]",
      "text/plain": [
       "<Figure size 1080x432 with 1 Axes>"
      ]
     },
     "metadata": {
      "needs_background": "light"
     },
     "output_type": "display_data"
    }
   ],
   "source": [
    "plt.figure(figsize=(15,6))\n",
    "plt.title(\"Price Distribution\")\n",
    "ax = sns.distplot(df[\"price\"])"
   ]
  },
  {
   "cell_type": "markdown",
   "metadata": {},
   "source": [
    "By looking at the histogram, we found that the distribution of price is right skewed. If we want to have a better distribution of price, we'll need to drop the tail or make some transformation to bring it closer to a normal distribution. There are two options that we want to try:\n",
    "1. Drop the tail: Drop values that greater than 100 dollars. \n",
    "2. Use the log transformation: We'll take log(1+x) to avoid running into issues with zero counts."
   ]
  },
  {
   "cell_type": "markdown",
   "metadata": {},
   "source": [
    "#### Drop the tail\n",
    "---"
   ]
  },
  {
   "cell_type": "code",
   "execution_count": 13,
   "metadata": {},
   "outputs": [
    {
     "name": "stdout",
     "output_type": "stream",
     "text": [
      "2.7823930564166153 % of price is greater then 100 USD\n"
     ]
    },
    {
     "data": {
      "image/png": "[encoded data removed]",
      "text/plain": [
       "<Figure size 1080x432 with 1 Axes>"
      ]
     },
     "metadata": {
      "needs_background": "light"
     },
     "output_type": "display_data"
    }
   ],
   "source": [
    "plt.figure(figsize=(15,6))\n",
    "plt.title(\"Price Distribution (Drop tail)\")\n",
    "ax = sns.distplot(df[df[\"price\"]<=100]['price'])\n",
    "per = df[df['price']>100].shape[0]/df.shape[0]*100\n",
    "print(per, \"% of price is greater then 100 USD\")"
   ]
  },
  {
   "cell_type": "markdown",
   "metadata": {},
   "source": [
    "#### Log transformation\n",
    "---"
   ]
  },
  {
   "cell_type": "code",
   "execution_count": 14,
   "metadata": {},
   "outputs": [],
   "source": [
    "log = df.copy()"
   ]
  },
  {
   "cell_type": "code",
   "execution_count": 15,
   "metadata": {},
   "outputs": [
    {
     "data": {
      "image/png": "[encoded data removed]",
      "text/plain": [
       "<Figure size 1080x432 with 1 Axes>"
      ]
     },
     "metadata": {
      "needs_background": "light"
     },
     "output_type": "display_data"
    }
   ],
   "source": [
    "# log transformation\n",
    "log['price'] = np.log1p(log['price'])\n",
    "\n",
    "plt.figure(figsize=(15,6))\n",
    "plt.title(\"Price Distribution (Log Transformation)\")\n",
    "ax = sns.distplot(log['price'], fit=norm)"
   ]
  },
  {
   "cell_type": "markdown",
   "metadata": {},
   "source": [
    "We finally decide to chooes option of dropping tails. Since this way allows us to better explain the variables"
   ]
  },
  {
   "cell_type": "code",
   "execution_count": 16,
   "metadata": {},
   "outputs": [],
   "source": [
    "df = df[df['price']<100]"
   ]
  },
  {
   "cell_type": "markdown",
   "metadata": {},
   "source": [
    "### Categorical features\n",
    "\n",
    "- Country (object)\n",
    "- Description (object)\n",
    "- Designation (object)\t\n",
    "- Province (object)\t\n",
    "- Region_1 (object)\t\n",
    "- Region_2 (object)\t\n",
    "- Taster_name (object)\t\n",
    "- Taster_twitter_handle (object)\t\n",
    "- Title (object)\t\n",
    "- Variety (object)\t\n",
    "- Winery (object)"
   ]
  },
  {
   "cell_type": "markdown",
   "metadata": {},
   "source": [
    "#### Clarification\n",
    "---\n",
    "By looking at the missing value rate for each column in the chart above, we can see that the columns with relatively high missing value rate are region_2(61%), region_1(16%), taster_name(20%), designation(28%), and twitter_handle(24%).\n",
    "\n",
    "- Region_2: According to the dataset description in Kaggle, sometimes there are more specific regions specified within a wine growing area (ie Rutherford inside the Napa Valley), but this value can sometimes be blank. It's reasonable that region_2 has empty value since that record doesn't have a more specific region specified within that wine growing area.\n",
    "\n",
    "- Taster_name: It's reasonable that some of the wines are not being tasted by a wine taster, so the value in that record might be blank.\n",
    "\n",
    "- Taster_twitter_handle: It's reasonable that the taster of that wine doesn't have a Twitter account or that wine even not being tasted by a wine taster, so the value in that record might be blank.\n",
    "\n",
    "- Region_1: We want to find out the relationship between country and wine's price or point, so we think the missing value of region_1 will not have a significant influence on our analysis and prediction.\n",
    "\n",
    "- Designation: The designation is the vineyard within the winery where the grapes that made the wine are from, same as the feature above, we think designation will not have a significant influence on our analysis and prediction, so we'll just leave these missing value there.\n",
    "\n",
    "\n"
   ]
  },
  {
   "cell_type": "markdown",
   "metadata": {},
   "source": [
    "##### But let's still take a look at the count of unique categories for each of our categorical features :)"
   ]
  },
  {
   "cell_type": "code",
   "execution_count": 17,
   "metadata": {},
   "outputs": [],
   "source": [
    "numerical_features = ['int16', 'int32', 'int64', 'float16', 'float32', 'float64']"
   ]
  },
  {
   "cell_type": "code",
   "execution_count": 18,
   "metadata": {},
   "outputs": [
    {
     "data": {
      "image/png": "[encoded data removed]",
      "text/plain": [
       "<Figure size 576x360 with 1 Axes>"
      ]
     },
     "metadata": {},
     "output_type": "display_data"
    }
   ],
   "source": [
    "categorical_features_count = df.select_dtypes(exclude=numerical_features).nunique()\n",
    "sns.set(rc={'figure.figsize':(8,5)})\n",
    "categorical_features_count_plot = sns.barplot(categorical_features_count.index,\\\n",
    "                                            categorical_features_count.values, alpha=0.8)\n",
    "categorical_features_count_plot.set(xlabel = 'features', ylabel = 'unique counts')\n",
    "for item in categorical_features_count_plot.get_xticklabels():\n",
    "    item.set_rotation(90)"
   ]
  },
  {
   "cell_type": "markdown",
   "metadata": {},
   "source": [
    "Except for the columns we clarified above, we found that description and title are the most miscellaneous and we will further process these two columns later."
   ]
  },
  {
   "cell_type": "markdown",
   "metadata": {},
   "source": [
    "### Country\n",
    "\n",
    "Here we will check the country names are all unique without typo."
   ]
  },
  {
   "cell_type": "code",
   "execution_count": 19,
   "metadata": {},
   "outputs": [
    {
     "data": {
      "text/plain": [
       "array(['Portugal', 'US', 'Spain', 'Italy', 'France', 'Germany',\n",
       "       'Argentina', 'Chile', 'Australia', 'Austria', 'South Africa',\n",
       "       'New Zealand', 'Israel', 'Hungary', 'Greece', 'Romania', 'Mexico',\n",
       "       'Canada', nan, 'Turkey', 'Czech Republic', 'Slovenia',\n",
       "       'Luxembourg', 'Croatia', 'Georgia', 'Uruguay', 'England',\n",
       "       'Lebanon', 'Serbia', 'Brazil', 'Moldova', 'Morocco', 'Peru',\n",
       "       'India', 'Bulgaria', 'Cyprus', 'Armenia', 'Switzerland',\n",
       "       'Bosnia and Herzegovina', 'Ukraine', 'Slovakia', 'Macedonia',\n",
       "       'China'], dtype=object)"
      ]
     },
     "execution_count": 19,
     "metadata": {},
     "output_type": "execute_result"
    }
   ],
   "source": [
    "df['country'].unique()"
   ]
  },
  {
   "cell_type": "markdown",
   "metadata": {},
   "source": [
    "There is no need to process contry column. We are curious about which country has most wine and the following figure shows the distrubution and the table shows the top 5 countries."
   ]
  },
  {
   "cell_type": "code",
   "execution_count": 20,
   "metadata": {},
   "outputs": [
    {
     "data": {
      "text/html": [
       "<div>\n",
       "<style scoped>\n",
       "    .dataframe tbody tr th:only-of-type {\n",
       "        vertical-align: middle;\n",
       "    }\n",
       "\n",
       "    .dataframe tbody tr th {\n",
       "        vertical-align: top;\n",
       "    }\n",
       "\n",
       "    .dataframe thead th {\n",
       "        text-align: right;\n",
       "    }\n",
       "</style>\n",
       "<table border=\"1\" class=\"dataframe\">\n",
       "  <thead>\n",
       "    <tr style=\"text-align: right;\">\n",
       "      <th></th>\n",
       "      <th>country</th>\n",
       "      <th>count</th>\n",
       "    </tr>\n",
       "  </thead>\n",
       "  <tbody>\n",
       "    <tr>\n",
       "      <th>0</th>\n",
       "      <td>US</td>\n",
       "      <td>52949</td>\n",
       "    </tr>\n",
       "    <tr>\n",
       "      <th>1</th>\n",
       "      <td>France</td>\n",
       "      <td>16674</td>\n",
       "    </tr>\n",
       "    <tr>\n",
       "      <th>2</th>\n",
       "      <td>Italy</td>\n",
       "      <td>16143</td>\n",
       "    </tr>\n",
       "    <tr>\n",
       "      <th>3</th>\n",
       "      <td>Spain</td>\n",
       "      <td>6348</td>\n",
       "    </tr>\n",
       "    <tr>\n",
       "      <th>4</th>\n",
       "      <td>Portugal</td>\n",
       "      <td>4779</td>\n",
       "    </tr>\n",
       "  </tbody>\n",
       "</table>\n",
       "</div>"
      ],
      "text/plain": [
       "    country  count\n",
       "0        US  52949\n",
       "1    France  16674\n",
       "2     Italy  16143\n",
       "3     Spain   6348\n",
       "4  Portugal   4779"
      ]
     },
     "execution_count": 20,
     "metadata": {},
     "output_type": "execute_result"
    }
   ],
   "source": [
    "country = pd.DataFrame({'country': df[\"country\"].value_counts().index, 'count': df[\"country\"].value_counts().values})\n",
    "country.head(5)"
   ]
  },
  {
   "cell_type": "code",
   "execution_count": 21,
   "metadata": {},
   "outputs": [
    {
     "data": {
      "image/png": "[encoded data removed]",
      "text/plain": [
       "<Figure size 1080x432 with 1 Axes>"
      ]
     },
     "metadata": {},
     "output_type": "display_data"
    }
   ],
   "source": [
    "plt.figure(figsize = (15,6))\n",
    "plt.title('Points Distribution')\n",
    "sns.barplot(x= 'country', y= 'count', data=country.head(10))\n",
    "locs, labels = plt.xticks()\n",
    "plt.show()"
   ]
  },
  {
   "cell_type": "markdown",
   "metadata": {},
   "source": [
    "Base on the use cases, there are three needed columns should be processed which are 'Description', 'Title' and 'Variety'. We would first take a look at the the \"Description\" and the \"Title\" columns. Since these two columns are text data, we will apply regular expression to clean the text data and try to use some natural language processing(NLP) techniques to find out some interesting insights."
   ]
  },
  {
   "cell_type": "code",
   "execution_count": 22,
   "metadata": {},
   "outputs": [
    {
     "data": {
      "text/plain": [
       "9216"
      ]
     },
     "execution_count": 22,
     "metadata": {},
     "output_type": "execute_result"
    }
   ],
   "source": [
    "df[df.duplicated(['description','title'])].shape[0]"
   ]
  },
  {
   "cell_type": "markdown",
   "metadata": {},
   "source": [
    "We found that there are a lot of duplicates in the description and title, so we want to get rid of those duplicated records."
   ]
  },
  {
   "cell_type": "code",
   "execution_count": 23,
   "metadata": {},
   "outputs": [],
   "source": [
    "df = df.drop_duplicates(['description','title'])\n",
    "df = df.reset_index(drop=True)"
   ]
  },
  {
   "cell_type": "code",
   "execution_count": 24,
   "metadata": {},
   "outputs": [
    {
     "data": {
      "text/plain": [
       "(107808, 13)"
      ]
     },
     "execution_count": 24,
     "metadata": {},
     "output_type": "execute_result"
    }
   ],
   "source": [
    "df.shape"
   ]
  },
  {
   "cell_type": "code",
   "execution_count": 25,
   "metadata": {},
   "outputs": [],
   "source": [
    "# Function to clean text\n",
    "def clean_text(raw_text):\n",
    "    # convert to string if not in string form\n",
    "    str_text = raw_text.apply(lambda x: str(x))\n",
    "\n",
    "    # convert to lower case\n",
    "    lower_text = str_text.apply(lambda x: x.lower())\n",
    "\n",
    "    # remove '@'mention - handler\n",
    "    no_handler_text = lower_text.apply(lambda x: re.sub(r'@\\S+', '', x))\n",
    "\n",
    "    # remove URL Links\n",
    "    no_handler_URL_text = no_handler_text.apply(lambda x: re.sub('https?://[A-Za-z0-9./]+', '', x))\n",
    "\n",
    "    # remove html codes\n",
    "    no_handler_URL_html_text = no_handler_URL_text.apply(lambda x: re.sub('&[A-Za-z]+;','',x))\n",
    "\n",
    "    # remove emojis\n",
    "    no_handler_URL_html_emoji_text = no_handler_URL_html_text.apply(lambda x: demoji.replace(x,\"\"))\n",
    "\n",
    "    # remove punctuations\n",
    "    no_punc_text = no_handler_URL_html_emoji_text.apply(lambda x: re.sub(r\"\"\"\n",
    "               [),.;:@#?!&$('`’/\"-]+  # Accept one or more copies of punctuation\n",
    "               \\ *           # plus zero or more copies of a space,\n",
    "               \"\"\",\n",
    "               \" \",          # and replace it with a single space\n",
    "               x, flags=re.VERBOSE))\n",
    "    # remove stopwords\n",
    "    stopword_set = set(stopwords.words(\"english\"))\n",
    "    cleaned_text = no_punc_text.apply(lambda x: x.split())\n",
    "    cleaned_text = cleaned_text.apply(lambda x: [w for w in x if w not in stopword_set])\n",
    "    cleaned_text = cleaned_text.apply(lambda x: \" \".join(x))\n",
    "\n",
    "    return cleaned_text"
   ]
  },
  {
   "cell_type": "markdown",
   "metadata": {},
   "source": [
    "### Description\n",
    "\n",
    "Clean text for \"Description\" column"
   ]
  },
  {
   "cell_type": "code",
   "execution_count": 26,
   "metadata": {},
   "outputs": [],
   "source": [
    "df['description'] = clean_text(df['description'])"
   ]
  },
  {
   "cell_type": "code",
   "execution_count": 27,
   "metadata": {},
   "outputs": [
    {
     "data": {
      "text/plain": [
       "0         ripe fruity wine smooth still structured firm ...\n",
       "1         tart snappy flavors lime flesh rind dominate g...\n",
       "2         pineapple rind lemon pith orange blossom start...\n",
       "3         much like regular bottling 2012 comes across r...\n",
       "4         blackberry raspberry aromas show typical navar...\n",
       "                                ...                        \n",
       "107803    notes honeysuckle cantaloupe sweeten delicious...\n",
       "107804    citation given much decade bottle age prior re...\n",
       "107805    well drained gravel soil gives wine crisp dry ...\n",
       "107806    dry style pinot gris crisp acidity also weight...\n",
       "107807    big rich dry powered intense spiciness rounded...\n",
       "Name: description, Length: 107808, dtype: object"
      ]
     },
     "execution_count": 27,
     "metadata": {},
     "output_type": "execute_result"
    }
   ],
   "source": [
    "df['description']"
   ]
  },
  {
   "cell_type": "markdown",
   "metadata": {},
   "source": [
    "We would like to discover what is the most common words used for wine description, so we use regex to tokenize sentences to list of words for further analysis."
   ]
  },
  {
   "cell_type": "code",
   "execution_count": 28,
   "metadata": {},
   "outputs": [
    {
     "data": {
      "text/plain": [
       "0    [ripe, fruity, wine, smooth, still, structured...\n",
       "1    [tart, snappy, flavors, lime, flesh, rind, dom...\n",
       "2    [pineapple, rind, lemon, pith, orange, blossom...\n",
       "3    [much, like, regular, bottling, 2012, comes, a...\n",
       "4    [blackberry, raspberry, aromas, show, typical,...\n",
       "5    [bright, informal, red, opens, aromas, candied...\n",
       "6    [dry, restrained, wine, offers, spice, profusi...\n",
       "7    [savory, dried, thyme, notes, accent, sunnier,...\n",
       "8    [great, depth, flavor, fresh, apple, pear, fru...\n",
       "9    [soft, supple, plum, envelopes, oaky, structur...\n",
       "Name: description, dtype: object"
      ]
     },
     "execution_count": 28,
     "metadata": {},
     "output_type": "execute_result"
    }
   ],
   "source": [
    "tokenizer = RegexpTokenizer(r'\\w+')\n",
    "description_token = df['description'].apply(tokenizer.tokenize)\n",
    "description_token.head(10)"
   ]
  },
  {
   "cell_type": "code",
   "execution_count": 29,
   "metadata": {},
   "outputs": [],
   "source": [
    "all_words = [word for tokens in description_token for word in tokens]\n",
    "vocab = sorted(list(set(all_words)))"
   ]
  },
  {
   "cell_type": "markdown",
   "metadata": {},
   "source": [
    "Let's take a look at the top 100 most common words used for wine description."
   ]
  },
  {
   "cell_type": "code",
   "execution_count": 30,
   "metadata": {},
   "outputs": [
    {
     "data": {
      "text/plain": [
       "[('wine', 63423),\n",
       " ('flavors', 54176),\n",
       " ('fruit', 41135),\n",
       " ('aromas', 33270),\n",
       " ('palate', 32555),\n",
       " ('finish', 30090),\n",
       " ('acidity', 27970),\n",
       " ('cherry', 24586),\n",
       " ('tannins', 24234),\n",
       " ('drink', 24172),\n",
       " ('black', 23449),\n",
       " ('ripe', 21526),\n",
       " ('red', 17981),\n",
       " ('notes', 16101),\n",
       " ('spice', 15534),\n",
       " ('oak', 15197),\n",
       " ('dry', 14691),\n",
       " ('nose', 14659),\n",
       " ('fresh', 14263),\n",
       " ('berry', 13996),\n",
       " ('rich', 13872),\n",
       " ('full', 13009),\n",
       " ('plum', 12610),\n",
       " ('apple', 11516),\n",
       " ('sweet', 11420),\n",
       " ('blend', 11234),\n",
       " ('soft', 11188),\n",
       " ('well', 10820),\n",
       " ('white', 10803),\n",
       " ('light', 10734),\n",
       " ('blackberry', 10663),\n",
       " ('crisp', 10557),\n",
       " ('offers', 10308),\n",
       " ('fruits', 10277),\n",
       " ('texture', 9990),\n",
       " ('citrus', 9983),\n",
       " ('dark', 9882),\n",
       " ('bodied', 9790),\n",
       " ('vanilla', 9495),\n",
       " ('shows', 9488),\n",
       " ('cabernet', 8949),\n",
       " ('bright', 8858),\n",
       " ('pepper', 8658),\n",
       " ('green', 8388),\n",
       " ('good', 8264),\n",
       " ('raspberry', 8231),\n",
       " ('lemon', 8200),\n",
       " ('juicy', 7864),\n",
       " ('fruity', 7671),\n",
       " ('peach', 7432),\n",
       " ('like', 7166),\n",
       " ('chocolate', 7163),\n",
       " ('touch', 7043),\n",
       " ('firm', 7029),\n",
       " ('balanced', 7005),\n",
       " ('pear', 6726),\n",
       " ('sauvignon', 6502),\n",
       " ('dried', 6481),\n",
       " ('character', 6240),\n",
       " ('spicy', 6139),\n",
       " ('pinot', 6002),\n",
       " ('medium', 5954),\n",
       " ('made', 5880),\n",
       " ('years', 5865),\n",
       " ('smooth', 5800),\n",
       " ('fine', 5797),\n",
       " ('structure', 5666),\n",
       " ('tart', 5639),\n",
       " ('style', 5527),\n",
       " ('herbal', 5516),\n",
       " ('herb', 5463),\n",
       " ('mouth', 5417),\n",
       " ('tannic', 5283),\n",
       " ('currant', 5266),\n",
       " ('long', 5259),\n",
       " ('bit', 5231),\n",
       " ('vineyard', 5224),\n",
       " ('lime', 5134),\n",
       " ('merlot', 5098),\n",
       " ('flavor', 5096),\n",
       " ('wood', 5091),\n",
       " ('mineral', 5071),\n",
       " ('clean', 5039),\n",
       " ('note', 5035),\n",
       " ('also', 5024),\n",
       " ('hint', 5001),\n",
       " ('orange', 4993),\n",
       " ('concentrated', 4946),\n",
       " ('syrah', 4867),\n",
       " ('creamy', 4826),\n",
       " ('licorice', 4825),\n",
       " ('one', 4743),\n",
       " ('balance', 4675),\n",
       " ('still', 4657),\n",
       " ('toast', 4561),\n",
       " ('give', 4546),\n",
       " ('earthy', 4518),\n",
       " ('slightly', 4471),\n",
       " ('savory', 4459),\n",
       " ('along', 4415)]"
      ]
     },
     "execution_count": 30,
     "metadata": {},
     "output_type": "execute_result"
    }
   ],
   "source": [
    "from collections import Counter\n",
    "count_all_words = Counter(all_words)\n",
    "count_all_words.most_common(100)"
   ]
  },
  {
   "cell_type": "markdown",
   "metadata": {},
   "source": [
    "### Title\n",
    "\n",
    "Clean text for \"Title\" column"
   ]
  },
  {
   "cell_type": "code",
   "execution_count": 31,
   "metadata": {},
   "outputs": [
    {
     "data": {
      "text/plain": [
       "(107808, 13)"
      ]
     },
     "execution_count": 31,
     "metadata": {},
     "output_type": "execute_result"
    }
   ],
   "source": [
    "df.shape"
   ]
  },
  {
   "cell_type": "code",
   "execution_count": 32,
   "metadata": {},
   "outputs": [],
   "source": [
    "df['title'] = clean_text(df['title'])"
   ]
  },
  {
   "cell_type": "code",
   "execution_count": 33,
   "metadata": {},
   "outputs": [
    {
     "data": {
      "text/plain": [
       "0               quinta dos avidagos 2011 avidagos red douro\n",
       "1               rainstorm 2013 pinot gris willamette valley\n",
       "2         st julian 2013 reserve late harvest riesling l...\n",
       "3         sweet cheeks 2012 vintner reserve wild child b...\n",
       "4          tandem 2011 ars vitro tempranillo merlot navarra\n",
       "                                ...                        \n",
       "107803    dr h thanisch erben müller burggraef 2013 brau...\n",
       "107804                      citation 2004 pinot noir oregon\n",
       "107805     domaine gresser 2013 kritt gewurztraminer alsace\n",
       "107806          domaine marcel deiss 2012 pinot gris alsace\n",
       "107807    domaine schoffit 2012 lieu dit harth cuvée car...\n",
       "Name: title, Length: 107808, dtype: object"
      ]
     },
     "execution_count": 33,
     "metadata": {},
     "output_type": "execute_result"
    }
   ],
   "source": [
    "df['title']"
   ]
  },
  {
   "cell_type": "markdown",
   "metadata": {},
   "source": [
    "### Variety\n",
    "\n",
    "After cleaning text data for \"Description\" and \"Title\" columns, we would like to look at the \"Variety\" column to see if there's any duplicated value in it."
   ]
  },
  {
   "cell_type": "code",
   "execution_count": 34,
   "metadata": {},
   "outputs": [
    {
     "data": {
      "text/plain": [
       "0        Portuguese Red\n",
       "1            Pinot Gris\n",
       "2              Riesling\n",
       "3            Pinot Noir\n",
       "4    Tempranillo-Merlot\n",
       "5              Frappato\n",
       "6        Gewürztraminer\n",
       "7        Gewürztraminer\n",
       "8            Pinot Gris\n",
       "9    Cabernet Sauvignon\n",
       "Name: variety, dtype: object"
      ]
     },
     "execution_count": 34,
     "metadata": {},
     "output_type": "execute_result"
    }
   ],
   "source": [
    "df['variety'].head(10)"
   ]
  },
  {
   "cell_type": "markdown",
   "metadata": {},
   "source": [
    "We'd like to observe length of variety."
   ]
  },
  {
   "cell_type": "code",
   "execution_count": 35,
   "metadata": {},
   "outputs": [
    {
     "data": {
      "text/plain": [
       "1    49933\n",
       "2    49174\n",
       "4     6919\n",
       "3     1779\n",
       "5        2\n",
       "0        1\n",
       "Name: variety_count, dtype: int64"
      ]
     },
     "execution_count": 35,
     "metadata": {},
     "output_type": "execute_result"
    }
   ],
   "source": [
    "df['variety'] = clean_text(df['variety'])\n",
    "variety = df['variety']\n",
    "df['variety_count'] = df['variety'].str.split().str.len()\n",
    "df['variety_count'].value_counts()"
   ]
  },
  {
   "cell_type": "markdown",
   "metadata": {},
   "source": [
    "We found that there are some differences between variety, but they are actually the same word. Hence the following process is to find the similarity words for correcting. We analyze words with different word counts."
   ]
  },
  {
   "cell_type": "code",
   "execution_count": 36,
   "metadata": {},
   "outputs": [],
   "source": [
    "variety_1 = df[(df['variety_count'] == 1)]\n",
    "variety_2 = df[(df['variety_count'] == 2)]\n",
    "variety_3 = df[(df['variety_count'] == 3)]\n",
    "variety_4 = df[(df['variety_count'] == 4)]\n",
    "variety_1_tfidf = variety_1[\"variety\"]\n",
    "variety_2_tfidf = variety_2[\"variety\"]\n",
    "variety_3_tfidf = variety_3[\"variety\"]\n",
    "variety_4_tfidf = variety_4[\"variety\"]\n",
    "variety_1 = variety_1.reset_index(drop=True)\n",
    "variety_2 = variety_2.reset_index(drop=True)\n",
    "variety_3 = variety_3.reset_index(drop=True)\n",
    "variety_4 = variety_4.reset_index(drop=True)"
   ]
  },
  {
   "cell_type": "code",
   "execution_count": 37,
   "metadata": {},
   "outputs": [
    {
     "data": {
      "text/html": [
       "<div>\n",
       "<style scoped>\n",
       "    .dataframe tbody tr th:only-of-type {\n",
       "        vertical-align: middle;\n",
       "    }\n",
       "\n",
       "    .dataframe tbody tr th {\n",
       "        vertical-align: top;\n",
       "    }\n",
       "\n",
       "    .dataframe thead th {\n",
       "        text-align: right;\n",
       "    }\n",
       "</style>\n",
       "<table border=\"1\" class=\"dataframe\">\n",
       "  <thead>\n",
       "    <tr style=\"text-align: right;\">\n",
       "      <th></th>\n",
       "      <th>country</th>\n",
       "      <th>description</th>\n",
       "      <th>designation</th>\n",
       "      <th>points</th>\n",
       "      <th>price</th>\n",
       "      <th>province</th>\n",
       "      <th>region_1</th>\n",
       "      <th>region_2</th>\n",
       "      <th>taster_name</th>\n",
       "      <th>taster_twitter_handle</th>\n",
       "      <th>title</th>\n",
       "      <th>variety</th>\n",
       "      <th>winery</th>\n",
       "      <th>variety_count</th>\n",
       "    </tr>\n",
       "  </thead>\n",
       "  <tbody>\n",
       "    <tr>\n",
       "      <th>837</th>\n",
       "      <td>US</td>\n",
       "      <td>earthy nutty aroma flavor come intense sweetne...</td>\n",
       "      <td>Vin Doux Naturel</td>\n",
       "      <td>87</td>\n",
       "      <td>20.0</td>\n",
       "      <td>California</td>\n",
       "      <td>Shenandoah Valley (CA)</td>\n",
       "      <td>Sierra Foothills</td>\n",
       "      <td>Jim Gordon</td>\n",
       "      <td>@gordone_cellars</td>\n",
       "      <td>terre rouge 2013 vin doux naturel muscat blanc...</td>\n",
       "      <td>muscat blanc à petits grains</td>\n",
       "      <td>Terre Rouge</td>\n",
       "      <td>5</td>\n",
       "    </tr>\n",
       "    <tr>\n",
       "      <th>14971</th>\n",
       "      <td>France</td>\n",
       "      <td>lush ripe touch heady rich selection brimming ...</td>\n",
       "      <td>Resplandy</td>\n",
       "      <td>87</td>\n",
       "      <td>12.0</td>\n",
       "      <td>Languedoc-Roussillon</td>\n",
       "      <td>Muscat de Saint-Jean de Minervois</td>\n",
       "      <td>NaN</td>\n",
       "      <td>Lauren Buzzeo</td>\n",
       "      <td>@laurbuzz</td>\n",
       "      <td>les vignerons de la méditerranée nv resplandy ...</td>\n",
       "      <td>muscat blanc à petits grains</td>\n",
       "      <td>Les Vignerons de la Méditerranée</td>\n",
       "      <td>5</td>\n",
       "    </tr>\n",
       "  </tbody>\n",
       "</table>\n",
       "</div>"
      ],
      "text/plain": [
       "      country                                        description  \\\n",
       "837        US  earthy nutty aroma flavor come intense sweetne...   \n",
       "14971  France  lush ripe touch heady rich selection brimming ...   \n",
       "\n",
       "            designation  points  price              province  \\\n",
       "837    Vin Doux Naturel      87   20.0            California   \n",
       "14971         Resplandy      87   12.0  Languedoc-Roussillon   \n",
       "\n",
       "                                region_1          region_2    taster_name  \\\n",
       "837               Shenandoah Valley (CA)  Sierra Foothills     Jim Gordon   \n",
       "14971  Muscat de Saint-Jean de Minervois               NaN  Lauren Buzzeo   \n",
       "\n",
       "      taster_twitter_handle  \\\n",
       "837        @gordone_cellars   \n",
       "14971             @laurbuzz   \n",
       "\n",
       "                                                   title  \\\n",
       "837    terre rouge 2013 vin doux naturel muscat blanc...   \n",
       "14971  les vignerons de la méditerranée nv resplandy ...   \n",
       "\n",
       "                            variety                            winery  \\\n",
       "837    muscat blanc à petits grains                       Terre Rouge   \n",
       "14971  muscat blanc à petits grains  Les Vignerons de la Méditerranée   \n",
       "\n",
       "       variety_count  \n",
       "837                5  \n",
       "14971              5  "
      ]
     },
     "execution_count": 37,
     "metadata": {},
     "output_type": "execute_result"
    }
   ],
   "source": [
    "df[(df['variety_count'] == 5)]"
   ]
  },
  {
   "cell_type": "code",
   "execution_count": 38,
   "metadata": {},
   "outputs": [],
   "source": [
    "variety_1_tfidf = variety_1_tfidf.reset_index(drop=True)\n",
    "variety_2_tfidf = variety_2_tfidf.reset_index(drop=True)\n",
    "variety_3_tfidf = variety_3_tfidf.reset_index(drop=True)\n",
    "variety_4_tfidf = variety_4_tfidf.reset_index(drop=True)\n",
    "ngram_range = (1, 1)\n",
    "vectorizer = TfidfVectorizer(\"char\", ngram_range=ngram_range, sublinear_tf=True)\n",
    "tfidf_matrix_1 = vectorizer.fit_transform(variety_1_tfidf.astype('U'))\n",
    "tfidf_matrix_2 = vectorizer.fit_transform(variety_2_tfidf.astype('U'))\n",
    "tfidf_matrix_3 = vectorizer.fit_transform(variety_3_tfidf.astype('U'))\n",
    "tfidf_matrix_4 = vectorizer.fit_transform(variety_4_tfidf.astype('U'))"
   ]
  },
  {
   "cell_type": "markdown",
   "metadata": {},
   "source": [
    "We used TF-IDF + N-gram to generate a sparse matrix that each row is the document (variety), each column is a n-gram (from 1 to 2). And the\n",
    "TF-IDF score is computed for each n-gram in each document.\n",
    "\n",
    "By using the sparse_dot_topn library, we can find out the top 10 most similar varieties for each variety in the dataset.\n",
    "\n",
    "The result of duplicate detection model has the top 10 most similar varieties for each variety, we can leverage the results to identify the duplicated records"
   ]
  },
  {
   "cell_type": "code",
   "execution_count": 39,
   "metadata": {},
   "outputs": [],
   "source": [
    "def awesome_sparse_dot_top(A, B, ntop, lower_bound=0):\n",
    "    # force A and B as a CSR matrix.\n",
    "    # If they have already been CSR, there is no overhead\n",
    "    A = A.tocsr()\n",
    "    B = B.tocsr()\n",
    "    M, _ = A.shape\n",
    "    _, N = B.shape\n",
    "\n",
    "    idx_dtype = np.int32\n",
    "\n",
    "    nnz_max = M * ntop\n",
    "    indptr = np.zeros(M + 1, dtype=idx_dtype)\n",
    "    indices = np.zeros(nnz_max, dtype=idx_dtype)\n",
    "    data = np.zeros(nnz_max, dtype=A.dtype)\n",
    "\n",
    "    # if A or B are all zeros matrix, return all zero matrix directly\n",
    "    if len(A.indices) > 0 and len(A.data) > 0 and len(A.indptr) > 0 and \\\n",
    "            len(B.indices) > 0 and len(B.data) > 0 and len(B.indptr) > 0:\n",
    "        ct.sparse_dot_topn(\n",
    "            M, N, np.asarray(A.indptr, dtype=idx_dtype),\n",
    "            np.asarray(A.indices, dtype=idx_dtype),\n",
    "            A.data,\n",
    "            np.asarray(B.indptr, dtype=idx_dtype),\n",
    "            np.asarray(B.indices, dtype=idx_dtype),\n",
    "            B.data,\n",
    "            ntop,\n",
    "            lower_bound,\n",
    "            indptr, indices, data)\n",
    "\n",
    "    # N.B. since the indices are grid id here, we still keep the shape as (M,N)\n",
    "    return csr_matrix((data, indices, indptr), shape=(M, N))"
   ]
  },
  {
   "cell_type": "code",
   "execution_count": 40,
   "metadata": {},
   "outputs": [],
   "source": [
    "matches = awesome_sparse_dot_top(tfidf_matrix_2, tfidf_matrix_2.transpose(), 10)"
   ]
  },
  {
   "cell_type": "code",
   "execution_count": 41,
   "metadata": {},
   "outputs": [],
   "source": [
    "def get_matches_df(sparse_matrix, name_vector, top=matches.count_nonzero()):\n",
    "    non_zeros = sparse_matrix.nonzero()\n",
    "    \n",
    "    sparserows = non_zeros[0]\n",
    "    sparsecols = non_zeros[1]\n",
    "    \n",
    "    if top:\n",
    "        nr_matches = top\n",
    "    else:\n",
    "        nr_matches = sparsecols.size\n",
    "    \n",
    "    left_side = np.empty([nr_matches], dtype=object)\n",
    "    left_side_idx = np.empty([nr_matches], dtype=object)\n",
    "    right_side = np.empty([nr_matches], dtype=object)\n",
    "    right_side_idx = np.empty([nr_matches], dtype=object)\n",
    "    similairity = np.zeros(nr_matches)\n",
    "    \n",
    "    for index in range(0, nr_matches):\n",
    "        left_side[index] = name_vector[sparserows[index]]\n",
    "        left_side_idx[index] = sparserows[index]\n",
    "        right_side[index] = name_vector[sparsecols[index]]\n",
    "        right_side_idx[index] = sparsecols[index]\n",
    "        similairity[index] = sparse_matrix.data[index]\n",
    "    \n",
    "    return pd.DataFrame({'left_side': left_side,\n",
    "                         'left_side_idx': left_side_idx,\n",
    "                         'right_side': right_side,\n",
    "                         'right_side_idx': right_side_idx,\n",
    "                         'similarity': similairity})"
   ]
  },
  {
   "cell_type": "code",
   "execution_count": 42,
   "metadata": {},
   "outputs": [],
   "source": [
    "matches_df = get_matches_df(matches, variety_2_tfidf)"
   ]
  },
  {
   "cell_type": "code",
   "execution_count": 43,
   "metadata": {},
   "outputs": [
    {
     "data": {
      "text/html": [
       "<div>\n",
       "<style scoped>\n",
       "    .dataframe tbody tr th:only-of-type {\n",
       "        vertical-align: middle;\n",
       "    }\n",
       "\n",
       "    .dataframe tbody tr th {\n",
       "        vertical-align: top;\n",
       "    }\n",
       "\n",
       "    .dataframe thead th {\n",
       "        text-align: right;\n",
       "    }\n",
       "</style>\n",
       "<table border=\"1\" class=\"dataframe\">\n",
       "  <thead>\n",
       "    <tr style=\"text-align: right;\">\n",
       "      <th></th>\n",
       "      <th>left_side</th>\n",
       "      <th>left_side_idx</th>\n",
       "      <th>right_side</th>\n",
       "      <th>right_side_idx</th>\n",
       "      <th>similarity</th>\n",
       "    </tr>\n",
       "  </thead>\n",
       "  <tbody>\n",
       "    <tr>\n",
       "      <th>0</th>\n",
       "      <td>portuguese red</td>\n",
       "      <td>0</td>\n",
       "      <td>portuguese red</td>\n",
       "      <td>48780</td>\n",
       "      <td>1.0</td>\n",
       "    </tr>\n",
       "    <tr>\n",
       "      <th>1</th>\n",
       "      <td>portuguese red</td>\n",
       "      <td>0</td>\n",
       "      <td>portuguese red</td>\n",
       "      <td>48829</td>\n",
       "      <td>1.0</td>\n",
       "    </tr>\n",
       "    <tr>\n",
       "      <th>2</th>\n",
       "      <td>portuguese red</td>\n",
       "      <td>0</td>\n",
       "      <td>portuguese red</td>\n",
       "      <td>48830</td>\n",
       "      <td>1.0</td>\n",
       "    </tr>\n",
       "    <tr>\n",
       "      <th>3</th>\n",
       "      <td>portuguese red</td>\n",
       "      <td>0</td>\n",
       "      <td>portuguese red</td>\n",
       "      <td>48843</td>\n",
       "      <td>1.0</td>\n",
       "    </tr>\n",
       "    <tr>\n",
       "      <th>4</th>\n",
       "      <td>portuguese red</td>\n",
       "      <td>0</td>\n",
       "      <td>portuguese red</td>\n",
       "      <td>48879</td>\n",
       "      <td>1.0</td>\n",
       "    </tr>\n",
       "    <tr>\n",
       "      <th>...</th>\n",
       "      <td>...</td>\n",
       "      <td>...</td>\n",
       "      <td>...</td>\n",
       "      <td>...</td>\n",
       "      <td>...</td>\n",
       "    </tr>\n",
       "    <tr>\n",
       "      <th>491379</th>\n",
       "      <td>pinot gris</td>\n",
       "      <td>49173</td>\n",
       "      <td>pinot gris</td>\n",
       "      <td>49144</td>\n",
       "      <td>1.0</td>\n",
       "    </tr>\n",
       "    <tr>\n",
       "      <th>491380</th>\n",
       "      <td>pinot gris</td>\n",
       "      <td>49173</td>\n",
       "      <td>pinot gris</td>\n",
       "      <td>49165</td>\n",
       "      <td>1.0</td>\n",
       "    </tr>\n",
       "    <tr>\n",
       "      <th>491381</th>\n",
       "      <td>pinot gris</td>\n",
       "      <td>49173</td>\n",
       "      <td>pinot gris</td>\n",
       "      <td>49167</td>\n",
       "      <td>1.0</td>\n",
       "    </tr>\n",
       "    <tr>\n",
       "      <th>491382</th>\n",
       "      <td>pinot gris</td>\n",
       "      <td>49173</td>\n",
       "      <td>pinot gris</td>\n",
       "      <td>49171</td>\n",
       "      <td>1.0</td>\n",
       "    </tr>\n",
       "    <tr>\n",
       "      <th>491383</th>\n",
       "      <td>pinot gris</td>\n",
       "      <td>49173</td>\n",
       "      <td>pinot gris</td>\n",
       "      <td>49173</td>\n",
       "      <td>1.0</td>\n",
       "    </tr>\n",
       "  </tbody>\n",
       "</table>\n",
       "<p>491384 rows × 5 columns</p>\n",
       "</div>"
      ],
      "text/plain": [
       "             left_side left_side_idx      right_side right_side_idx  \\\n",
       "0       portuguese red             0  portuguese red          48780   \n",
       "1       portuguese red             0  portuguese red          48829   \n",
       "2       portuguese red             0  portuguese red          48830   \n",
       "3       portuguese red             0  portuguese red          48843   \n",
       "4       portuguese red             0  portuguese red          48879   \n",
       "...                ...           ...             ...            ...   \n",
       "491379      pinot gris         49173      pinot gris          49144   \n",
       "491380      pinot gris         49173      pinot gris          49165   \n",
       "491381      pinot gris         49173      pinot gris          49167   \n",
       "491382      pinot gris         49173      pinot gris          49171   \n",
       "491383      pinot gris         49173      pinot gris          49173   \n",
       "\n",
       "        similarity  \n",
       "0              1.0  \n",
       "1              1.0  \n",
       "2              1.0  \n",
       "3              1.0  \n",
       "4              1.0  \n",
       "...            ...  \n",
       "491379         1.0  \n",
       "491380         1.0  \n",
       "491381         1.0  \n",
       "491382         1.0  \n",
       "491383         1.0  \n",
       "\n",
       "[491384 rows x 5 columns]"
      ]
     },
     "execution_count": 43,
     "metadata": {},
     "output_type": "execute_result"
    }
   ],
   "source": [
    "matches_df"
   ]
  },
  {
   "cell_type": "code",
   "execution_count": 44,
   "metadata": {},
   "outputs": [],
   "source": [
    "unique_df = matches_df[(matches_df['similarity'] < 0.99999)].sort_values([\"left_side_idx\", \"similarity\"], ascending=(True, False))"
   ]
  },
  {
   "cell_type": "code",
   "execution_count": 45,
   "metadata": {},
   "outputs": [
    {
     "data": {
      "text/html": [
       "<div>\n",
       "<style scoped>\n",
       "    .dataframe tbody tr th:only-of-type {\n",
       "        vertical-align: middle;\n",
       "    }\n",
       "\n",
       "    .dataframe tbody tr th {\n",
       "        vertical-align: top;\n",
       "    }\n",
       "\n",
       "    .dataframe thead th {\n",
       "        text-align: right;\n",
       "    }\n",
       "</style>\n",
       "<table border=\"1\" class=\"dataframe\">\n",
       "  <thead>\n",
       "    <tr style=\"text-align: right;\">\n",
       "      <th></th>\n",
       "      <th>left_side</th>\n",
       "      <th>left_side_idx</th>\n",
       "      <th>right_side</th>\n",
       "      <th>right_side_idx</th>\n",
       "      <th>similarity</th>\n",
       "    </tr>\n",
       "  </thead>\n",
       "  <tbody>\n",
       "    <tr>\n",
       "      <th>37</th>\n",
       "      <td>tempranillo merlot</td>\n",
       "      <td>3</td>\n",
       "      <td>cabernet merlot</td>\n",
       "      <td>38348</td>\n",
       "      <td>0.729363</td>\n",
       "    </tr>\n",
       "    <tr>\n",
       "      <th>38</th>\n",
       "      <td>tempranillo merlot</td>\n",
       "      <td>3</td>\n",
       "      <td>merlot cabernet</td>\n",
       "      <td>41149</td>\n",
       "      <td>0.729363</td>\n",
       "    </tr>\n",
       "    <tr>\n",
       "      <th>39</th>\n",
       "      <td>tempranillo merlot</td>\n",
       "      <td>3</td>\n",
       "      <td>cabernet merlot</td>\n",
       "      <td>42211</td>\n",
       "      <td>0.729363</td>\n",
       "    </tr>\n",
       "    <tr>\n",
       "      <th>2795</th>\n",
       "      <td>garnacha tintorera</td>\n",
       "      <td>279</td>\n",
       "      <td>garnacha blend</td>\n",
       "      <td>24723</td>\n",
       "      <td>0.572154</td>\n",
       "    </tr>\n",
       "    <tr>\n",
       "      <th>2798</th>\n",
       "      <td>garnacha tintorera</td>\n",
       "      <td>279</td>\n",
       "      <td>garnacha blend</td>\n",
       "      <td>38606</td>\n",
       "      <td>0.572154</td>\n",
       "    </tr>\n",
       "    <tr>\n",
       "      <th>...</th>\n",
       "      <td>...</td>\n",
       "      <td>...</td>\n",
       "      <td>...</td>\n",
       "      <td>...</td>\n",
       "      <td>...</td>\n",
       "    </tr>\n",
       "    <tr>\n",
       "      <th>490551</th>\n",
       "      <td>pinot chardonnay</td>\n",
       "      <td>49090</td>\n",
       "      <td>chardonnay sauvignon</td>\n",
       "      <td>37905</td>\n",
       "      <td>0.909031</td>\n",
       "    </tr>\n",
       "    <tr>\n",
       "      <th>490959</th>\n",
       "      <td>touriga franca</td>\n",
       "      <td>49131</td>\n",
       "      <td>touriga nacional</td>\n",
       "      <td>46276</td>\n",
       "      <td>0.397497</td>\n",
       "    </tr>\n",
       "    <tr>\n",
       "      <th>490960</th>\n",
       "      <td>touriga franca</td>\n",
       "      <td>49131</td>\n",
       "      <td>touriga nacional</td>\n",
       "      <td>46781</td>\n",
       "      <td>0.397497</td>\n",
       "    </tr>\n",
       "    <tr>\n",
       "      <th>490961</th>\n",
       "      <td>touriga franca</td>\n",
       "      <td>49131</td>\n",
       "      <td>touriga nacional</td>\n",
       "      <td>47816</td>\n",
       "      <td>0.397497</td>\n",
       "    </tr>\n",
       "    <tr>\n",
       "      <th>490962</th>\n",
       "      <td>touriga franca</td>\n",
       "      <td>49131</td>\n",
       "      <td>touriga nacional</td>\n",
       "      <td>48092</td>\n",
       "      <td>0.397497</td>\n",
       "    </tr>\n",
       "  </tbody>\n",
       "</table>\n",
       "<p>1581 rows × 5 columns</p>\n",
       "</div>"
      ],
      "text/plain": [
       "                 left_side left_side_idx            right_side right_side_idx  \\\n",
       "37      tempranillo merlot             3       cabernet merlot          38348   \n",
       "38      tempranillo merlot             3       merlot cabernet          41149   \n",
       "39      tempranillo merlot             3       cabernet merlot          42211   \n",
       "2795    garnacha tintorera           279        garnacha blend          24723   \n",
       "2798    garnacha tintorera           279        garnacha blend          38606   \n",
       "...                    ...           ...                   ...            ...   \n",
       "490551    pinot chardonnay         49090  chardonnay sauvignon          37905   \n",
       "490959      touriga franca         49131      touriga nacional          46276   \n",
       "490960      touriga franca         49131      touriga nacional          46781   \n",
       "490961      touriga franca         49131      touriga nacional          47816   \n",
       "490962      touriga franca         49131      touriga nacional          48092   \n",
       "\n",
       "        similarity  \n",
       "37        0.729363  \n",
       "38        0.729363  \n",
       "39        0.729363  \n",
       "2795      0.572154  \n",
       "2798      0.572154  \n",
       "...            ...  \n",
       "490551    0.909031  \n",
       "490959    0.397497  \n",
       "490960    0.397497  \n",
       "490961    0.397497  \n",
       "490962    0.397497  \n",
       "\n",
       "[1581 rows x 5 columns]"
      ]
     },
     "execution_count": 45,
     "metadata": {},
     "output_type": "execute_result"
    }
   ],
   "source": [
    "unique_df"
   ]
  },
  {
   "cell_type": "code",
   "execution_count": 46,
   "metadata": {},
   "outputs": [],
   "source": [
    "#variety_1.to_csv(\"variety_1\")\n",
    "#variety_2.to_csv(\"variety_2\")\n",
    "#variety_3.to_csv(\"variety_3\")\n",
    "#variety_4.to_csv(\"variety_4\")"
   ]
  },
  {
   "cell_type": "markdown",
   "metadata": {},
   "source": [
    "Base on the analysis above, we found that some variety are the same but in different words order. For example, the table below shows that there are two different term \"cabernet sauvignon cabernet franc\" and \"cabernet franc cabernet sauvignon\" which are the same. We then correct this kind of situation."
   ]
  },
  {
   "cell_type": "code",
   "execution_count": 47,
   "metadata": {},
   "outputs": [
    {
     "data": {
      "text/plain": [
       "bordeaux style red blend               4595\n",
       "rhône style red blend                  1254\n",
       "bordeaux style white blend              610\n",
       "rhône style white blend                 380\n",
       "touriga nacional cabernet sauvignon      25\n",
       "cabernet sauvignon cabernet franc        20\n",
       "cabernet franc cabernet sauvignon        15\n",
       "chenin blanc sauvignon blanc              6\n",
       "loin de l oeil                            6\n",
       "sauvignon blanc chenin blanc              4\n",
       "cabernet sauvignon merlot shiraz          2\n",
       "pinot grigio sauvignon blanc              1\n",
       "pinot blanc pinot noir                    1\n",
       "Name: variety, dtype: int64"
      ]
     },
     "execution_count": 47,
     "metadata": {},
     "output_type": "execute_result"
    }
   ],
   "source": [
    "variety_4['variety'].value_counts()"
   ]
  },
  {
   "cell_type": "code",
   "execution_count": 48,
   "metadata": {},
   "outputs": [],
   "source": [
    "df['variety'] = df['variety'].apply(lambda x: ' '.join(sorted(x.split())))"
   ]
  },
  {
   "cell_type": "markdown",
   "metadata": {},
   "source": [
    "## Data Analysis (Use Cases)\n",
    "---\n",
    "- Top 5 countries and regions with the best wine quality.\n",
    "- Relationship between wine quality and price, description and title.\n",
    "- Top 5 wine type and countries with highest price–performance ratio."
   ]
  },
  {
   "cell_type": "markdown",
   "metadata": {},
   "source": [
    "First, we select the fields we will use in the use cases and show the first 5 rows to check the dataframe."
   ]
  },
  {
   "cell_type": "code",
   "execution_count": 49,
   "metadata": {},
   "outputs": [
    {
     "data": {
      "text/html": [
       "<div>\n",
       "<style scoped>\n",
       "    .dataframe tbody tr th:only-of-type {\n",
       "        vertical-align: middle;\n",
       "    }\n",
       "\n",
       "    .dataframe tbody tr th {\n",
       "        vertical-align: top;\n",
       "    }\n",
       "\n",
       "    .dataframe thead th {\n",
       "        text-align: right;\n",
       "    }\n",
       "</style>\n",
       "<table border=\"1\" class=\"dataframe\">\n",
       "  <thead>\n",
       "    <tr style=\"text-align: right;\">\n",
       "      <th></th>\n",
       "      <th>country</th>\n",
       "      <th>description</th>\n",
       "      <th>points</th>\n",
       "      <th>price</th>\n",
       "      <th>title</th>\n",
       "      <th>variety</th>\n",
       "    </tr>\n",
       "  </thead>\n",
       "  <tbody>\n",
       "    <tr>\n",
       "      <th>0</th>\n",
       "      <td>Portugal</td>\n",
       "      <td>ripe fruity wine smooth still structured firm ...</td>\n",
       "      <td>87</td>\n",
       "      <td>15.0</td>\n",
       "      <td>quinta dos avidagos 2011 avidagos red douro</td>\n",
       "      <td>portuguese red</td>\n",
       "    </tr>\n",
       "    <tr>\n",
       "      <th>1</th>\n",
       "      <td>US</td>\n",
       "      <td>tart snappy flavors lime flesh rind dominate g...</td>\n",
       "      <td>87</td>\n",
       "      <td>14.0</td>\n",
       "      <td>rainstorm 2013 pinot gris willamette valley</td>\n",
       "      <td>gris pinot</td>\n",
       "    </tr>\n",
       "    <tr>\n",
       "      <th>2</th>\n",
       "      <td>US</td>\n",
       "      <td>pineapple rind lemon pith orange blossom start...</td>\n",
       "      <td>87</td>\n",
       "      <td>13.0</td>\n",
       "      <td>st julian 2013 reserve late harvest riesling l...</td>\n",
       "      <td>riesling</td>\n",
       "    </tr>\n",
       "    <tr>\n",
       "      <th>3</th>\n",
       "      <td>US</td>\n",
       "      <td>much like regular bottling 2012 comes across r...</td>\n",
       "      <td>87</td>\n",
       "      <td>65.0</td>\n",
       "      <td>sweet cheeks 2012 vintner reserve wild child b...</td>\n",
       "      <td>noir pinot</td>\n",
       "    </tr>\n",
       "    <tr>\n",
       "      <th>4</th>\n",
       "      <td>Spain</td>\n",
       "      <td>blackberry raspberry aromas show typical navar...</td>\n",
       "      <td>87</td>\n",
       "      <td>15.0</td>\n",
       "      <td>tandem 2011 ars vitro tempranillo merlot navarra</td>\n",
       "      <td>merlot tempranillo</td>\n",
       "    </tr>\n",
       "  </tbody>\n",
       "</table>\n",
       "</div>"
      ],
      "text/plain": [
       "    country                                        description  points  price  \\\n",
       "0  Portugal  ripe fruity wine smooth still structured firm ...      87   15.0   \n",
       "1        US  tart snappy flavors lime flesh rind dominate g...      87   14.0   \n",
       "2        US  pineapple rind lemon pith orange blossom start...      87   13.0   \n",
       "3        US  much like regular bottling 2012 comes across r...      87   65.0   \n",
       "4     Spain  blackberry raspberry aromas show typical navar...      87   15.0   \n",
       "\n",
       "                                               title             variety  \n",
       "0        quinta dos avidagos 2011 avidagos red douro      portuguese red  \n",
       "1        rainstorm 2013 pinot gris willamette valley          gris pinot  \n",
       "2  st julian 2013 reserve late harvest riesling l...            riesling  \n",
       "3  sweet cheeks 2012 vintner reserve wild child b...          noir pinot  \n",
       "4   tandem 2011 ars vitro tempranillo merlot navarra  merlot tempranillo  "
      ]
     },
     "execution_count": 49,
     "metadata": {},
     "output_type": "execute_result"
    }
   ],
   "source": [
    "df_used = df[['country', 'description', 'points', 'price', 'title', 'variety']]\n",
    "df_used.head(5)"
   ]
  },
  {
   "cell_type": "markdown",
   "metadata": {},
   "source": [
    "### Top 5 countries and regions with the best wine quality.\n",
    "\n",
    "For this purpose, we will calculate the mean points of wine for each countries. Ane then list the top 5 countries with highest mean of points which represent high wine quality."
   ]
  },
  {
   "cell_type": "code",
   "execution_count": 50,
   "metadata": {},
   "outputs": [
    {
     "data": {
      "image/png": "[encoded data removed]",
      "text/plain": [
       "<Figure size 1080x432 with 1 Axes>"
      ]
     },
     "metadata": {},
     "output_type": "display_data"
    }
   ],
   "source": [
    "df_country_wine_qual = df.groupby(['country'], as_index = False)['points'].mean()\n",
    "df_country_wine_qual.columns = ['country', 'mean points']\n",
    "\n",
    "plt.figure(figsize = (15,6))\n",
    "plt.title('Mean points distribution')\n",
    "sns.barplot(x= 'country', y= 'mean points', data=df_country_wine_qual.sort_values(by=['mean points'], ascending=False))\n",
    "plt.ylim(80, 100)\n",
    "locs, labels = plt.xticks()\n",
    "plt.xticks(rotation=90)\n",
    "plt.show()"
   ]
  },
  {
   "cell_type": "markdown",
   "metadata": {},
   "source": [
    "We can see that the top 5 countries are England, India, Austria, Germany, and Canada with respective wine points shown down below."
   ]
  },
  {
   "cell_type": "code",
   "execution_count": 51,
   "metadata": {},
   "outputs": [
    {
     "data": {
      "text/html": [
       "<div>\n",
       "<style scoped>\n",
       "    .dataframe tbody tr th:only-of-type {\n",
       "        vertical-align: middle;\n",
       "    }\n",
       "\n",
       "    .dataframe tbody tr th {\n",
       "        vertical-align: top;\n",
       "    }\n",
       "\n",
       "    .dataframe thead th {\n",
       "        text-align: right;\n",
       "    }\n",
       "</style>\n",
       "<table border=\"1\" class=\"dataframe\">\n",
       "  <thead>\n",
       "    <tr style=\"text-align: right;\">\n",
       "      <th></th>\n",
       "      <th>country</th>\n",
       "      <th>mean points</th>\n",
       "    </tr>\n",
       "  </thead>\n",
       "  <tbody>\n",
       "    <tr>\n",
       "      <th>13</th>\n",
       "      <td>England</td>\n",
       "      <td>91.762712</td>\n",
       "    </tr>\n",
       "    <tr>\n",
       "      <th>19</th>\n",
       "      <td>India</td>\n",
       "      <td>90.250000</td>\n",
       "    </tr>\n",
       "    <tr>\n",
       "      <th>3</th>\n",
       "      <td>Austria</td>\n",
       "      <td>90.183121</td>\n",
       "    </tr>\n",
       "    <tr>\n",
       "      <th>16</th>\n",
       "      <td>Germany</td>\n",
       "      <td>89.674457</td>\n",
       "    </tr>\n",
       "    <tr>\n",
       "      <th>7</th>\n",
       "      <td>Canada</td>\n",
       "      <td>89.304933</td>\n",
       "    </tr>\n",
       "  </tbody>\n",
       "</table>\n",
       "</div>"
      ],
      "text/plain": [
       "    country  mean points\n",
       "13  England    91.762712\n",
       "19    India    90.250000\n",
       "3   Austria    90.183121\n",
       "16  Germany    89.674457\n",
       "7    Canada    89.304933"
      ]
     },
     "execution_count": 51,
     "metadata": {},
     "output_type": "execute_result"
    }
   ],
   "source": [
    "df_country_wine_qual.sort_values(by=['mean points'], ascending=False).head(5)"
   ]
  },
  {
   "cell_type": "markdown",
   "metadata": {},
   "source": [
    "## Relationship between wine quality and price, description and title.\n",
    "\n",
    "Here, we would like to see the relationship between wine quality and three variables that we think are related to the points."
   ]
  },
  {
   "cell_type": "markdown",
   "metadata": {},
   "source": [
    "#### 1. Price\n",
    "\n",
    "We use the regression plot to see the relationship and then calculate the correlation between variables."
   ]
  },
  {
   "cell_type": "code",
   "execution_count": 52,
   "metadata": {},
   "outputs": [
    {
     "data": {
      "text/plain": [
       "<seaborn.axisgrid.FacetGrid at 0x1606ae75f08>"
      ]
     },
     "execution_count": 52,
     "metadata": {},
     "output_type": "execute_result"
    },
    {
     "data": {
      "image/png": "[encoded data removed]",
      "text/plain": [
       "<Figure size 360x360 with 1 Axes>"
      ]
     },
     "metadata": {},
     "output_type": "display_data"
    }
   ],
   "source": [
    "sns.lmplot('price', 'points', data = df)"
   ]
  },
  {
   "cell_type": "code",
   "execution_count": 53,
   "metadata": {},
   "outputs": [
    {
     "name": "stdout",
     "output_type": "stream",
     "text": [
      "Correlation between wine points and price: 0.55\n"
     ]
    }
   ],
   "source": [
    "print('Correlation between wine points and price: '+ str(round(np.corrcoef(df['price'], df['points'])[1,0], 2)))"
   ]
  },
  {
   "cell_type": "markdown",
   "metadata": {},
   "source": [
    "The positive relationship between price and points is obvious. The correlation reach about 0.55."
   ]
  },
  {
   "cell_type": "markdown",
   "metadata": {},
   "source": [
    "#### 2. Relationship with Description and Title\n",
    "\n",
    "We are curious about whether the more descriptions, the better the wine evaluation."
   ]
  },
  {
   "cell_type": "code",
   "execution_count": 54,
   "metadata": {},
   "outputs": [
    {
     "name": "stdout",
     "output_type": "stream",
     "text": [
      "Correlation between wine points and length of description: 0.58\n"
     ]
    }
   ],
   "source": [
    "df['description_len'] = df['description'].apply(lambda x: len(x))\n",
    "print('Correlation between wine points and length of description: '+ str(round(np.corrcoef(df['description_len'], df['points'])[1,0], 2)))"
   ]
  },
  {
   "cell_type": "code",
   "execution_count": 55,
   "metadata": {},
   "outputs": [
    {
     "name": "stdout",
     "output_type": "stream",
     "text": [
      "Correlation between wine points and length of title: 0.14\n"
     ]
    }
   ],
   "source": [
    "df['title_len'] = df['title'].apply(lambda x: len(x))\n",
    "print('Correlation between wine points and length of title: '+ str(round(np.corrcoef(df['title_len'], df['points'])[1,0], 2)))"
   ]
  },
  {
   "cell_type": "markdown",
   "metadata": {},
   "source": [
    "By calculating the correlation between points and length of descrition and title, we found that the wine quality is related to the length of description but not related to length of title. Hence, we conclude that the more descriptions, the better the evaluation of the wine."
   ]
  },
  {
   "cell_type": "markdown",
   "metadata": {},
   "source": [
    "## Top 5 wine type and countries with highest price–performance ratio.\n",
    "\n",
    "Here we will focus on the data with price lower than 100 to find the price-performance ratio. Base on the data, we fit a regression line and predict the price by the regression coefficients. We defind that the high price-performance ratio wines are the wines that have higher points than the predict points.\n",
    "\n",
    "We will then calculate the mean of difference between points and predict points to see which wine type and countries wines have higher points than the predict points."
   ]
  },
  {
   "cell_type": "code",
   "execution_count": 56,
   "metadata": {},
   "outputs": [],
   "source": [
    "from sklearn import linear_model\n",
    "x=np.array(df[df['price']<100]['price']).reshape(df[df['price']<100].shape[0], -1)\n",
    "y=np.array(df[df['price']<100]['points']).reshape(df[df['price']<100].shape[0], -1)\n",
    "model=linear_model.LinearRegression()\n",
    "model.fit(x,y)\n",
    "high_price_performance_df=df.copy()\n",
    "high_price_performance_df['points_fit']=model.coef_[0]*high_price_performance_df['price']+model.intercept_\n",
    "high_price_performance_df=high_price_performance_df[high_price_performance_df['points']>high_price_performance_df['points_fit']].reset_index(drop=True)\n",
    "high_price_performance_df['points_diff'] = high_price_performance_df['points']-high_price_performance_df['points_fit']"
   ]
  },
  {
   "cell_type": "markdown",
   "metadata": {},
   "source": [
    "The following table list top 5 wine type with highest price-performance values wines."
   ]
  },
  {
   "cell_type": "code",
   "execution_count": 57,
   "metadata": {},
   "outputs": [
    {
     "data": {
      "text/html": [
       "<div>\n",
       "<style scoped>\n",
       "    .dataframe tbody tr th:only-of-type {\n",
       "        vertical-align: middle;\n",
       "    }\n",
       "\n",
       "    .dataframe tbody tr th {\n",
       "        vertical-align: top;\n",
       "    }\n",
       "\n",
       "    .dataframe thead th {\n",
       "        text-align: right;\n",
       "    }\n",
       "</style>\n",
       "<table border=\"1\" class=\"dataframe\">\n",
       "  <thead>\n",
       "    <tr style=\"text-align: right;\">\n",
       "      <th></th>\n",
       "      <th>variety</th>\n",
       "      <th>points_diff</th>\n",
       "    </tr>\n",
       "  </thead>\n",
       "  <tbody>\n",
       "    <tr>\n",
       "      <th>228</th>\n",
       "      <td>gelber traminer</td>\n",
       "      <td>6.364012</td>\n",
       "    </tr>\n",
       "    <tr>\n",
       "      <th>77</th>\n",
       "      <td>blauburgunder</td>\n",
       "      <td>5.782653</td>\n",
       "    </tr>\n",
       "    <tr>\n",
       "      <th>284</th>\n",
       "      <td>kotsifali</td>\n",
       "      <td>5.314643</td>\n",
       "    </tr>\n",
       "    <tr>\n",
       "      <th>181</th>\n",
       "      <td>del pais tinta</td>\n",
       "      <td>5.255698</td>\n",
       "    </tr>\n",
       "    <tr>\n",
       "      <th>259</th>\n",
       "      <td>gris trousseau</td>\n",
       "      <td>5.161997</td>\n",
       "    </tr>\n",
       "  </tbody>\n",
       "</table>\n",
       "</div>"
      ],
      "text/plain": [
       "             variety  points_diff\n",
       "228  gelber traminer     6.364012\n",
       "77     blauburgunder     5.782653\n",
       "284        kotsifali     5.314643\n",
       "181   del pais tinta     5.255698\n",
       "259   gris trousseau     5.161997"
      ]
     },
     "execution_count": 57,
     "metadata": {},
     "output_type": "execute_result"
    }
   ],
   "source": [
    "high_price_performance_df.groupby(['variety'], as_index = False)['points_diff'].mean().sort_values(by=['points_diff'], ascending=False).head(5)"
   ]
  },
  {
   "cell_type": "markdown",
   "metadata": {},
   "source": [
    "The following table list top 5 countries with highest price-performance values wines."
   ]
  },
  {
   "cell_type": "code",
   "execution_count": 58,
   "metadata": {},
   "outputs": [
    {
     "data": {
      "text/html": [
       "<div>\n",
       "<style scoped>\n",
       "    .dataframe tbody tr th:only-of-type {\n",
       "        vertical-align: middle;\n",
       "    }\n",
       "\n",
       "    .dataframe tbody tr th {\n",
       "        vertical-align: top;\n",
       "    }\n",
       "\n",
       "    .dataframe thead th {\n",
       "        text-align: right;\n",
       "    }\n",
       "</style>\n",
       "<table border=\"1\" class=\"dataframe\">\n",
       "  <thead>\n",
       "    <tr style=\"text-align: right;\">\n",
       "      <th></th>\n",
       "      <th>country</th>\n",
       "      <th>points_diff</th>\n",
       "    </tr>\n",
       "  </thead>\n",
       "  <tbody>\n",
       "    <tr>\n",
       "      <th>19</th>\n",
       "      <td>India</td>\n",
       "      <td>3.498144</td>\n",
       "    </tr>\n",
       "    <tr>\n",
       "      <th>3</th>\n",
       "      <td>Austria</td>\n",
       "      <td>2.642539</td>\n",
       "    </tr>\n",
       "    <tr>\n",
       "      <th>13</th>\n",
       "      <td>England</td>\n",
       "      <td>2.325428</td>\n",
       "    </tr>\n",
       "    <tr>\n",
       "      <th>7</th>\n",
       "      <td>Canada</td>\n",
       "      <td>2.216681</td>\n",
       "    </tr>\n",
       "    <tr>\n",
       "      <th>29</th>\n",
       "      <td>Portugal</td>\n",
       "      <td>2.176472</td>\n",
       "    </tr>\n",
       "  </tbody>\n",
       "</table>\n",
       "</div>"
      ],
      "text/plain": [
       "     country  points_diff\n",
       "19     India     3.498144\n",
       "3    Austria     2.642539\n",
       "13   England     2.325428\n",
       "7     Canada     2.216681\n",
       "29  Portugal     2.176472"
      ]
     },
     "execution_count": 58,
     "metadata": {},
     "output_type": "execute_result"
    }
   ],
   "source": [
    "high_price_performance_df.groupby(['country'], as_index = False)['points_diff'].mean().sort_values(by=['points_diff'], ascending=False).head(5)"
   ]
  },
  {
   "cell_type": "code",
   "execution_count": null,
   "metadata": {},
   "outputs": [],
   "source": []
  }
 ],
 "metadata": {
  "kernelspec": {
   "display_name": "Python 3",
   "language": "python",
   "name": "python3"
  },
  "language_info": {
   "codemirror_mode": {
    "name": "ipython",
    "version": 3
   },
   "file_extension": ".py",
   "mimetype": "text/x-python",
   "name": "python",
   "nbconvert_exporter": "python",
   "pygments_lexer": "ipython3",
   "version": "3.6.1"
  }
 },
 "nbformat": 4,
 "nbformat_minor": 2
}
